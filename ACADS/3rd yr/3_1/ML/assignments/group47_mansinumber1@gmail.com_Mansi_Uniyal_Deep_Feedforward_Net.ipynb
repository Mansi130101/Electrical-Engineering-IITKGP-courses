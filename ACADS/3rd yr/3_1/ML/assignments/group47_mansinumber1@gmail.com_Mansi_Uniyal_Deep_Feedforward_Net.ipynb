{
  "nbformat": 4,
  "nbformat_minor": 0,
  "metadata": {
    "colab": {
      "name": " group47_omkarmodi5859@gmail.com_Modi_Omkar_Deep_Feedforward_Net.ipynb",
      "provenance": []
    },
    "kernelspec": {
      "name": "python3",
      "display_name": "Python 3"
    },
    "language_info": {
      "name": "python"
    }
  },
  "cells": [
    {
      "cell_type": "code",
      "metadata": {
        "id": "D3DvXiMT5NR-"
      },
      "source": [
        "from tensorflow import keras\n",
        "from tensorflow.keras import layers\n",
        "from tensorflow.keras.datasets import mnist\n",
        "from tensorflow.keras import Model\n",
        "from tensorflow.keras.layers import Dense,Activation,InputLayer\n",
        "from tensorflow.keras.callbacks import EarlyStopping, ModelCheckpoint\n",
        "from tensorflow.keras.models import Sequential \n",
        "import numpy as np\n",
        "import pandas as pd\n",
        "from sklearn.neighbors import KNeighborsClassifier\n",
        "from sklearn import metrics"
      ],
      "execution_count": 1,
      "outputs": []
    },
    {
      "cell_type": "code",
      "metadata": {
        "colab": {
          "base_uri": "https://localhost:8080/"
        },
        "id": "XwCpIMKx53TG",
        "outputId": "261af056-8c22-42f7-ae41-138ff25422d0"
      },
      "source": [
        "(x_train, y_train), (x_test, y_test) = mnist.load_data()\n",
        "print(x_train.shape)\n",
        "x_train = x_train.reshape(-1, 28 * 28).astype(\"float32\") / 255.0\n",
        "x_test = x_test.reshape(-1, 28 * 28).astype(\"float32\") / 255.0\n",
        "print(x_train.shape)\n",
        "print(y_train.shape)"
      ],
      "execution_count": 2,
      "outputs": [
        {
          "output_type": "stream",
          "name": "stdout",
          "text": [
            "(60000, 28, 28)\n",
            "(60000, 784)\n",
            "(60000,)\n"
          ]
        }
      ]
    },
    {
      "cell_type": "code",
      "metadata": {
        "id": "qbeMqpen6Hg2"
      },
      "source": [
        "def fully_connected_layer():\n",
        "  model = Sequential()\n",
        "  \n",
        "  model.add(InputLayer(x_train.shape[1]))\n",
        "  model.add(Dense(100,activation = 'relu',name = 'hidden_layer'))\n",
        "  model.add(Dense(10,activation = 'softmax',name = 'output_layer'))\n",
        "\n",
        "  model.compile(optimizer=keras.optimizers.Adam(learning_rate=0.001),loss=keras.losses.SparseCategoricalCrossentropy(),metrics=[\"accuracy\"])\n",
        "\n",
        "  return model"
      ],
      "execution_count": 3,
      "outputs": []
    },
    {
      "cell_type": "code",
      "metadata": {
        "colab": {
          "base_uri": "https://localhost:8080/"
        },
        "id": "bU2Q3WPY7yAW",
        "outputId": "a5ca6e14-1c18-47c1-ad9b-98be0b7b034a"
      },
      "source": [
        "model = fully_connected_layer()\n",
        "print(model.summary())\n",
        "model.fit(x_train, y_train, batch_size=32, epochs=5, verbose=1)\n",
        "test_loss , test_acc = model.evaluate(x_test, y_test, batch_size=32, verbose=2)\n",
        "print(\"test_loss: \",test_loss)\n",
        "print(\"test accuracy: \",test_acc)"
      ],
      "execution_count": 4,
      "outputs": [
        {
          "output_type": "stream",
          "name": "stdout",
          "text": [
            "Model: \"sequential\"\n",
            "_________________________________________________________________\n",
            "Layer (type)                 Output Shape              Param #   \n",
            "=================================================================\n",
            "hidden_layer (Dense)         (None, 100)               78500     \n",
            "_________________________________________________________________\n",
            "output_layer (Dense)         (None, 10)                1010      \n",
            "=================================================================\n",
            "Total params: 79,510\n",
            "Trainable params: 79,510\n",
            "Non-trainable params: 0\n",
            "_________________________________________________________________\n",
            "None\n",
            "Epoch 1/5\n",
            "1875/1875 [==============================] - 4s 2ms/step - loss: 0.2701 - accuracy: 0.9245\n",
            "Epoch 2/5\n",
            "1875/1875 [==============================] - 3s 2ms/step - loss: 0.1220 - accuracy: 0.9646\n",
            "Epoch 3/5\n",
            "1875/1875 [==============================] - 3s 2ms/step - loss: 0.0846 - accuracy: 0.9749\n",
            "Epoch 4/5\n",
            "1875/1875 [==============================] - 3s 2ms/step - loss: 0.0663 - accuracy: 0.9801\n",
            "Epoch 5/5\n",
            "1875/1875 [==============================] - 3s 2ms/step - loss: 0.0514 - accuracy: 0.9844\n",
            "313/313 - 0s - loss: 0.0788 - accuracy: 0.9776\n",
            "test_loss:  0.07880092412233353\n",
            "test accuracy:  0.9775999784469604\n"
          ]
        }
      ]
    },
    {
      "cell_type": "code",
      "metadata": {
        "colab": {
          "base_uri": "https://localhost:8080/"
        },
        "id": "jmjuf-xcKzIb",
        "outputId": "8609e1b4-db6e-416a-c5e6-25e08b3652c9"
      },
      "source": [
        "y_pred = model.predict(x_test,batch_size=32)\n",
        "y_pred = np.argmax(y_pred,axis=-1)\n",
        "test_acc = metrics.accuracy_score(y_test,y_pred)\n",
        "precision = metrics.precision_score(y_test,y_pred,average = 'micro')\n",
        "recall = metrics.recall_score(y_test,y_pred,average = 'micro')\n",
        "f1 = metrics.f1_score(y_test,y_pred,average = 'micro')\n",
        "print(metrics.confusion_matrix(y_test,y_pred))\n",
        "\n",
        "fully_connected_reports = {'test_acc':test_acc,'precision':precision,'recall':recall,'f1_score':f1}"
      ],
      "execution_count": 5,
      "outputs": [
        {
          "output_type": "stream",
          "name": "stdout",
          "text": [
            "[[ 958    0    1    0    5    3    4    4    2    3]\n",
            " [   0 1126    2    2    0    1    3    0    1    0]\n",
            " [   2    0 1012    2    3    0    2    6    5    0]\n",
            " [   0    0    2  988    0    6    0    7    5    2]\n",
            " [   0    0    2    0  968    0    4    1    0    7]\n",
            " [   2    1    0    4    2  873    4    1    3    2]\n",
            " [   1    2    1    1    8    4  941    0    0    0]\n",
            " [   0    5    8    4    1    0    0 1002    0    8]\n",
            " [   3    0    5    8   12    6    5    5  926    4]\n",
            " [   0    5    0    4   12    1    1    3    1  982]]\n"
          ]
        }
      ]
    },
    {
      "cell_type": "code",
      "metadata": {
        "id": "HftigCuA8zcm"
      },
      "source": [
        "def neural_net():\n",
        "  model = Sequential()\n",
        "  model.add(InputLayer(x_train.shape[1]))\n",
        "  \n",
        "  model.add(Dense(10,activation = 'relu',name = 'hidden_layer1'))\n",
        "  model.add(Dense(10,activation = 'relu',name = 'hidden_layer2'))\n",
        "  model.add(Dense(10,activation = 'relu',name = 'hidden_layer3'))\n",
        "  model.add(Dense(10,activation = 'relu',name = 'hidden_layer4'))\n",
        "  model.add(Dense(10,activation = 'relu',name = 'hidden_layer5'))\n",
        "  model.add(Dense(10,activation = 'relu',name = 'hidden_layer6'))\n",
        "  model.add(Dense(10,activation = 'relu',name = 'hidden_layer7'))\n",
        "  model.add(Dense(10,activation = 'relu',name = 'hidden_layer8'))\n",
        "  model.add(Dense(10,activation = 'relu',name = 'hidden_layer9'))\n",
        "  model.add(Dense(10,activation = 'relu',name = 'hidden_layer10'))\n",
        "  model.add(Dense(10,activation = 'softmax',name = 'output_layer'))\n",
        "\n",
        "  model.compile(optimizer=keras.optimizers.Adam(learning_rate=0.001),loss=keras.losses.SparseCategoricalCrossentropy(),metrics=[\"accuracy\"])\n",
        "\n",
        "  return model"
      ],
      "execution_count": 6,
      "outputs": []
    },
    {
      "cell_type": "code",
      "metadata": {
        "colab": {
          "base_uri": "https://localhost:8080/"
        },
        "id": "m_UyAQSB-YZ_",
        "outputId": "f1508886-4eac-42fc-c437-90a33e8f0329"
      },
      "source": [
        "model = neural_net()\n",
        "print(model.summary())\n",
        "model.fit(x_train, y_train, batch_size=32, epochs=30, verbose=1)\n",
        "test_loss , test_acc = model.evaluate(x_test, y_test, batch_size=32, verbose=2)\n",
        "print(\"test_loss: \",test_loss)\n",
        "print(\"test accuracy: \",test_acc)"
      ],
      "execution_count": 14,
      "outputs": [
        {
          "output_type": "stream",
          "name": "stdout",
          "text": [
            "Model: \"sequential_2\"\n",
            "_________________________________________________________________\n",
            "Layer (type)                 Output Shape              Param #   \n",
            "=================================================================\n",
            "hidden_layer1 (Dense)        (None, 10)                7850      \n",
            "_________________________________________________________________\n",
            "hidden_layer2 (Dense)        (None, 10)                110       \n",
            "_________________________________________________________________\n",
            "hidden_layer3 (Dense)        (None, 10)                110       \n",
            "_________________________________________________________________\n",
            "hidden_layer4 (Dense)        (None, 10)                110       \n",
            "_________________________________________________________________\n",
            "hidden_layer5 (Dense)        (None, 10)                110       \n",
            "_________________________________________________________________\n",
            "hidden_layer6 (Dense)        (None, 10)                110       \n",
            "_________________________________________________________________\n",
            "hidden_layer7 (Dense)        (None, 10)                110       \n",
            "_________________________________________________________________\n",
            "hidden_layer8 (Dense)        (None, 10)                110       \n",
            "_________________________________________________________________\n",
            "hidden_layer9 (Dense)        (None, 10)                110       \n",
            "_________________________________________________________________\n",
            "hidden_layer10 (Dense)       (None, 10)                110       \n",
            "_________________________________________________________________\n",
            "output_layer (Dense)         (None, 10)                110       \n",
            "=================================================================\n",
            "Total params: 8,950\n",
            "Trainable params: 8,950\n",
            "Non-trainable params: 0\n",
            "_________________________________________________________________\n",
            "None\n",
            "Epoch 1/30\n",
            "1875/1875 [==============================] - 5s 2ms/step - loss: 1.2363 - accuracy: 0.5562\n",
            "Epoch 2/30\n",
            "1875/1875 [==============================] - 4s 2ms/step - loss: 0.5893 - accuracy: 0.8321\n",
            "Epoch 3/30\n",
            "1875/1875 [==============================] - 4s 2ms/step - loss: 0.4507 - accuracy: 0.8738\n",
            "Epoch 4/30\n",
            "1875/1875 [==============================] - 4s 2ms/step - loss: 0.4053 - accuracy: 0.8862\n",
            "Epoch 5/30\n",
            "1875/1875 [==============================] - 4s 2ms/step - loss: 0.3734 - accuracy: 0.8941\n",
            "Epoch 6/30\n",
            "1875/1875 [==============================] - 4s 2ms/step - loss: 0.3532 - accuracy: 0.8999\n",
            "Epoch 7/30\n",
            "1875/1875 [==============================] - 4s 2ms/step - loss: 0.3363 - accuracy: 0.9055\n",
            "Epoch 8/30\n",
            "1875/1875 [==============================] - 4s 2ms/step - loss: 0.3209 - accuracy: 0.9094\n",
            "Epoch 9/30\n",
            "1875/1875 [==============================] - 4s 2ms/step - loss: 0.3071 - accuracy: 0.9128\n",
            "Epoch 10/30\n",
            "1875/1875 [==============================] - 4s 2ms/step - loss: 0.2929 - accuracy: 0.9179\n",
            "Epoch 11/30\n",
            "1875/1875 [==============================] - 4s 2ms/step - loss: 0.2789 - accuracy: 0.9211\n",
            "Epoch 12/30\n",
            "1875/1875 [==============================] - 4s 2ms/step - loss: 0.2702 - accuracy: 0.9230\n",
            "Epoch 13/30\n",
            "1875/1875 [==============================] - 4s 2ms/step - loss: 0.2649 - accuracy: 0.9244\n",
            "Epoch 14/30\n",
            "1875/1875 [==============================] - 4s 2ms/step - loss: 0.2590 - accuracy: 0.9266\n",
            "Epoch 15/30\n",
            "1875/1875 [==============================] - 4s 2ms/step - loss: 0.2524 - accuracy: 0.9284\n",
            "Epoch 16/30\n",
            "1875/1875 [==============================] - 4s 2ms/step - loss: 0.2486 - accuracy: 0.9288\n",
            "Epoch 17/30\n",
            "1875/1875 [==============================] - 4s 2ms/step - loss: 0.2422 - accuracy: 0.9303\n",
            "Epoch 18/30\n",
            "1875/1875 [==============================] - 4s 2ms/step - loss: 0.2379 - accuracy: 0.9318\n",
            "Epoch 19/30\n",
            "1875/1875 [==============================] - 4s 2ms/step - loss: 0.2358 - accuracy: 0.9321\n",
            "Epoch 20/30\n",
            "1875/1875 [==============================] - 4s 2ms/step - loss: 0.2321 - accuracy: 0.9341\n",
            "Epoch 21/30\n",
            "1875/1875 [==============================] - 4s 2ms/step - loss: 0.2284 - accuracy: 0.9339\n",
            "Epoch 22/30\n",
            "1875/1875 [==============================] - 4s 2ms/step - loss: 0.2276 - accuracy: 0.9346\n",
            "Epoch 23/30\n",
            "1875/1875 [==============================] - 4s 2ms/step - loss: 0.2254 - accuracy: 0.9337\n",
            "Epoch 24/30\n",
            "1875/1875 [==============================] - 4s 2ms/step - loss: 0.2211 - accuracy: 0.9364\n",
            "Epoch 25/30\n",
            "1875/1875 [==============================] - 4s 2ms/step - loss: 0.2187 - accuracy: 0.9375\n",
            "Epoch 26/30\n",
            "1875/1875 [==============================] - 4s 2ms/step - loss: 0.2157 - accuracy: 0.9372\n",
            "Epoch 27/30\n",
            "1875/1875 [==============================] - 4s 2ms/step - loss: 0.2143 - accuracy: 0.9376\n",
            "Epoch 28/30\n",
            "1875/1875 [==============================] - 4s 2ms/step - loss: 0.2131 - accuracy: 0.9383\n",
            "Epoch 29/30\n",
            "1875/1875 [==============================] - 4s 2ms/step - loss: 0.2110 - accuracy: 0.9384\n",
            "Epoch 30/30\n",
            "1875/1875 [==============================] - 4s 2ms/step - loss: 0.2101 - accuracy: 0.9392\n",
            "313/313 - 0s - loss: 0.2807 - accuracy: 0.9236\n",
            "test_loss:  0.2807280719280243\n",
            "test accuracy:  0.9236000180244446\n"
          ]
        }
      ]
    },
    {
      "cell_type": "code",
      "metadata": {
        "colab": {
          "base_uri": "https://localhost:8080/"
        },
        "id": "SDyRIBNEMn5P",
        "outputId": "eab3c086-3eb0-43d3-909f-ca28039e4686"
      },
      "source": [
        "y_pred = model.predict(x_test,batch_size=32)\n",
        "y_pred = np.argmax(y_pred,axis=-1)\n",
        "test_acc = metrics.accuracy_score(y_test,y_pred)\n",
        "precision = metrics.precision_score(y_test,y_pred,average = 'micro')\n",
        "recall = metrics.recall_score(y_test,y_pred,average = 'micro')\n",
        "f1 = metrics.f1_score(y_test,y_pred,average = 'micro')\n",
        "print(metrics.confusion_matrix(y_test,y_pred))\n",
        "\n",
        "neuralnet_reports = {'test_acc':test_acc,'precision':precision,'recall':recall,'f1_score':f1}"
      ],
      "execution_count": 15,
      "outputs": [
        {
          "output_type": "stream",
          "name": "stdout",
          "text": [
            "[[ 941    0    6    0    0    4    8    5   14    2]\n",
            " [   0 1116    4    2    0    0    2    5    6    0]\n",
            " [  20    3  939   11   16    5    3    7   25    3]\n",
            " [   1    1   56  860    0   48    0    9   29    6]\n",
            " [   0    3    7    0  941    2    4    3    9   13]\n",
            " [  13    2    2   38    3  755   14    0   59    6]\n",
            " [  11    2    1    0   11    7  921    0    5    0]\n",
            " [   1   12   22    6    5    0    0  959    5   18]\n",
            " [   7    3    7   12    6   11    3    3  903   19]\n",
            " [   5    5    0    7   37    6    1   16   31  901]]\n"
          ]
        }
      ]
    },
    {
      "cell_type": "code",
      "metadata": {
        "id": "_rR3emEnMwzv"
      },
      "source": [
        "df = pd.DataFrame(columns = list(fully_connected_reports.keys()),index = ['fully connected','deep neural network'])"
      ],
      "execution_count": 16,
      "outputs": []
    },
    {
      "cell_type": "code",
      "metadata": {
        "colab": {
          "base_uri": "https://localhost:8080/",
          "height": 110
        },
        "id": "QYLYfULsNMFh",
        "outputId": "dac11358-e9c9-4001-f478-f0df8142e3f6"
      },
      "source": [
        "df.loc['fully connected'] = fully_connected_reports\n",
        "df.loc['deep neural network'] = neuralnet_reports\n",
        "df"
      ],
      "execution_count": 17,
      "outputs": [
        {
          "output_type": "execute_result",
          "data": {
            "text/html": [
              "<div>\n",
              "<style scoped>\n",
              "    .dataframe tbody tr th:only-of-type {\n",
              "        vertical-align: middle;\n",
              "    }\n",
              "\n",
              "    .dataframe tbody tr th {\n",
              "        vertical-align: top;\n",
              "    }\n",
              "\n",
              "    .dataframe thead th {\n",
              "        text-align: right;\n",
              "    }\n",
              "</style>\n",
              "<table border=\"1\" class=\"dataframe\">\n",
              "  <thead>\n",
              "    <tr style=\"text-align: right;\">\n",
              "      <th></th>\n",
              "      <th>test_acc</th>\n",
              "      <th>precision</th>\n",
              "      <th>recall</th>\n",
              "      <th>f1_score</th>\n",
              "    </tr>\n",
              "  </thead>\n",
              "  <tbody>\n",
              "    <tr>\n",
              "      <th>fully connected</th>\n",
              "      <td>0.9776</td>\n",
              "      <td>0.9776</td>\n",
              "      <td>0.9776</td>\n",
              "      <td>0.9776</td>\n",
              "    </tr>\n",
              "    <tr>\n",
              "      <th>deep neural network</th>\n",
              "      <td>0.9236</td>\n",
              "      <td>0.9236</td>\n",
              "      <td>0.9236</td>\n",
              "      <td>0.9236</td>\n",
              "    </tr>\n",
              "  </tbody>\n",
              "</table>\n",
              "</div>"
            ],
            "text/plain": [
              "                    test_acc precision  recall f1_score\n",
              "fully connected       0.9776    0.9776  0.9776   0.9776\n",
              "deep neural network   0.9236    0.9236  0.9236   0.9236"
            ]
          },
          "metadata": {},
          "execution_count": 17
        }
      ]
    },
    {
      "cell_type": "markdown",
      "metadata": {
        "id": "N8MuoZUFQ6G3"
      },
      "source": [
        "It can be observed that the test accuracy of fully connected layer with one hidden layer is more than that of deep neural network. so adding dense layer with relu activation isn't learning more features."
      ]
    },
    {
      "cell_type": "code",
      "metadata": {
        "id": "tVd_HUo9FvDa"
      },
      "source": [
        "def feature_classifier(model,layer_no):\n",
        "  extract = Model(model.inputs, model.layers[layer_no-1].output)\n",
        "  features = extract.predict(x_train)\n",
        "  test_features = extract.predict(x_test)\n",
        "  cls = KNeighborsClassifier(n_neighbors=5)\n",
        "  cls.fit(features,y_train)\n",
        "  y_pred = cls.predict(test_features)\n",
        "  print(\"test accuracy for {}th layer features: \".format(layer_no),metrics.accuracy_score(y_test,y_pred))\n",
        "  "
      ],
      "execution_count": 11,
      "outputs": []
    },
    {
      "cell_type": "code",
      "metadata": {
        "colab": {
          "base_uri": "https://localhost:8080/"
        },
        "id": "ytZO3l-KHXnp",
        "outputId": "fdeee11e-4ffe-4ac4-f4e8-2a7fc751f8d6"
      },
      "source": [
        "feature_classifier(model,5)\n",
        "feature_classifier(model,7)\n",
        "feature_classifier(model,10)"
      ],
      "execution_count": 12,
      "outputs": [
        {
          "output_type": "stream",
          "name": "stdout",
          "text": [
            "test accuracy for 5th layer features:  0.9229\n",
            "test accuracy for 7th layer features:  0.923\n",
            "test accuracy for 10th layer features:  0.924\n"
          ]
        }
      ]
    },
    {
      "cell_type": "markdown",
      "metadata": {
        "id": "hR4PAuTzSYEs"
      },
      "source": [
        "Test accuracy from feature extracted from 5th, 7th and 10th layer are almost equal. so adding more hidden layers isn't much useful."
      ]
    }
  ]
}