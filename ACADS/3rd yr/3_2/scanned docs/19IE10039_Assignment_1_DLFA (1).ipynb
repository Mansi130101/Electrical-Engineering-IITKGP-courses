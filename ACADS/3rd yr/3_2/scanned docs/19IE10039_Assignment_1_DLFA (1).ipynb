{
  "nbformat": 4,
  "nbformat_minor": 0,
  "metadata": {
    "colab": {
      "name": "19IE10039_Assignment_1_DLFA.ipynb",
      "provenance": []
    },
    "kernelspec": {
      "name": "python3",
      "display_name": "Python 3"
    },
    "language_info": {
      "name": "python"
    },
    "accelerator": "GPU",
    "widgets": {
      "application/vnd.jupyter.widget-state+json": {
        "0098e5e8c39849d4a53cebf9f90cc01c": {
          "model_module": "@jupyter-widgets/controls",
          "model_name": "HBoxModel",
          "model_module_version": "1.5.0",
          "state": {
            "_dom_classes": [],
            "_model_module": "@jupyter-widgets/controls",
            "_model_module_version": "1.5.0",
            "_model_name": "HBoxModel",
            "_view_count": null,
            "_view_module": "@jupyter-widgets/controls",
            "_view_module_version": "1.5.0",
            "_view_name": "HBoxView",
            "box_style": "",
            "children": [
              "IPY_MODEL_cbb6f21ac4004c398c1216682f1ebd41",
              "IPY_MODEL_bf0e59e2eab34813b69a62a163935a72",
              "IPY_MODEL_23051ad04d874790939ee3df12161bff"
            ],
            "layout": "IPY_MODEL_e8a7cb269855468a821a78fdd70b6a74"
          }
        },
        "cbb6f21ac4004c398c1216682f1ebd41": {
          "model_module": "@jupyter-widgets/controls",
          "model_name": "HTMLModel",
          "model_module_version": "1.5.0",
          "state": {
            "_dom_classes": [],
            "_model_module": "@jupyter-widgets/controls",
            "_model_module_version": "1.5.0",
            "_model_name": "HTMLModel",
            "_view_count": null,
            "_view_module": "@jupyter-widgets/controls",
            "_view_module_version": "1.5.0",
            "_view_name": "HTMLView",
            "description": "",
            "description_tooltip": null,
            "layout": "IPY_MODEL_2c090069ecb74058aaa62ec5a54fc761",
            "placeholder": "​",
            "style": "IPY_MODEL_8b071486f6fc419593d21465bca59dda",
            "value": "  0%"
          }
        },
        "bf0e59e2eab34813b69a62a163935a72": {
          "model_module": "@jupyter-widgets/controls",
          "model_name": "FloatProgressModel",
          "model_module_version": "1.5.0",
          "state": {
            "_dom_classes": [],
            "_model_module": "@jupyter-widgets/controls",
            "_model_module_version": "1.5.0",
            "_model_name": "FloatProgressModel",
            "_view_count": null,
            "_view_module": "@jupyter-widgets/controls",
            "_view_module_version": "1.5.0",
            "_view_name": "ProgressView",
            "bar_style": "danger",
            "description": "",
            "description_tooltip": null,
            "layout": "IPY_MODEL_fcd5fb5ed85b4a62bf2fc8454b666707",
            "max": 3,
            "min": 0,
            "orientation": "horizontal",
            "style": "IPY_MODEL_0c473ff7593d4b2ebf15f9dd0e17fb6d",
            "value": 0
          }
        },
        "23051ad04d874790939ee3df12161bff": {
          "model_module": "@jupyter-widgets/controls",
          "model_name": "HTMLModel",
          "model_module_version": "1.5.0",
          "state": {
            "_dom_classes": [],
            "_model_module": "@jupyter-widgets/controls",
            "_model_module_version": "1.5.0",
            "_model_name": "HTMLModel",
            "_view_count": null,
            "_view_module": "@jupyter-widgets/controls",
            "_view_module_version": "1.5.0",
            "_view_name": "HTMLView",
            "description": "",
            "description_tooltip": null,
            "layout": "IPY_MODEL_03864feb189f41dab47ce009595d60e2",
            "placeholder": "​",
            "style": "IPY_MODEL_5fa1414589cd40f0ab511c821bab2b10",
            "value": " 0/3 [08:43&lt;?, ?it/s]"
          }
        },
        "e8a7cb269855468a821a78fdd70b6a74": {
          "model_module": "@jupyter-widgets/base",
          "model_name": "LayoutModel",
          "model_module_version": "1.2.0",
          "state": {
            "_model_module": "@jupyter-widgets/base",
            "_model_module_version": "1.2.0",
            "_model_name": "LayoutModel",
            "_view_count": null,
            "_view_module": "@jupyter-widgets/base",
            "_view_module_version": "1.2.0",
            "_view_name": "LayoutView",
            "align_content": null,
            "align_items": null,
            "align_self": null,
            "border": null,
            "bottom": null,
            "display": null,
            "flex": null,
            "flex_flow": null,
            "grid_area": null,
            "grid_auto_columns": null,
            "grid_auto_flow": null,
            "grid_auto_rows": null,
            "grid_column": null,
            "grid_gap": null,
            "grid_row": null,
            "grid_template_areas": null,
            "grid_template_columns": null,
            "grid_template_rows": null,
            "height": null,
            "justify_content": null,
            "justify_items": null,
            "left": null,
            "margin": null,
            "max_height": null,
            "max_width": null,
            "min_height": null,
            "min_width": null,
            "object_fit": null,
            "object_position": null,
            "order": null,
            "overflow": null,
            "overflow_x": null,
            "overflow_y": null,
            "padding": null,
            "right": null,
            "top": null,
            "visibility": null,
            "width": null
          }
        },
        "2c090069ecb74058aaa62ec5a54fc761": {
          "model_module": "@jupyter-widgets/base",
          "model_name": "LayoutModel",
          "model_module_version": "1.2.0",
          "state": {
            "_model_module": "@jupyter-widgets/base",
            "_model_module_version": "1.2.0",
            "_model_name": "LayoutModel",
            "_view_count": null,
            "_view_module": "@jupyter-widgets/base",
            "_view_module_version": "1.2.0",
            "_view_name": "LayoutView",
            "align_content": null,
            "align_items": null,
            "align_self": null,
            "border": null,
            "bottom": null,
            "display": null,
            "flex": null,
            "flex_flow": null,
            "grid_area": null,
            "grid_auto_columns": null,
            "grid_auto_flow": null,
            "grid_auto_rows": null,
            "grid_column": null,
            "grid_gap": null,
            "grid_row": null,
            "grid_template_areas": null,
            "grid_template_columns": null,
            "grid_template_rows": null,
            "height": null,
            "justify_content": null,
            "justify_items": null,
            "left": null,
            "margin": null,
            "max_height": null,
            "max_width": null,
            "min_height": null,
            "min_width": null,
            "object_fit": null,
            "object_position": null,
            "order": null,
            "overflow": null,
            "overflow_x": null,
            "overflow_y": null,
            "padding": null,
            "right": null,
            "top": null,
            "visibility": null,
            "width": null
          }
        },
        "8b071486f6fc419593d21465bca59dda": {
          "model_module": "@jupyter-widgets/controls",
          "model_name": "DescriptionStyleModel",
          "model_module_version": "1.5.0",
          "state": {
            "_model_module": "@jupyter-widgets/controls",
            "_model_module_version": "1.5.0",
            "_model_name": "DescriptionStyleModel",
            "_view_count": null,
            "_view_module": "@jupyter-widgets/base",
            "_view_module_version": "1.2.0",
            "_view_name": "StyleView",
            "description_width": ""
          }
        },
        "fcd5fb5ed85b4a62bf2fc8454b666707": {
          "model_module": "@jupyter-widgets/base",
          "model_name": "LayoutModel",
          "model_module_version": "1.2.0",
          "state": {
            "_model_module": "@jupyter-widgets/base",
            "_model_module_version": "1.2.0",
            "_model_name": "LayoutModel",
            "_view_count": null,
            "_view_module": "@jupyter-widgets/base",
            "_view_module_version": "1.2.0",
            "_view_name": "LayoutView",
            "align_content": null,
            "align_items": null,
            "align_self": null,
            "border": null,
            "bottom": null,
            "display": null,
            "flex": null,
            "flex_flow": null,
            "grid_area": null,
            "grid_auto_columns": null,
            "grid_auto_flow": null,
            "grid_auto_rows": null,
            "grid_column": null,
            "grid_gap": null,
            "grid_row": null,
            "grid_template_areas": null,
            "grid_template_columns": null,
            "grid_template_rows": null,
            "height": null,
            "justify_content": null,
            "justify_items": null,
            "left": null,
            "margin": null,
            "max_height": null,
            "max_width": null,
            "min_height": null,
            "min_width": null,
            "object_fit": null,
            "object_position": null,
            "order": null,
            "overflow": null,
            "overflow_x": null,
            "overflow_y": null,
            "padding": null,
            "right": null,
            "top": null,
            "visibility": null,
            "width": null
          }
        },
        "0c473ff7593d4b2ebf15f9dd0e17fb6d": {
          "model_module": "@jupyter-widgets/controls",
          "model_name": "ProgressStyleModel",
          "model_module_version": "1.5.0",
          "state": {
            "_model_module": "@jupyter-widgets/controls",
            "_model_module_version": "1.5.0",
            "_model_name": "ProgressStyleModel",
            "_view_count": null,
            "_view_module": "@jupyter-widgets/base",
            "_view_module_version": "1.2.0",
            "_view_name": "StyleView",
            "bar_color": null,
            "description_width": ""
          }
        },
        "03864feb189f41dab47ce009595d60e2": {
          "model_module": "@jupyter-widgets/base",
          "model_name": "LayoutModel",
          "model_module_version": "1.2.0",
          "state": {
            "_model_module": "@jupyter-widgets/base",
            "_model_module_version": "1.2.0",
            "_model_name": "LayoutModel",
            "_view_count": null,
            "_view_module": "@jupyter-widgets/base",
            "_view_module_version": "1.2.0",
            "_view_name": "LayoutView",
            "align_content": null,
            "align_items": null,
            "align_self": null,
            "border": null,
            "bottom": null,
            "display": null,
            "flex": null,
            "flex_flow": null,
            "grid_area": null,
            "grid_auto_columns": null,
            "grid_auto_flow": null,
            "grid_auto_rows": null,
            "grid_column": null,
            "grid_gap": null,
            "grid_row": null,
            "grid_template_areas": null,
            "grid_template_columns": null,
            "grid_template_rows": null,
            "height": null,
            "justify_content": null,
            "justify_items": null,
            "left": null,
            "margin": null,
            "max_height": null,
            "max_width": null,
            "min_height": null,
            "min_width": null,
            "object_fit": null,
            "object_position": null,
            "order": null,
            "overflow": null,
            "overflow_x": null,
            "overflow_y": null,
            "padding": null,
            "right": null,
            "top": null,
            "visibility": null,
            "width": null
          }
        },
        "5fa1414589cd40f0ab511c821bab2b10": {
          "model_module": "@jupyter-widgets/controls",
          "model_name": "DescriptionStyleModel",
          "model_module_version": "1.5.0",
          "state": {
            "_model_module": "@jupyter-widgets/controls",
            "_model_module_version": "1.5.0",
            "_model_name": "DescriptionStyleModel",
            "_view_count": null,
            "_view_module": "@jupyter-widgets/base",
            "_view_module_version": "1.2.0",
            "_view_name": "StyleView",
            "description_width": ""
          }
        },
        "0ce97b8e06f84422aa91447b83694096": {
          "model_module": "@jupyter-widgets/controls",
          "model_name": "HBoxModel",
          "model_module_version": "1.5.0",
          "state": {
            "_dom_classes": [],
            "_model_module": "@jupyter-widgets/controls",
            "_model_module_version": "1.5.0",
            "_model_name": "HBoxModel",
            "_view_count": null,
            "_view_module": "@jupyter-widgets/controls",
            "_view_module_version": "1.5.0",
            "_view_name": "HBoxView",
            "box_style": "",
            "children": [
              "IPY_MODEL_64ad44fbca4048d0817c560f11d486c3",
              "IPY_MODEL_322434d2dcac41b8a63f02f766a1d7b9",
              "IPY_MODEL_8f8c41fc077846428ac2a8619159bed0"
            ],
            "layout": "IPY_MODEL_705598fc6aaa423189b43440b4de3c2c"
          }
        },
        "64ad44fbca4048d0817c560f11d486c3": {
          "model_module": "@jupyter-widgets/controls",
          "model_name": "HTMLModel",
          "model_module_version": "1.5.0",
          "state": {
            "_dom_classes": [],
            "_model_module": "@jupyter-widgets/controls",
            "_model_module_version": "1.5.0",
            "_model_name": "HTMLModel",
            "_view_count": null,
            "_view_module": "@jupyter-widgets/controls",
            "_view_module_version": "1.5.0",
            "_view_name": "HTMLView",
            "description": "",
            "description_tooltip": null,
            "layout": "IPY_MODEL_fc9488b182694503b12ff2b1d60b777a",
            "placeholder": "​",
            "style": "IPY_MODEL_45fb996054ad49848a835b7d777a59ca",
            "value": "  1%"
          }
        },
        "322434d2dcac41b8a63f02f766a1d7b9": {
          "model_module": "@jupyter-widgets/controls",
          "model_name": "FloatProgressModel",
          "model_module_version": "1.5.0",
          "state": {
            "_dom_classes": [],
            "_model_module": "@jupyter-widgets/controls",
            "_model_module_version": "1.5.0",
            "_model_name": "FloatProgressModel",
            "_view_count": null,
            "_view_module": "@jupyter-widgets/controls",
            "_view_module_version": "1.5.0",
            "_view_name": "ProgressView",
            "bar_style": "danger",
            "description": "",
            "description_tooltip": null,
            "layout": "IPY_MODEL_a317b659434b4d6889f2ccffd772ff4f",
            "max": 382,
            "min": 0,
            "orientation": "horizontal",
            "style": "IPY_MODEL_650d913ddf404a7e9ebebad144138e0c",
            "value": 5
          }
        },
        "8f8c41fc077846428ac2a8619159bed0": {
          "model_module": "@jupyter-widgets/controls",
          "model_name": "HTMLModel",
          "model_module_version": "1.5.0",
          "state": {
            "_dom_classes": [],
            "_model_module": "@jupyter-widgets/controls",
            "_model_module_version": "1.5.0",
            "_model_name": "HTMLModel",
            "_view_count": null,
            "_view_module": "@jupyter-widgets/controls",
            "_view_module_version": "1.5.0",
            "_view_name": "HTMLView",
            "description": "",
            "description_tooltip": null,
            "layout": "IPY_MODEL_056c419d5fa64f7d816c9718383e1d4b",
            "placeholder": "​",
            "style": "IPY_MODEL_0bdeaad282f6419eaa25d1a2a72a7ff1",
            "value": " 5/382 [08:43&lt;9:04:02, 86.58s/it]"
          }
        },
        "705598fc6aaa423189b43440b4de3c2c": {
          "model_module": "@jupyter-widgets/base",
          "model_name": "LayoutModel",
          "model_module_version": "1.2.0",
          "state": {
            "_model_module": "@jupyter-widgets/base",
            "_model_module_version": "1.2.0",
            "_model_name": "LayoutModel",
            "_view_count": null,
            "_view_module": "@jupyter-widgets/base",
            "_view_module_version": "1.2.0",
            "_view_name": "LayoutView",
            "align_content": null,
            "align_items": null,
            "align_self": null,
            "border": null,
            "bottom": null,
            "display": null,
            "flex": null,
            "flex_flow": null,
            "grid_area": null,
            "grid_auto_columns": null,
            "grid_auto_flow": null,
            "grid_auto_rows": null,
            "grid_column": null,
            "grid_gap": null,
            "grid_row": null,
            "grid_template_areas": null,
            "grid_template_columns": null,
            "grid_template_rows": null,
            "height": null,
            "justify_content": null,
            "justify_items": null,
            "left": null,
            "margin": null,
            "max_height": null,
            "max_width": null,
            "min_height": null,
            "min_width": null,
            "object_fit": null,
            "object_position": null,
            "order": null,
            "overflow": null,
            "overflow_x": null,
            "overflow_y": null,
            "padding": null,
            "right": null,
            "top": null,
            "visibility": null,
            "width": null
          }
        },
        "fc9488b182694503b12ff2b1d60b777a": {
          "model_module": "@jupyter-widgets/base",
          "model_name": "LayoutModel",
          "model_module_version": "1.2.0",
          "state": {
            "_model_module": "@jupyter-widgets/base",
            "_model_module_version": "1.2.0",
            "_model_name": "LayoutModel",
            "_view_count": null,
            "_view_module": "@jupyter-widgets/base",
            "_view_module_version": "1.2.0",
            "_view_name": "LayoutView",
            "align_content": null,
            "align_items": null,
            "align_self": null,
            "border": null,
            "bottom": null,
            "display": null,
            "flex": null,
            "flex_flow": null,
            "grid_area": null,
            "grid_auto_columns": null,
            "grid_auto_flow": null,
            "grid_auto_rows": null,
            "grid_column": null,
            "grid_gap": null,
            "grid_row": null,
            "grid_template_areas": null,
            "grid_template_columns": null,
            "grid_template_rows": null,
            "height": null,
            "justify_content": null,
            "justify_items": null,
            "left": null,
            "margin": null,
            "max_height": null,
            "max_width": null,
            "min_height": null,
            "min_width": null,
            "object_fit": null,
            "object_position": null,
            "order": null,
            "overflow": null,
            "overflow_x": null,
            "overflow_y": null,
            "padding": null,
            "right": null,
            "top": null,
            "visibility": null,
            "width": null
          }
        },
        "45fb996054ad49848a835b7d777a59ca": {
          "model_module": "@jupyter-widgets/controls",
          "model_name": "DescriptionStyleModel",
          "model_module_version": "1.5.0",
          "state": {
            "_model_module": "@jupyter-widgets/controls",
            "_model_module_version": "1.5.0",
            "_model_name": "DescriptionStyleModel",
            "_view_count": null,
            "_view_module": "@jupyter-widgets/base",
            "_view_module_version": "1.2.0",
            "_view_name": "StyleView",
            "description_width": ""
          }
        },
        "a317b659434b4d6889f2ccffd772ff4f": {
          "model_module": "@jupyter-widgets/base",
          "model_name": "LayoutModel",
          "model_module_version": "1.2.0",
          "state": {
            "_model_module": "@jupyter-widgets/base",
            "_model_module_version": "1.2.0",
            "_model_name": "LayoutModel",
            "_view_count": null,
            "_view_module": "@jupyter-widgets/base",
            "_view_module_version": "1.2.0",
            "_view_name": "LayoutView",
            "align_content": null,
            "align_items": null,
            "align_self": null,
            "border": null,
            "bottom": null,
            "display": null,
            "flex": null,
            "flex_flow": null,
            "grid_area": null,
            "grid_auto_columns": null,
            "grid_auto_flow": null,
            "grid_auto_rows": null,
            "grid_column": null,
            "grid_gap": null,
            "grid_row": null,
            "grid_template_areas": null,
            "grid_template_columns": null,
            "grid_template_rows": null,
            "height": null,
            "justify_content": null,
            "justify_items": null,
            "left": null,
            "margin": null,
            "max_height": null,
            "max_width": null,
            "min_height": null,
            "min_width": null,
            "object_fit": null,
            "object_position": null,
            "order": null,
            "overflow": null,
            "overflow_x": null,
            "overflow_y": null,
            "padding": null,
            "right": null,
            "top": null,
            "visibility": null,
            "width": null
          }
        },
        "650d913ddf404a7e9ebebad144138e0c": {
          "model_module": "@jupyter-widgets/controls",
          "model_name": "ProgressStyleModel",
          "model_module_version": "1.5.0",
          "state": {
            "_model_module": "@jupyter-widgets/controls",
            "_model_module_version": "1.5.0",
            "_model_name": "ProgressStyleModel",
            "_view_count": null,
            "_view_module": "@jupyter-widgets/base",
            "_view_module_version": "1.2.0",
            "_view_name": "StyleView",
            "bar_color": null,
            "description_width": ""
          }
        },
        "056c419d5fa64f7d816c9718383e1d4b": {
          "model_module": "@jupyter-widgets/base",
          "model_name": "LayoutModel",
          "model_module_version": "1.2.0",
          "state": {
            "_model_module": "@jupyter-widgets/base",
            "_model_module_version": "1.2.0",
            "_model_name": "LayoutModel",
            "_view_count": null,
            "_view_module": "@jupyter-widgets/base",
            "_view_module_version": "1.2.0",
            "_view_name": "LayoutView",
            "align_content": null,
            "align_items": null,
            "align_self": null,
            "border": null,
            "bottom": null,
            "display": null,
            "flex": null,
            "flex_flow": null,
            "grid_area": null,
            "grid_auto_columns": null,
            "grid_auto_flow": null,
            "grid_auto_rows": null,
            "grid_column": null,
            "grid_gap": null,
            "grid_row": null,
            "grid_template_areas": null,
            "grid_template_columns": null,
            "grid_template_rows": null,
            "height": null,
            "justify_content": null,
            "justify_items": null,
            "left": null,
            "margin": null,
            "max_height": null,
            "max_width": null,
            "min_height": null,
            "min_width": null,
            "object_fit": null,
            "object_position": null,
            "order": null,
            "overflow": null,
            "overflow_x": null,
            "overflow_y": null,
            "padding": null,
            "right": null,
            "top": null,
            "visibility": null,
            "width": null
          }
        },
        "0bdeaad282f6419eaa25d1a2a72a7ff1": {
          "model_module": "@jupyter-widgets/controls",
          "model_name": "DescriptionStyleModel",
          "model_module_version": "1.5.0",
          "state": {
            "_model_module": "@jupyter-widgets/controls",
            "_model_module_version": "1.5.0",
            "_model_name": "DescriptionStyleModel",
            "_view_count": null,
            "_view_module": "@jupyter-widgets/base",
            "_view_module_version": "1.2.0",
            "_view_name": "StyleView",
            "description_width": ""
          }
        }
      }
    }
  },
  "cells": [
    {
      "cell_type": "code",
      "source": [
        "import os\n",
        "from PIL import Image\n",
        "import numpy as np\n",
        "import pandas as pd\n",
        "import matplotlib.pyplot as plt\n",
        "from sklearn.cluster import KMeans\n",
        "\n",
        "import torch\n",
        "import torch.nn as nn\n",
        "import torch.nn.functional as F\n",
        "import torch.optim as optim\n",
        "from torch.utils.data import Dataset, DataLoader, random_split\n",
        "import torchvision\n",
        "from torchvision import transforms\n",
        "\n",
        "from tqdm.notebook import tqdm"
      ],
      "metadata": {
        "id": "l06PaUZ1myff"
      },
      "execution_count": 1,
      "outputs": []
    },
    {
      "cell_type": "code",
      "source": [
        "import matplotlib.pyplot as plt"
      ],
      "metadata": {
        "id": "pORZM7pUfv-f"
      },
      "execution_count": 2,
      "outputs": []
    },
    {
      "cell_type": "code",
      "source": [
        "from google.colab import drive\n",
        "drive.mount('/content/drive')"
      ],
      "metadata": {
        "colab": {
          "base_uri": "https://localhost:8080/"
        },
        "id": "M5XMkyhIj6J4",
        "outputId": "bd45707c-5175-424f-ff64-4718f23e1024"
      },
      "execution_count": 3,
      "outputs": [
        {
          "output_type": "stream",
          "name": "stdout",
          "text": [
            "Mounted at /content/drive\n"
          ]
        }
      ]
    },
    {
      "cell_type": "markdown",
      "source": [
        "/content/drive/MyDrive/dlfa assignments/assignment 1/data/images"
      ],
      "metadata": {
        "id": "MtbVi1bbBUsk"
      }
    },
    {
      "cell_type": "markdown",
      "source": [
        "Loading and visualising data"
      ],
      "metadata": {
        "id": "VfPdyJ-hFy7O"
      }
    },
    {
      "cell_type": "code",
      "source": [
        "# Run\n",
        "class LoadDataset(Dataset):\n",
        "    def __init__(self, image_dir, mask_dir):\n",
        "        self.image_dir = image_dir\n",
        "        self.mask_dir = mask_dir\n",
        "        self.images = os.listdir(image_dir)\n",
        "        #self.masks=os.listdir(mask_dir)\n",
        "\n",
        "    def __len__(self):\n",
        "        return len(self.images)\n",
        "\n",
        "    def __getitem1__(self, index):\n",
        "        img_path = os.path.join(self.image_dir, self.images[index])\n",
        "        mask_path = os.path.join(self.mask_dir, self.images[index].replace(\".jpg\", \".bmp\"))\n",
        "        image = np.array(Image.open(img_path).convert(\"RGB\"))\n",
        "        mask = np.array(Image.open(mask_path).convert(\"RGB\"))\n",
        "        return image, mask\n",
        "\n",
        "    def __getitem__(self, index):#returns preprocessed image and mask ka ndarray\n",
        "        img_path = os.path.join(self.image_dir, self.images[index])\n",
        "        mask_path = os.path.join(self.mask_dir, self.images[index].replace(\".jpg\", \".bmp\"))\n",
        "        \n",
        "        image_pil = Image.open(img_path).convert(\"RGB\")\n",
        "        mask_pil = Image.open(mask_path).convert(\"RGB\")\n",
        "        \n",
        "        # preprocessing \n",
        "        transform = torchvision.transforms.CenterCrop(572)\n",
        "        image=transform(image_pil)\n",
        "        mask_pil=transform(mask_pil)\n",
        "\n",
        "        #convert to numpy arrays\n",
        "        image=np.array(image)\n",
        "        mask=np.array(mask_pil)\n",
        "\n",
        "        image=self.transform(image)\n",
        "        mask=self.convert_to_greyscale(mask,mask_pil)\n",
        "\n",
        "        return image, mask #RGB image, and 8-channel mask \n",
        "\n",
        "    def transform(self, image):\n",
        "      transform_ops = transforms.Compose([transforms.ToTensor()])\n",
        "      return transform_ops(image)\n",
        "\n",
        "    def convert_to_greyscale(self, image, m):#takes in RGB image and converts it to 3D tensor of 8 channels.\n",
        "      list_of_greyscales=[]\n",
        "      for class_idx in class_to_pixels.keys():\n",
        "        tup=class_to_pixels[class_idx]\n",
        "        greyscale_mask=np.zeros([572,572],dtype=np.uint8)\n",
        "        for py in range(572):\n",
        "          for px in range(572):\n",
        "            r,g,b=m.getpixel((py,px))\n",
        "            if (r,g,b)==tup:\n",
        "              greyscale_mask[px][py]=1 #if I replace this by 255, I will get proper white image for that class.\n",
        "        list_of_greyscales.append(greyscale_mask)\n",
        "      final_mask = np.stack((list_of_greyscales[0],list_of_greyscales[1],list_of_greyscales[2],list_of_greyscales[3],list_of_greyscales[4],list_of_greyscales[5],list_of_greyscales[6],list_of_greyscales[7]))\n",
        "      final_mask = np.int64(final_mask)\n",
        "      final_mask_tensor = torch.from_numpy(final_mask)\n",
        "      return final_mask_tensor\n"
      ],
      "metadata": {
        "id": "bcolN6mIBNIj"
      },
      "execution_count": 3,
      "outputs": []
    },
    {
      "cell_type": "code",
      "source": [
        "# Run\n",
        "class_to_pixels={0:(0,0,0),1:(0,0,255),2:(0,255,0),3:(0,255,255),4:(255,0,0),5:(255,0,255),6:(255,255,0),7:(255,255,255)}\n",
        "pixels_to_class={v: k for k, v in class_to_pixels.items()}"
      ],
      "metadata": {
        "id": "lvwLq67W6vGm"
      },
      "execution_count": 4,
      "outputs": []
    },
    {
      "cell_type": "code",
      "source": [
        ""
      ],
      "metadata": {
        "id": "i9VYUcSK6vs-"
      },
      "execution_count": null,
      "outputs": []
    },
    {
      "cell_type": "code",
      "source": [
        ""
      ],
      "metadata": {
        "id": "R2BEGF3A6vwU"
      },
      "execution_count": null,
      "outputs": []
    },
    {
      "cell_type": "code",
      "source": [
        "#ignore below cells."
      ],
      "metadata": {
        "id": "_wwp_53P6vz9"
      },
      "execution_count": null,
      "outputs": []
    },
    {
      "cell_type": "code",
      "source": [
        "images_path='/content/drive/MyDrive/dlfa assignments/assignment 1/data/images/'\n",
        "masks_path='/content/drive/MyDrive/dlfa assignments/assignment 1/data/masks/'\n",
        "data=LoadDataset(images_path, masks_path) #data is an object of class LoadDataset"
      ],
      "metadata": {
        "id": "HyEOs0f1F2Lz"
      },
      "execution_count": null,
      "outputs": []
    },
    {
      "cell_type": "code",
      "source": [
        "img1, mask1 = data.__getitem__(10)"
      ],
      "metadata": {
        "id": "8zAVPcrEGlBG"
      },
      "execution_count": null,
      "outputs": []
    },
    {
      "cell_type": "code",
      "source": [
        "img1.shape"
      ],
      "metadata": {
        "colab": {
          "base_uri": "https://localhost:8080/"
        },
        "id": "zSUES2J_bYLs",
        "outputId": "9f362fc4-1724-4bb4-f783-90a2aa1bbd3f"
      },
      "execution_count": null,
      "outputs": [
        {
          "output_type": "execute_result",
          "data": {
            "text/plain": [
              "(572, 572, 3)"
            ]
          },
          "metadata": {},
          "execution_count": 34
        }
      ]
    },
    {
      "cell_type": "code",
      "source": [
        "mask1.shape"
      ],
      "metadata": {
        "colab": {
          "base_uri": "https://localhost:8080/"
        },
        "id": "lRziESWOg4Sn",
        "outputId": "d12d6199-3e81-41d6-8e19-bc425b8812e0"
      },
      "execution_count": null,
      "outputs": [
        {
          "output_type": "execute_result",
          "data": {
            "text/plain": [
              "(572, 572, 3)"
            ]
          },
          "metadata": {},
          "execution_count": 33
        }
      ]
    },
    {
      "cell_type": "code",
      "source": [
        "import matplotlib.pyplot as plt\n",
        "img = Image.fromarray(img1, 'RGB')\n",
        "plt.imshow(img)"
      ],
      "metadata": {
        "colab": {
          "base_uri": "https://localhost:8080/",
          "height": 200
        },
        "id": "Txaf0VboJz2D",
        "outputId": "8c76b042-2acd-4bfa-d1e9-1f843a1d1c9b"
      },
      "execution_count": null,
      "outputs": [
        {
          "output_type": "error",
          "ename": "NameError",
          "evalue": "ignored",
          "traceback": [
            "\u001b[0;31m---------------------------------------------------------------------------\u001b[0m",
            "\u001b[0;31mNameError\u001b[0m                                 Traceback (most recent call last)",
            "\u001b[0;32m<ipython-input-9-778bda082439>\u001b[0m in \u001b[0;36m<module>\u001b[0;34m()\u001b[0m\n\u001b[1;32m      1\u001b[0m \u001b[0;32mimport\u001b[0m \u001b[0mmatplotlib\u001b[0m\u001b[0;34m.\u001b[0m\u001b[0mpyplot\u001b[0m \u001b[0;32mas\u001b[0m \u001b[0mplt\u001b[0m\u001b[0;34m\u001b[0m\u001b[0;34m\u001b[0m\u001b[0m\n\u001b[0;32m----> 2\u001b[0;31m \u001b[0mimg\u001b[0m \u001b[0;34m=\u001b[0m \u001b[0mImage\u001b[0m\u001b[0;34m.\u001b[0m\u001b[0mfromarray\u001b[0m\u001b[0;34m(\u001b[0m\u001b[0mimg1\u001b[0m\u001b[0;34m,\u001b[0m \u001b[0;34m'RGB'\u001b[0m\u001b[0;34m)\u001b[0m\u001b[0;34m\u001b[0m\u001b[0;34m\u001b[0m\u001b[0m\n\u001b[0m\u001b[1;32m      3\u001b[0m \u001b[0mplt\u001b[0m\u001b[0;34m.\u001b[0m\u001b[0mimshow\u001b[0m\u001b[0;34m(\u001b[0m\u001b[0mimg\u001b[0m\u001b[0;34m)\u001b[0m\u001b[0;34m\u001b[0m\u001b[0;34m\u001b[0m\u001b[0m\n",
            "\u001b[0;31mNameError\u001b[0m: name 'img1' is not defined"
          ]
        }
      ]
    },
    {
      "cell_type": "code",
      "source": [
        "msk = Image.fromarray(mask1, 'RGB')\n",
        "plt.imshow(msk)"
      ],
      "metadata": {
        "colab": {
          "base_uri": "https://localhost:8080/",
          "height": 286
        },
        "id": "NiB5ly-tKjSU",
        "outputId": "07676236-8e87-47a2-a9cf-ef5d93f0f9ee"
      },
      "execution_count": null,
      "outputs": [
        {
          "output_type": "execute_result",
          "data": {
            "text/plain": [
              "<matplotlib.image.AxesImage at 0x7f3ee9ebee50>"
            ]
          },
          "metadata": {},
          "execution_count": 36
        },
        {
          "output_type": "display_data",
          "data": {
            "text/plain": [
              "<Figure size 432x288 with 1 Axes>"
            ],
            "image/png": "[encoded data removed]"
          },
          "metadata": {
            "needs_background": "light"
          }
        }
      ]
    },
    {
      "cell_type": "code",
      "source": [
        "print(len(data.images))"
      ],
      "metadata": {
        "colab": {
          "base_uri": "https://localhost:8080/"
        },
        "id": "nEUi_HsYLsFU",
        "outputId": "5b673c93-c9fb-412a-b4ec-103413f459f5"
      },
      "execution_count": null,
      "outputs": [
        {
          "output_type": "stream",
          "name": "stdout",
          "text": [
            "1525\n"
          ]
        }
      ]
    },
    {
      "cell_type": "code",
      "source": [
        "import matplotlib.pyplot as plt"
      ],
      "metadata": {
        "id": "pSzR2rHxAVgJ"
      },
      "execution_count": null,
      "outputs": []
    },
    {
      "cell_type": "code",
      "source": [
        "m = Image.open('/content/drive/MyDrive/dlfa assignments/assignment 1/data/masks/d_r_103_.bmp').convert(\"RGB\") \n",
        "transform = torchvision.transforms.CenterCrop((572,572))\n",
        "m = transform(m)\n",
        "mask = np.array(m)\n",
        "\n",
        "list_of_masks=[] #list of ndarray\n",
        "\n",
        "pixels=m.load()"
      ],
      "metadata": {
        "id": "DDX_uVavMNZl"
      },
      "execution_count": null,
      "outputs": []
    },
    {
      "cell_type": "code",
      "source": [
        "mask.shape"
      ],
      "metadata": {
        "colab": {
          "base_uri": "https://localhost:8080/"
        },
        "id": "m5X76oz3oJL0",
        "outputId": "184bd3f4-1e92-4fa7-b143-6782717e283d"
      },
      "execution_count": null,
      "outputs": [
        {
          "output_type": "execute_result",
          "data": {
            "text/plain": [
              "(572, 572, 3)"
            ]
          },
          "metadata": {},
          "execution_count": 7
        }
      ]
    },
    {
      "cell_type": "code",
      "source": [
        "msk = Image.fromarray(mask, 'RGB')\n",
        "plt.imshow(msk)"
      ],
      "metadata": {
        "colab": {
          "base_uri": "https://localhost:8080/",
          "height": 286
        },
        "id": "F4gnnsual5q1",
        "outputId": "3eaaa524-0aa4-4861-eb4e-6eff1c26e8d3"
      },
      "execution_count": null,
      "outputs": [
        {
          "output_type": "execute_result",
          "data": {
            "text/plain": [
              "<matplotlib.image.AxesImage at 0x7f3b67197210>"
            ]
          },
          "metadata": {},
          "execution_count": 11
        },
        {
          "output_type": "display_data",
          "data": {
            "text/plain": [
              "<Figure size 432x288 with 1 Axes>"
            ],
            "image/png": "[encoded data removed]"
          },
          "metadata": {
            "needs_background": "light"
          }
        }
      ]
    },
    {
      "cell_type": "code",
      "source": [
        "pixel_values = list(m.getdata())"
      ],
      "metadata": {
        "id": "3ly8d_13k_nP"
      },
      "execution_count": null,
      "outputs": []
    },
    {
      "cell_type": "code",
      "source": [
        "class_to_pixels={0:(0,0,0),1:(0,0,255),2:(0,255,0),3:(0,255,255),4:(255,0,0),5:(255,0,255),6:(255,255,0),7:(255,255,255)}\n",
        "pixels_to_class={v: k for k, v in class_to_pixels.items()}"
      ],
      "metadata": {
        "id": "6NROOizppYdV"
      },
      "execution_count": null,
      "outputs": []
    },
    {
      "cell_type": "markdown",
      "source": [
        "Experimenting with preprocessing: "
      ],
      "metadata": {
        "id": "F6MelZPRVseF"
      }
    },
    {
      "cell_type": "code",
      "source": [
        "unique_pixel_values=list(set(pixel_values))"
      ],
      "metadata": {
        "id": "87an89n1leKr"
      },
      "execution_count": null,
      "outputs": []
    },
    {
      "cell_type": "code",
      "source": [
        "unique_pixel_values"
      ],
      "metadata": {
        "colab": {
          "base_uri": "https://localhost:8080/"
        },
        "id": "MBLnVbYalzOe",
        "outputId": "efd7eaac-0685-4d21-96d1-d446bbeaffd9"
      },
      "execution_count": null,
      "outputs": [
        {
          "output_type": "execute_result",
          "data": {
            "text/plain": [
              "[(0, 255, 255), (0, 0, 255), (0, 0, 0), (255, 255, 255)]"
            ]
          },
          "metadata": {},
          "execution_count": 9
        }
      ]
    },
    {
      "cell_type": "code",
      "source": [
        "a,b,c=unique_pixel_values[0]"
      ],
      "metadata": {
        "id": "wmFr040YpV8W"
      },
      "execution_count": null,
      "outputs": []
    },
    {
      "cell_type": "code",
      "source": [
        "c"
      ],
      "metadata": {
        "colab": {
          "base_uri": "https://localhost:8080/"
        },
        "id": "S1S3Uu8mpYHc",
        "outputId": "06e7214c-c2f9-46df-8f58-5f0a4cd55cd4"
      },
      "execution_count": null,
      "outputs": [
        {
          "output_type": "execute_result",
          "data": {
            "text/plain": [
              "255"
            ]
          },
          "metadata": {},
          "execution_count": 83
        }
      ]
    },
    {
      "cell_type": "code",
      "source": [
        "mask.shape"
      ],
      "metadata": {
        "colab": {
          "base_uri": "https://localhost:8080/"
        },
        "id": "dDQK3ijOo1m5",
        "outputId": "1966804e-6e81-4e26-d82c-ee7156cb8087"
      },
      "execution_count": null,
      "outputs": [
        {
          "output_type": "execute_result",
          "data": {
            "text/plain": [
              "(572, 572, 3)"
            ]
          },
          "metadata": {},
          "execution_count": 120
        }
      ]
    },
    {
      "cell_type": "code",
      "source": [
        "for tup in unique_pixel_values:\n",
        "  r1,g1,b1=tup\n",
        "  r2, g2, b2 = 0,0,0 #value for that class\n",
        "  new_image=np.full((572,572,3), 255)\n",
        "  red, green, blue = mask[:,:,0], mask[:,:,1], mask[:,:,2]\n",
        "  mask1 = (red == r1) & (green == g1) & (blue == b1)\n",
        "  new_image[mask1] = (r2, g2, b2)\n",
        "  msk = Image.fromarray(new_image, 'RGB')\n",
        "  plt.imshow(msk)"
      ],
      "metadata": {
        "colab": {
          "base_uri": "https://localhost:8080/",
          "height": 268
        },
        "id": "GR43_W8Il_sN",
        "outputId": "14ad4ced-2fd6-4932-fd2e-4cdef5adae43"
      },
      "execution_count": null,
      "outputs": [
        {
          "output_type": "display_data",
          "data": {
            "text/plain": [
              "<Figure size 432x288 with 1 Axes>"
            ],
            "image/png": "[encoded data removed]"
          },
          "metadata": {
            "needs_background": "light"
          }
        }
      ]
    },
    {
      "cell_type": "code",
      "source": [
        "black = np.zeros([572,572,3],dtype=np.uint8)\n",
        "#black.fill(255) \n",
        "msk = Image.fromarray(black).convert(\"RGB\")\n",
        "plt.imshow(msk)"
      ],
      "metadata": {
        "colab": {
          "base_uri": "https://localhost:8080/",
          "height": 286
        },
        "id": "r6yaIPf4rMrD",
        "outputId": "c91a2b5d-8cc2-4aab-b9d4-c3cd3c176b04"
      },
      "execution_count": null,
      "outputs": [
        {
          "output_type": "execute_result",
          "data": {
            "text/plain": [
              "<matplotlib.image.AxesImage at 0x7f3ee4d97910>"
            ]
          },
          "metadata": {},
          "execution_count": 101
        },
        {
          "output_type": "display_data",
          "data": {
            "text/plain": [
              "<Figure size 432x288 with 1 Axes>"
            ],
            "image/png": "[encoded data removed]"
          },
          "metadata": {
            "needs_background": "light"
          }
        }
      ]
    },
    {
      "cell_type": "code",
      "source": [
        "height"
      ],
      "metadata": {
        "colab": {
          "base_uri": "https://localhost:8080/"
        },
        "id": "yQhEvu_dtCiR",
        "outputId": "22039f45-3123-4979-d45b-215c34fd5895"
      },
      "execution_count": null,
      "outputs": [
        {
          "output_type": "execute_result",
          "data": {
            "text/plain": [
              "572"
            ]
          },
          "metadata": {},
          "execution_count": 129
        }
      ]
    },
    {
      "cell_type": "code",
      "source": [
        "msk = Image.fromarray(mask, 'RGB')\n",
        "plt.imshow(msk)"
      ],
      "metadata": {
        "colab": {
          "base_uri": "https://localhost:8080/",
          "height": 286
        },
        "id": "nq2UG55UtUbc",
        "outputId": "58d61d1d-e7e7-487e-afc9-23c481942d15"
      },
      "execution_count": null,
      "outputs": [
        {
          "output_type": "execute_result",
          "data": {
            "text/plain": [
              "<matplotlib.image.AxesImage at 0x7f3b652c4b10>"
            ]
          },
          "metadata": {},
          "execution_count": 16
        },
        {
          "output_type": "display_data",
          "data": {
            "text/plain": [
              "<Figure size 432x288 with 1 Axes>"
            ],
            "image/png": "[encoded data removed]"
          },
          "metadata": {
            "needs_background": "light"
          }
        }
      ]
    },
    {
      "cell_type": "code",
      "source": [
        "m.size"
      ],
      "metadata": {
        "colab": {
          "base_uri": "https://localhost:8080/"
        },
        "id": "n5qUDoqfwIQ3",
        "outputId": "9e064385-54c1-4bfa-e767-893eecb81ca4"
      },
      "execution_count": null,
      "outputs": [
        {
          "output_type": "execute_result",
          "data": {
            "text/plain": [
              "(572, 572)"
            ]
          },
          "metadata": {},
          "execution_count": 17
        }
      ]
    },
    {
      "cell_type": "code",
      "source": [
        "new_img = np.zeros([572,572,3],dtype=np.uint8)\n",
        "width, height = m.size\n",
        "for px in range(width):\n",
        "  for py in range(height):\n",
        "    r,g,b= m.getpixel((py,px)) #dk why this is happening. i made it py,px from px,py.\n",
        "    new_img[px][py][0]=np.uint8(r)\n",
        "    new_img[px][py][1]=np.uint8(g)\n",
        "    new_img[px][py][2]=np.uint8(b)\n",
        "\n",
        "msk = Image.fromarray(new_img).convert(\"RGB\")\n",
        "plt.imshow(msk)"
      ],
      "metadata": {
        "colab": {
          "base_uri": "https://localhost:8080/",
          "height": 286
        },
        "id": "hcTnfUEmv503",
        "outputId": "53476092-d0b5-4b1b-a65a-c902437e6825"
      },
      "execution_count": null,
      "outputs": [
        {
          "output_type": "execute_result",
          "data": {
            "text/plain": [
              "<matplotlib.image.AxesImage at 0x7f3ee361fc90>"
            ]
          },
          "metadata": {},
          "execution_count": 133
        },
        {
          "output_type": "display_data",
          "data": {
            "text/plain": [
              "<Figure size 432x288 with 1 Axes>"
            ],
            "image/png": "[encoded data removed]"
          },
          "metadata": {
            "needs_background": "light"
          }
        }
      ]
    },
    {
      "cell_type": "code",
      "source": [
        "list_of_greyscales=[]\n",
        "for class_idx in class_to_pixels.keys():\n",
        "  tup=class_to_pixels[class_idx]\n",
        "  greyscale_mask=np.zeros([572,572],dtype=np.uint8)\n",
        "  for py in range(572):\n",
        "    for px in range(572):\n",
        "      r,g,b=m.getpixel((py,px))\n",
        "      if (r,g,b)==tup:\n",
        "        greyscale_mask[px][py]=1 #if I replace this by 255, I will get proper white image for that class.\n",
        "  list_of_greyscales.append(greyscale_mask)\n",
        "final_mask = np.stack((list_of_greyscales[0],list_of_greyscales[1],list_of_greyscales[2],list_of_greyscales[3],list_of_greyscales[4],list_of_greyscales[5],list_of_greyscales[6],list_of_greyscales[7]))"
      ],
      "metadata": {
        "id": "Q0xmNj_YrCou"
      },
      "execution_count": null,
      "outputs": []
    },
    {
      "cell_type": "code",
      "source": [
        "list_of_greyscales[0].shape"
      ],
      "metadata": {
        "colab": {
          "base_uri": "https://localhost:8080/"
        },
        "id": "RpzXwXpUrzPd",
        "outputId": "ce21c425-9a41-442c-d21d-345ebc76eeba"
      },
      "execution_count": null,
      "outputs": [
        {
          "output_type": "execute_result",
          "data": {
            "text/plain": [
              "(572, 572)"
            ]
          },
          "metadata": {},
          "execution_count": 22
        }
      ]
    },
    {
      "cell_type": "code",
      "source": [
        "final_mask = np.stack((list_of_greyscales[0],list_of_greyscales[1],list_of_greyscales[2],list_of_greyscales[3],list_of_greyscales[4],list_of_greyscales[5],list_of_greyscales[6],list_of_greyscales[7]))"
      ],
      "metadata": {
        "id": "SetN1MF_tiJW"
      },
      "execution_count": null,
      "outputs": []
    },
    {
      "cell_type": "code",
      "source": [
        "final_mask.shape"
      ],
      "metadata": {
        "colab": {
          "base_uri": "https://localhost:8080/"
        },
        "id": "l4OvPJQytxMk",
        "outputId": "bd83058e-d511-4424-c969-9ae8320906e5"
      },
      "execution_count": null,
      "outputs": [
        {
          "output_type": "execute_result",
          "data": {
            "text/plain": [
              "(8, 572, 572)"
            ]
          },
          "metadata": {},
          "execution_count": 26
        }
      ]
    },
    {
      "cell_type": "code",
      "source": [
        "msk = Image.fromarray(list_of_greyscales[0], \"L\")"
      ],
      "metadata": {
        "id": "RfH99-ser9gp"
      },
      "execution_count": null,
      "outputs": []
    },
    {
      "cell_type": "code",
      "source": [
        "msk"
      ],
      "metadata": {
        "colab": {
          "base_uri": "https://localhost:8080/",
          "height": 589
        },
        "id": "Kh3lmk9fsCLn",
        "outputId": "5e156541-0e14-4c2a-d2fd-3f8278356808"
      },
      "execution_count": null,
      "outputs": [
        {
          "output_type": "execute_result",
          "data": {
            "text/plain": [
              "<PIL.Image.Image image mode=L size=572x572 at 0x7FC074907390>"
            ],
            "image/png": "[encoded data removed]"
          },
          "metadata": {},
          "execution_count": 24
        }
      ]
    },
    {
      "cell_type": "code",
      "source": [
        "tup=unique_pixel_values[0]\n",
        "new_img = np.zeros([572,572],dtype=np.uint8) #create only one channel, since greyscale image.\n",
        "width, height=m.size\n",
        "for py in range(height):\n",
        "  for px in range(width):\n",
        "    r,g,b=m.getpixel((py,px))\n",
        "    if (r,g,b)==tup:\n",
        "      new_img[px][py]=1\n",
        "\n",
        "msk = Image.fromarray(new_img, \"L\")\n",
        "#plt.imshow(msk)\n",
        "#msk.show()"
      ],
      "metadata": {
        "id": "-QaXex99q0n_"
      },
      "execution_count": null,
      "outputs": []
    },
    {
      "cell_type": "code",
      "source": [
        "msk #yay, greyscale obtained"
      ],
      "metadata": {
        "colab": {
          "base_uri": "https://localhost:8080/",
          "height": 589
        },
        "id": "ruL_XxDQBl9Q",
        "outputId": "40eea4e5-0fdb-468c-9e51-4e26eb0ef0a9"
      },
      "execution_count": null,
      "outputs": [
        {
          "output_type": "execute_result",
          "data": {
            "text/plain": [
              "<PIL.Image.Image image mode=L size=572x572 at 0x7F3B65114790>"
            ],
            "image/png": "[encoded data removed]"
          },
          "metadata": {},
          "execution_count": 24
        }
      ]
    },
    {
      "cell_type": "code",
      "source": [
        "tup=unique_pixel_values[1]\n",
        "new_img = np.zeros([572,572,3],dtype=np.uint8)\n",
        "width, height=m.size\n",
        "for py in range(height):\n",
        "  for px in range(width):\n",
        "    r,g,b=m.getpixel((py,px))\n",
        "    if (r,g,b)==tup:\n",
        "      new_img[px,py,:]=np.uint8(255)\n",
        "\n",
        "msk = Image.fromarray(new_img).convert(\"RGB\")\n",
        "plt.imshow(msk)"
      ],
      "metadata": {
        "colab": {
          "base_uri": "https://localhost:8080/",
          "height": 286
        },
        "id": "ow-CjStMtaMx",
        "outputId": "b709138e-fed9-4fbc-dd0d-a465f235710b"
      },
      "execution_count": null,
      "outputs": [
        {
          "output_type": "execute_result",
          "data": {
            "text/plain": [
              "<matplotlib.image.AxesImage at 0x7f3ee6572090>"
            ]
          },
          "metadata": {},
          "execution_count": 136
        },
        {
          "output_type": "display_data",
          "data": {
            "text/plain": [
              "<Figure size 432x288 with 1 Axes>"
            ],
            "image/png": "[encoded data removed]"
          },
          "metadata": {
            "needs_background": "light"
          }
        }
      ]
    },
    {
      "cell_type": "code",
      "source": [
        "tup=unique_pixel_values[2]\n",
        "new_img = np.zeros([572,572,3],dtype=np.uint8)\n",
        "width, height=m.size\n",
        "for py in range(height):\n",
        "  for px in range(width):\n",
        "    r,g,b=m.getpixel((py,px))\n",
        "    if (r,g,b)==tup:\n",
        "      new_img[px,py,:]=np.uint8(255)\n",
        "\n",
        "msk = Image.fromarray(new_img).convert(\"RGB\")\n",
        "plt.imshow(msk)"
      ],
      "metadata": {
        "colab": {
          "base_uri": "https://localhost:8080/",
          "height": 286
        },
        "id": "YuYJb82duzIO",
        "outputId": "640b0334-07b9-4d2a-8e51-5abf54d6de81"
      },
      "execution_count": null,
      "outputs": [
        {
          "output_type": "execute_result",
          "data": {
            "text/plain": [
              "<matplotlib.image.AxesImage at 0x7f3ee65ff9d0>"
            ]
          },
          "metadata": {},
          "execution_count": 135
        },
        {
          "output_type": "display_data",
          "data": {
            "text/plain": [
              "<Figure size 432x288 with 1 Axes>"
            ],
            "image/png": "[encoded data removed]"
          },
          "metadata": {
            "needs_background": "light"
          }
        }
      ]
    },
    {
      "cell_type": "code",
      "source": [
        "tup=unique_pixel_values[3]\n",
        "new_img = np.zeros([572,572,3],dtype=np.uint8)\n",
        "width, height=m.size\n",
        "for py in range(height):\n",
        "  for px in range(width):\n",
        "    r,g,b=m.getpixel((py,px))\n",
        "    if (r,g,b)==tup:\n",
        "      new_img[px,py,:]=np.uint8(255)\n",
        "\n",
        "msk = Image.fromarray(new_img).convert(\"RGB\")\n",
        "plt.imshow(msk)"
      ],
      "metadata": {
        "colab": {
          "base_uri": "https://localhost:8080/",
          "height": 286
        },
        "id": "HkG0EbM0u5WY",
        "outputId": "47676f3b-5cb7-47bb-c6b9-ef84b14ec23b"
      },
      "execution_count": null,
      "outputs": [
        {
          "output_type": "execute_result",
          "data": {
            "text/plain": [
              "<matplotlib.image.AxesImage at 0x7f3ee6615390>"
            ]
          },
          "metadata": {},
          "execution_count": 134
        },
        {
          "output_type": "display_data",
          "data": {
            "text/plain": [
              "<Figure size 432x288 with 1 Axes>"
            ],
            "image/png": "[encoded data removed]"
          },
          "metadata": {
            "needs_background": "light"
          }
        }
      ]
    },
    {
      "cell_type": "markdown",
      "source": [
        "dividing into train and validation data (8:2 ratio)"
      ],
      "metadata": {
        "id": "a1bAuYttyt6y"
      }
    },
    {
      "cell_type": "code",
      "source": [
        "#ignore\n",
        "import torch\n",
        "import torch.nn as nn\n",
        "import torch.nn.functional as F\n",
        "from torch import optim\n",
        "from torch.utils.data import DataLoader, random_split\n",
        "from tqdm import tqdm"
      ],
      "metadata": {
        "id": "-xKcaNqRzmYa"
      },
      "execution_count": null,
      "outputs": []
    },
    {
      "cell_type": "code",
      "source": [
        "#ignore\n",
        "images_path='/content/drive/MyDrive/dlfa assignments/assignment 1/data/images/'\n",
        "masks_path='/content/drive/MyDrive/dlfa assignments/assignment 1/data/masks/'\n",
        "\n",
        "dataset=LoadDataset(images_path, masks_path) #data is an object of class LoadDataset"
      ],
      "metadata": {
        "id": "2e2zT4jsy1B4"
      },
      "execution_count": 6,
      "outputs": []
    },
    {
      "cell_type": "code",
      "source": [
        "#ignore\n",
        "n=len(dataset)\n",
        "val_percent=0.2\n",
        "\n",
        "n_val = int(n * val_percent)\n",
        "n_train = n - n_val\n",
        "train_set, val_set = random_split(dataset, [n_train, n_val], generator=torch.Generator().manual_seed(0))\n",
        "\n",
        "# Creating data loaders\n",
        "train_loader = DataLoader(train_set, shuffle=True, batch_size=32)\n",
        "val_loader = DataLoader(val_set, shuffle=False, drop_last=True, batch_size=32)"
      ],
      "metadata": {
        "id": "yRKAGLGjxi7Q"
      },
      "execution_count": 7,
      "outputs": []
    },
    {
      "cell_type": "markdown",
      "source": [
        "Run below cells:"
      ],
      "metadata": {
        "id": "3vK0fUESNwwf"
      }
    },
    {
      "cell_type": "code",
      "source": [
        "# sub-parts of the U-Net model. Run this.\n",
        "\n",
        "import torch\n",
        "import torch.nn as nn\n",
        "import torch.nn.functional as F\n",
        "\n",
        "\n",
        "class double_conv(nn.Module):\n",
        "    '''(conv => BN => ReLU) * 2'''\n",
        "    def __init__(self, in_ch, out_ch):\n",
        "        super(double_conv, self).__init__()\n",
        "        self.conv = nn.Sequential(\n",
        "            nn.Conv2d(in_ch, out_ch, 3, padding=1),\n",
        "            nn.BatchNorm2d(out_ch),\n",
        "            nn.ReLU(inplace=True),\n",
        "            nn.Conv2d(out_ch, out_ch, 3, padding=1),\n",
        "            nn.BatchNorm2d(out_ch),\n",
        "            nn.ReLU(inplace=True)\n",
        "        )\n",
        "\n",
        "    def forward(self, x):\n",
        "        x = self.conv(x)\n",
        "        return x\n",
        "\n",
        "\n",
        "class inconv(nn.Module):\n",
        "    def __init__(self, in_ch, out_ch):\n",
        "        super(inconv, self).__init__()\n",
        "        self.conv = double_conv(in_ch, out_ch)\n",
        "\n",
        "    def forward(self, x):\n",
        "        x = self.conv(x)\n",
        "        return x\n",
        "\n",
        "\n",
        "class down(nn.Module):\n",
        "    def __init__(self, in_ch, out_ch):\n",
        "        super(down, self).__init__()\n",
        "        self.mpconv = nn.Sequential(\n",
        "            nn.MaxPool2d(2),\n",
        "            double_conv(in_ch, out_ch)\n",
        "        )\n",
        "\n",
        "    def forward(self, x):\n",
        "        x = self.mpconv(x)\n",
        "        return x\n",
        "\n",
        "\n",
        "class up(nn.Module):\n",
        "    def __init__(self, in_ch, out_ch, bilinear=True):\n",
        "        super(up, self).__init__()\n",
        "\n",
        "        #  would be a nice idea if the upsampling could be learned too,\n",
        "        #  but my machine do not have enough memory to handle all those weights\n",
        "        if bilinear:\n",
        "            self.up = nn.Upsample(scale_factor=2, mode='bilinear', align_corners=True)\n",
        "        else:\n",
        "            self.up = nn.ConvTranspose2d(in_ch//2, in_ch//2, 2, stride=2)\n",
        "\n",
        "        self.conv = double_conv(in_ch, out_ch)\n",
        "\n",
        "    def forward(self, x1, x2):\n",
        "        x1 = self.up(x1)\n",
        "        \n",
        "        # input is CHW\n",
        "        diffY = x2.size()[2] - x1.size()[2]\n",
        "        diffX = x2.size()[3] - x1.size()[3]\n",
        "\n",
        "        x1 = F.pad(x1, (diffX // 2, diffX - diffX//2,\n",
        "                        diffY // 2, diffY - diffY//2))\n",
        "        \n",
        "        # for padding issues, see \n",
        "        # https://github.com/HaiyongJiang/U-Net-Pytorch-Unstructured-Buggy/commit/0e854509c2cea854e247a9c615f175f76fbb2e3a\n",
        "        # https://github.com/xiaopeng-liao/Pytorch-UNet/commit/8ebac70e633bac59fc22bb5195e513d5832fb3bd\n",
        "\n",
        "        x = torch.cat([x2, x1], dim=1)\n",
        "        x = self.conv(x)\n",
        "        return x\n",
        "\n",
        "\n",
        "class outconv(nn.Module):\n",
        "    def __init__(self, in_ch, out_ch):\n",
        "        super(outconv, self).__init__()\n",
        "        self.conv = nn.Conv2d(in_ch, out_ch, 1)\n",
        "\n",
        "    def forward(self, x):\n",
        "        x = self.conv(x)\n",
        "        return x"
      ],
      "metadata": {
        "id": "43O5TIJA_iEf"
      },
      "execution_count": 5,
      "outputs": []
    },
    {
      "cell_type": "code",
      "source": [
        "# run this\n",
        "import torch.nn.functional as F\n",
        "class UNet(nn.Module):\n",
        "    def __init__(self, n_channels, n_classes):\n",
        "        super(UNet, self).__init__()\n",
        "        self.inc = inconv(n_channels, 64)\n",
        "        self.down1 = down(64, 128)\n",
        "        self.down2 = down(128, 256)\n",
        "        self.down3 = down(256, 512)\n",
        "        self.down4 = down(512, 512)\n",
        "        self.up1 = up(1024, 256)\n",
        "        self.up2 = up(512, 128)\n",
        "        self.up3 = up(256, 64)\n",
        "        self.up4 = up(128, 64)\n",
        "        self.outc = outconv(64, n_classes)\n",
        "\n",
        "    def forward(self, x):\n",
        "        x1 = self.inc(x)\n",
        "        x2 = self.down1(x1)\n",
        "        x3 = self.down2(x2)\n",
        "        x4 = self.down3(x3)\n",
        "        x5 = self.down4(x4)\n",
        "        x = self.up1(x5, x4)\n",
        "        x = self.up2(x, x3)\n",
        "        x = self.up3(x, x2)\n",
        "        x = self.up4(x, x1)\n",
        "        x = self.outc(x)\n",
        "        return F.sigmoid(x)"
      ],
      "metadata": {
        "id": "YKeFHdaAN1dk"
      },
      "execution_count": 6,
      "outputs": []
    },
    {
      "cell_type": "code",
      "source": [
        "#ignore\n",
        "\n",
        "def plot_net_predictions(imgs, true_masks, masks_pred, batch_size):\n",
        "    \n",
        "    fig, ax = plt.subplots(3, batch_size, figsize=(20, 15))\n",
        "    \n",
        "    for i in range(batch_size):\n",
        "        \n",
        "        img  = np.transpose(imgs[i].squeeze().cpu().detach().numpy(), (1,2,0))\n",
        "        mask_pred = masks_pred[i].cpu().detach().numpy()\n",
        "        mask_true = true_masks[i].cpu().detach().numpy()\n",
        "    \n",
        "        ax[0,i].imshow(img)\n",
        "        ax[1,i].imshow(mask_pred)\n",
        "        ax[1,i].set_title('Predicted')\n",
        "        ax[2,i].imshow(mask_true)\n",
        "        ax[2,i].set_title('Ground truth')\n",
        "        \n",
        "    return fig"
      ],
      "metadata": {
        "id": "1yzsBS0qPUXs"
      },
      "execution_count": null,
      "outputs": []
    },
    {
      "cell_type": "code",
      "source": [
        "#ignore\n",
        "\n",
        "from sklearn.metrics import confusion_matrix\n",
        "\n",
        "def compute_IoU(cm):\n",
        "    '''\n",
        "    Adapted from:\n",
        "        https://github.com/davidtvs/PyTorch-ENet/blob/master/metric/iou.py\n",
        "        https://github.com/tensorflow/tensorflow/blob/v2.3.0/tensorflow/python/keras/metrics.py#L2716-L2844\n",
        "    '''\n",
        "    \n",
        "    sum_over_row = cm.sum(axis=0)\n",
        "    sum_over_col = cm.sum(axis=1)\n",
        "    true_positives = np.diag(cm)\n",
        "\n",
        "    # sum_over_row + sum_over_col = 2 * true_positives + false_positives + false_negatives.\n",
        "    denominator = sum_over_row + sum_over_col - true_positives\n",
        "    \n",
        "    iou = true_positives / denominator\n",
        "    \n",
        "    return iou, np.nanmean(iou) \n",
        "\n",
        "def eval_net_loader(net, val_loader, n_classes, device='cpu'):\n",
        "    \n",
        "    net.eval()\n",
        "    labels = np.arange(n_classes)\n",
        "    cm = np.zeros((n_classes,n_classes))\n",
        "      \n",
        "    for i, sample_batch in enumerate(val_loader):\n",
        "            imgs = sample_batch['image']\n",
        "            true_masks = sample_batch['mask']\n",
        "            \n",
        "            imgs = imgs.to(device)\n",
        "            true_masks = true_masks.to(device)\n",
        "\n",
        "            outputs = net(imgs)\n",
        "            probs = torch.softmax(outputs, dim=1)\n",
        "            preds = torch.argmax(probs, dim=1)\n",
        "            \n",
        "            for j in range(len(true_masks)): \n",
        "                true = true_masks[j].cpu().detach().numpy().flatten()\n",
        "                pred = preds[j].cpu().detach().numpy().flatten()\n",
        "                cm += confusion_matrix(true, pred, labels=labels)\n",
        "    \n",
        "    class_iou, mean_iou = compute_IoU(cm)\n",
        "    \n",
        "    return class_iou, mean_iou\n",
        "\n",
        "def IoU(mask_true, mask_pred, n_classes=2):\n",
        "        \n",
        "        labels = np.arange(n_classes)\n",
        "        cm = confusion_matrix(mask_true.flatten(), mask_pred.flatten(), labels=labels)\n",
        "        \n",
        "        return compute_IoU(cm)"
      ],
      "metadata": {
        "id": "yblqZ8AGQHJH"
      },
      "execution_count": null,
      "outputs": []
    },
    {
      "cell_type": "code",
      "source": [
        "#ignore\n",
        "import sys\n",
        "import os\n",
        "from optparse import OptionParser\n",
        "import numpy as np\n",
        "\n",
        "import torch\n",
        "import torch.nn as nn\n",
        "from torch import optim\n",
        "from tensorboardX import SummaryWriter"
      ],
      "metadata": {
        "id": "rIpBmb-DQmWN"
      },
      "execution_count": null,
      "outputs": []
    },
    {
      "cell_type": "code",
      "source": [
        "#ignore   \n",
        "    dir_data = '/content/'\n",
        "    dir_checkpoint = f'/content/'\n",
        "    dir_summary = f'/content/'\n",
        "    params = {'batch_size': 32, 'shuffle': True, 'num_workers': 1}\n",
        "\n",
        "    from pathlib import Path\n",
        "    import shutil\n",
        "\n",
        "    def make_checkpoint_dir(dir_checkpoint):\n",
        "        \n",
        "        path = Path(dir_checkpoint)\n",
        "        # remove folder if it exists\n",
        "        if path.exists():\n",
        "            shutil.rmtree(path)\n",
        "        path.mkdir(parents=True, exist_ok=False)\n",
        "\n",
        "    make_checkpoint_dir(dir_checkpoint)\n",
        "    writer = SummaryWriter(dir_summary)\n",
        "\n",
        "\n",
        "\n",
        "    \n",
        "    \n",
        "    #val_ratio=0.1\n",
        "    #train_loader, val_loader =  make_dataloaders(dir_data, val_ratio, params)\n",
        "    \n",
        "    net = UNet(n_channels=3, n_classes=3)"
      ],
      "metadata": {
        "colab": {
          "base_uri": "https://localhost:8080/"
        },
        "id": "fZExCcGVSGd1",
        "outputId": "ec167b20-b861-43f5-ff65-cd362988eb85"
      },
      "execution_count": null,
      "outputs": [
        {
          "output_type": "stream",
          "name": "stdout",
          "text": [
            "Collecting tensorboardX\n",
            "  Downloading tensorboardX-2.5-py2.py3-none-any.whl (125 kB)\n",
            "\u001b[?25l\r\u001b[K     |██▋                             | 10 kB 29.2 MB/s eta 0:00:01\r\u001b[K     |█████▎                          | 20 kB 8.5 MB/s eta 0:00:01\r\u001b[K     |███████▉                        | 30 kB 7.5 MB/s eta 0:00:01\r\u001b[K     |██████████▌                     | 40 kB 3.5 MB/s eta 0:00:01\r\u001b[K     |█████████████                   | 51 kB 3.5 MB/s eta 0:00:01\r\u001b[K     |███████████████▊                | 61 kB 4.2 MB/s eta 0:00:01\r\u001b[K     |██████████████████▎             | 71 kB 4.4 MB/s eta 0:00:01\r\u001b[K     |█████████████████████           | 81 kB 4.6 MB/s eta 0:00:01\r\u001b[K     |███████████████████████▌        | 92 kB 5.2 MB/s eta 0:00:01\r\u001b[K     |██████████████████████████▏     | 102 kB 4.2 MB/s eta 0:00:01\r\u001b[K     |████████████████████████████▊   | 112 kB 4.2 MB/s eta 0:00:01\r\u001b[K     |███████████████████████████████▍| 122 kB 4.2 MB/s eta 0:00:01\r\u001b[K     |████████████████████████████████| 125 kB 4.2 MB/s \n",
            "\u001b[?25hRequirement already satisfied: numpy in /usr/local/lib/python3.7/dist-packages (from tensorboardX) (1.21.5)\n",
            "Requirement already satisfied: protobuf>=3.8.0 in /usr/local/lib/python3.7/dist-packages (from tensorboardX) (3.17.3)\n",
            "Requirement already satisfied: six in /usr/local/lib/python3.7/dist-packages (from tensorboardX) (1.15.0)\n",
            "Installing collected packages: tensorboardX\n",
            "Successfully installed tensorboardX-2.5\n"
          ]
        }
      ]
    },
    {
      "cell_type": "code",
      "source": [
        "#ignore\n",
        "\n",
        "\n",
        "def train_epoch(epoch,train_loader,criterion,optimizer,batch_size,scheduler):\n",
        "    \n",
        "    net.train()\n",
        "    epoch_loss = 0\n",
        "    \n",
        "    for i, sample_batch in enumerate(train_loader):\n",
        "\n",
        "        imgs = sample_batch['image']\n",
        "        true_masks = sample_batch['mask']\n",
        "\n",
        "        outputs = net(imgs)\n",
        "        probs = torch.softmax(outputs, dim=1)\n",
        "        masks_pred = torch.argmax(probs, dim=1)\n",
        "\n",
        "        loss = criterion(outputs, true_masks)\n",
        "        epoch_loss += loss.item()\n",
        "\n",
        "        print(f'epoch = {epoch+1:d}, iteration = {i:d}/{len(train_loader):d}, loss = {loss.item():.5f}')\n",
        "        # save to summary\n",
        "        if i%100==0:\n",
        "            writer.add_scalar('train_loss_iter', \n",
        "                                  loss.item(), \n",
        "                                  i + len(train_loader) * epoch)\n",
        "            writer.add_figure('predictions vs. actuals',   \n",
        "                                  plot_net_predictions(imgs, true_masks, masks_pred, batch_size),    \n",
        "                                  global_step = i + len(train_loader) * epoch)\n",
        "\n",
        "        optimizer.zero_grad()\n",
        "        loss.backward()\n",
        "        optimizer.step()\n",
        "        \n",
        "    print(f'Epoch finished ! Loss: {epoch_loss/i:.2f}, lr:{scheduler.get_lr()}')\n",
        "\n",
        "        \n",
        "def validate_epoch(epoch,train_loader,val_loader,device):\n",
        "    \n",
        "    class_iou, mean_iou = eval_net_loader(net, val_loader, 3, device)\n",
        "    print('Class IoU:', ' '.join(f'{x:.3f}' for x in class_iou), f'  |  Mean IoU: {mean_iou:.3f}') \n",
        "    # save to summary\n",
        "    writer.add_scalar('mean_iou', mean_iou, len(train_loader) * (epoch+1))\n",
        "    \n",
        "    return mean_iou\n",
        " \n",
        "\n",
        "def train_net(train_loader, val_loader, net, device, epochs=5, batch_size=1, lr=0.1, save_cp=True):\n",
        "    \n",
        "#     params = {'batch_size': batch_size, 'shuffle': True, 'num_workers': 4}\n",
        "#     train_loader, val_loader =  make_dataloaders(dir_data, val_ratio, params)\n",
        "\n",
        "    print(f'''\n",
        "    Starting training:\n",
        "        Epochs: {epochs}\n",
        "        Batch size: {batch_size}\n",
        "        Learning rate: {lr}\n",
        "        Training size: {n_train}\n",
        "        Validation size: {n_val}\n",
        "        Checkpoints: {str(save_cp)}\n",
        "        Device: {str(device)}\n",
        "    ''')\n",
        "          \n",
        "    optimizer = optim.SGD(net. parameters(),lr=lr, momentum=0.9, weight_decay=0.0005)\n",
        "    # multiply learning rate by 0.1 after 30% of epochs\n",
        "    scheduler = optim.lr_scheduler.StepLR(optimizer, step_size=int(0.3*epochs), gamma=0.1)\n",
        "    \n",
        "    criterion = nn.CrossEntropyLoss()\n",
        "    # weighted cross entropy loss\n",
        "#     criterion = nn.CrossEntropyLoss(weight=torch.tensor([0.3, 8.2, 1.0]).cuda()) \n",
        "    \n",
        "    best_precision = 0\n",
        "    for epoch in range(epochs):\n",
        "          \n",
        "        print('Starting epoch {}/{}.'.format(epoch + 1, epochs))\n",
        "        train_epoch(epoch,train_loader,criterion,optimizer,batch_size,scheduler)\n",
        "        precision = validate_epoch(epoch,train_loader,val_loader,device)\n",
        "        scheduler.step()\n",
        "\n",
        "        if save_cp and (precision>best_precision):\n",
        "            state_dict = net.state_dict()\n",
        "            if device==\"cuda\":\n",
        "                state_dict = net.module.state_dict()\n",
        "            torch.save(state_dict, dir_checkpoint+f'CP{epoch + 1}.pth')\n",
        "            print('Checkpoint {} saved !'.format(epoch + 1))\n",
        "            best_precision = precision\n",
        "    \n",
        "    writer.close()\n",
        "\n",
        "\n",
        "\n",
        " "
      ],
      "metadata": {
        "id": "Dbeqm0CDOFVL"
      },
      "execution_count": null,
      "outputs": []
    },
    {
      "cell_type": "code",
      "source": [
        "#ignore\n",
        "\n",
        "    \n",
        "\n",
        "    try:\n",
        "        train_net(train_loader, val_loader, net, device, epochs=50, batch_size=32, lr=0.1)\n",
        "        \n",
        "    except KeyboardInterrupt:\n",
        "        torch.save(net.state_dict(), 'INTERRUPTED.pth')\n",
        "        print('Saved interrupt')\n",
        "        try:\n",
        "            sys.exit(0)\n",
        "        except SystemExit:\n",
        "            os._exit(0)"
      ],
      "metadata": {
        "id": "QGUm33JTSp9G"
      },
      "execution_count": null,
      "outputs": []
    },
    {
      "cell_type": "markdown",
      "source": [
        "## Trying out https://www.kaggle.com/code/gokulkarthik/image-segmentation-with-unet-pytorch code"
      ],
      "metadata": {
        "id": "ywYIpWPiwXCq"
      }
    },
    {
      "cell_type": "code",
      "source": [
        "#ignore this block\n",
        "class UNet(nn.Module):\n",
        "    \n",
        "    def __init__(self, num_classes):\n",
        "        super(UNet, self).__init__()\n",
        "        self.num_classes = num_classes\n",
        "        self.contracting_11 = self.conv_block(in_channels=3, out_channels=64)\n",
        "        self.contracting_12 = nn.MaxPool2d(kernel_size=2, stride=2)\n",
        "        self.contracting_21 = self.conv_block(in_channels=64, out_channels=128)\n",
        "        self.contracting_22 = nn.MaxPool2d(kernel_size=2, stride=2)\n",
        "        self.contracting_31 = self.conv_block(in_channels=128, out_channels=256)\n",
        "        self.contracting_32 = nn.MaxPool2d(kernel_size=2, stride=2)\n",
        "        self.contracting_41 = self.conv_block(in_channels=256, out_channels=512)\n",
        "        self.contracting_42 = nn.MaxPool2d(kernel_size=2, stride=2)\n",
        "        self.middle = self.conv_block(in_channels=512, out_channels=1024)\n",
        "        self.expansive_11 = nn.ConvTranspose2d(in_channels=1024, out_channels=512, kernel_size=3, stride=2, padding=1, output_padding=1)\n",
        "        self.expansive_12 = self.conv_block(in_channels=1024, out_channels=512)\n",
        "        self.expansive_21 = nn.ConvTranspose2d(in_channels=512, out_channels=256, kernel_size=3, stride=2, padding=1, output_padding=1)\n",
        "        self.expansive_22 = self.conv_block(in_channels=512, out_channels=256)\n",
        "        self.expansive_31 = nn.ConvTranspose2d(in_channels=256, out_channels=128, kernel_size=3, stride=2, padding=1, output_padding=1)\n",
        "        self.expansive_32 = self.conv_block(in_channels=256, out_channels=128)\n",
        "        self.expansive_41 = nn.ConvTranspose2d(in_channels=128, out_channels=64, kernel_size=3, stride=2, padding=1, output_padding=1)\n",
        "        self.expansive_42 = self.conv_block(in_channels=128, out_channels=64)\n",
        "        self.output = nn.Conv2d(in_channels=64, out_channels=num_classes, kernel_size=3, stride=1, padding=1)\n",
        "        \n",
        "    def conv_block(self, in_channels, out_channels):\n",
        "        block = nn.Sequential(nn.Conv2d(in_channels=in_channels, out_channels=out_channels, kernel_size=3, stride=1, padding=1),\n",
        "                                    nn.ReLU(),\n",
        "                                    nn.BatchNorm2d(num_features=out_channels),\n",
        "                                    nn.Conv2d(in_channels=out_channels, out_channels=out_channels, kernel_size=3, stride=1, padding=1),\n",
        "                                    nn.ReLU(),\n",
        "                                    nn.BatchNorm2d(num_features=out_channels))\n",
        "        return block\n",
        "    \n",
        "    def forward(self, X):\n",
        "        contracting_11_out = self.contracting_11(X) # [-1, 64, 256, 256]\n",
        "        contracting_12_out = self.contracting_12(contracting_11_out) # [-1, 64, 128, 128]\n",
        "        contracting_21_out = self.contracting_21(contracting_12_out) # [-1, 128, 128, 128]\n",
        "        contracting_22_out = self.contracting_22(contracting_21_out) # [-1, 128, 64, 64]\n",
        "        contracting_31_out = self.contracting_31(contracting_22_out) # [-1, 256, 64, 64]\n",
        "        contracting_32_out = self.contracting_32(contracting_31_out) # [-1, 256, 32, 32]\n",
        "        contracting_41_out = self.contracting_41(contracting_32_out) # [-1, 512, 32, 32]\n",
        "        contracting_42_out = self.contracting_42(contracting_41_out) # [-1, 512, 16, 16]\n",
        "        middle_out = self.middle(contracting_42_out) # [-1, 1024, 16, 16]\n",
        "        expansive_11_out = self.expansive_11(middle_out) # [-1, 512, 32, 32]\n",
        "        expansive_12_out = self.expansive_12(torch.cat((expansive_11_out, contracting_41_out), dim=1)) # [-1, 1024, 32, 32] -> [-1, 512, 32, 32]\n",
        "        expansive_21_out = self.expansive_21(expansive_12_out) # [-1, 256, 64, 64]\n",
        "        expansive_22_out = self.expansive_22(torch.cat((expansive_21_out, contracting_31_out), dim=1)) # [-1, 512, 64, 64] -> [-1, 256, 64, 64]\n",
        "        expansive_31_out = self.expansive_31(expansive_22_out) # [-1, 128, 128, 128]\n",
        "        expansive_32_out = self.expansive_32(torch.cat((expansive_31_out, contracting_21_out), dim=1)) # [-1, 256, 128, 128] -> [-1, 128, 128, 128]\n",
        "        expansive_41_out = self.expansive_41(expansive_32_out) # [-1, 64, 256, 256]\n",
        "        expansive_42_out = self.expansive_42(torch.cat((expansive_41_out, contracting_11_out), dim=1)) # [-1, 128, 256, 256] -> [-1, 64, 256, 256]\n",
        "        output_out = self.output(expansive_42_out) # [-1, num_classes, 256, 256]\n",
        "        return output_out"
      ],
      "metadata": {
        "id": "N1I3-S0WwaRH"
      },
      "execution_count": null,
      "outputs": []
    },
    {
      "cell_type": "markdown",
      "source": [
        "Run below cells:"
      ],
      "metadata": {
        "id": "GfrLXaCMWAKW"
      }
    },
    {
      "cell_type": "code",
      "source": [
        "num_classes=8"
      ],
      "metadata": {
        "id": "fkGmsX4mw3gt"
      },
      "execution_count": 7,
      "outputs": []
    },
    {
      "cell_type": "code",
      "source": [
        "model = UNet(3,8)"
      ],
      "metadata": {
        "id": "pHlJQqJXw0Yi"
      },
      "execution_count": 13,
      "outputs": []
    },
    {
      "cell_type": "code",
      "source": [
        "images_path='/content/drive/MyDrive/dlfa assignments/assignment 1/data/images/'\n",
        "masks_path='/content/drive/MyDrive/dlfa assignments/assignment 1/data/masks/'\n",
        "\n",
        "dataset=LoadDataset(images_path, masks_path) #data is an object of class LoadDataset"
      ],
      "metadata": {
        "id": "bpEDB3IixeoD"
      },
      "execution_count": 8,
      "outputs": []
    },
    {
      "cell_type": "code",
      "source": [
        "import math"
      ],
      "metadata": {
        "id": "ZN5q51gH29Es"
      },
      "execution_count": 9,
      "outputs": []
    },
    {
      "cell_type": "code",
      "source": [
        "n=len(dataset)\n",
        "val_percent=0.2\n",
        "\n",
        "n_val = math.floor(n * val_percent)\n",
        "n_train = n - n_val\n",
        "train_set, val_set = random_split(dataset, [n_train, n_val]) #, generator=torch.Generator().manual_seed(0)\n",
        "\n",
        "# Creating data loaders\n",
        "data_loader=DataLoader(dataset, batch_size=4)\n",
        "train_loader = DataLoader(train_set, batch_size=4) #data_loader is basically train_loader #i wrote dataset instead of train_set\n",
        "val_loader = DataLoader(val_set, batch_size=4)"
      ],
      "metadata": {
        "id": "jVKDalIzxeoF"
      },
      "execution_count": 10,
      "outputs": []
    },
    {
      "cell_type": "code",
      "source": [
        "# ignore\n",
        "X, Y = iter(data_loader).next()\n",
        "print(type(X))\n",
        "print(type(Y))"
      ],
      "metadata": {
        "colab": {
          "base_uri": "https://localhost:8080/",
          "height": 345
        },
        "id": "nAOn4kSDxHTm",
        "outputId": "5ec984c1-888e-409c-b3a8-389793313acd"
      },
      "execution_count": 15,
      "outputs": [
        {
          "output_type": "error",
          "ename": "KeyboardInterrupt",
          "evalue": "ignored",
          "traceback": [
            "\u001b[0;31m---------------------------------------------------------------------------\u001b[0m",
            "\u001b[0;31mKeyboardInterrupt\u001b[0m                         Traceback (most recent call last)",
            "\u001b[0;32m<ipython-input-15-ed3759d2c304>\u001b[0m in \u001b[0;36m<module>\u001b[0;34m()\u001b[0m\n\u001b[0;32m----> 1\u001b[0;31m \u001b[0mX\u001b[0m\u001b[0;34m,\u001b[0m \u001b[0mY\u001b[0m \u001b[0;34m=\u001b[0m \u001b[0miter\u001b[0m\u001b[0;34m(\u001b[0m\u001b[0mdata_loader\u001b[0m\u001b[0;34m)\u001b[0m\u001b[0;34m.\u001b[0m\u001b[0mnext\u001b[0m\u001b[0;34m(\u001b[0m\u001b[0;34m)\u001b[0m\u001b[0;34m\u001b[0m\u001b[0;34m\u001b[0m\u001b[0m\n\u001b[0m\u001b[1;32m      2\u001b[0m \u001b[0mprint\u001b[0m\u001b[0;34m(\u001b[0m\u001b[0mtype\u001b[0m\u001b[0;34m(\u001b[0m\u001b[0mX\u001b[0m\u001b[0;34m)\u001b[0m\u001b[0;34m)\u001b[0m\u001b[0;34m\u001b[0m\u001b[0;34m\u001b[0m\u001b[0m\n\u001b[1;32m      3\u001b[0m \u001b[0mprint\u001b[0m\u001b[0;34m(\u001b[0m\u001b[0mtype\u001b[0m\u001b[0;34m(\u001b[0m\u001b[0mY\u001b[0m\u001b[0;34m)\u001b[0m\u001b[0;34m)\u001b[0m\u001b[0;34m\u001b[0m\u001b[0;34m\u001b[0m\u001b[0m\n",
            "\u001b[0;32m/usr/local/lib/python3.7/dist-packages/torch/utils/data/dataloader.py\u001b[0m in \u001b[0;36m__next__\u001b[0;34m(self)\u001b[0m\n\u001b[1;32m    519\u001b[0m             \u001b[0;32mif\u001b[0m \u001b[0mself\u001b[0m\u001b[0;34m.\u001b[0m\u001b[0m_sampler_iter\u001b[0m \u001b[0;32mis\u001b[0m \u001b[0;32mNone\u001b[0m\u001b[0;34m:\u001b[0m\u001b[0;34m\u001b[0m\u001b[0;34m\u001b[0m\u001b[0m\n\u001b[1;32m    520\u001b[0m                 \u001b[0mself\u001b[0m\u001b[0;34m.\u001b[0m\u001b[0m_reset\u001b[0m\u001b[0;34m(\u001b[0m\u001b[0;34m)\u001b[0m\u001b[0;34m\u001b[0m\u001b[0;34m\u001b[0m\u001b[0m\n\u001b[0;32m--> 521\u001b[0;31m             \u001b[0mdata\u001b[0m \u001b[0;34m=\u001b[0m \u001b[0mself\u001b[0m\u001b[0;34m.\u001b[0m\u001b[0m_next_data\u001b[0m\u001b[0;34m(\u001b[0m\u001b[0;34m)\u001b[0m\u001b[0;34m\u001b[0m\u001b[0;34m\u001b[0m\u001b[0m\n\u001b[0m\u001b[1;32m    522\u001b[0m             \u001b[0mself\u001b[0m\u001b[0;34m.\u001b[0m\u001b[0m_num_yielded\u001b[0m \u001b[0;34m+=\u001b[0m \u001b[0;36m1\u001b[0m\u001b[0;34m\u001b[0m\u001b[0;34m\u001b[0m\u001b[0m\n\u001b[1;32m    523\u001b[0m             \u001b[0;32mif\u001b[0m \u001b[0mself\u001b[0m\u001b[0;34m.\u001b[0m\u001b[0m_dataset_kind\u001b[0m \u001b[0;34m==\u001b[0m \u001b[0m_DatasetKind\u001b[0m\u001b[0;34m.\u001b[0m\u001b[0mIterable\u001b[0m \u001b[0;32mand\u001b[0m\u001b[0;31m \u001b[0m\u001b[0;31m\\\u001b[0m\u001b[0;34m\u001b[0m\u001b[0;34m\u001b[0m\u001b[0m\n",
            "\u001b[0;32m/usr/local/lib/python3.7/dist-packages/torch/utils/data/dataloader.py\u001b[0m in \u001b[0;36m_next_data\u001b[0;34m(self)\u001b[0m\n\u001b[1;32m    559\u001b[0m     \u001b[0;32mdef\u001b[0m \u001b[0m_next_data\u001b[0m\u001b[0;34m(\u001b[0m\u001b[0mself\u001b[0m\u001b[0;34m)\u001b[0m\u001b[0;34m:\u001b[0m\u001b[0;34m\u001b[0m\u001b[0;34m\u001b[0m\u001b[0m\n\u001b[1;32m    560\u001b[0m         \u001b[0mindex\u001b[0m \u001b[0;34m=\u001b[0m \u001b[0mself\u001b[0m\u001b[0;34m.\u001b[0m\u001b[0m_next_index\u001b[0m\u001b[0;34m(\u001b[0m\u001b[0;34m)\u001b[0m  \u001b[0;31m# may raise StopIteration\u001b[0m\u001b[0;34m\u001b[0m\u001b[0;34m\u001b[0m\u001b[0m\n\u001b[0;32m--> 561\u001b[0;31m         \u001b[0mdata\u001b[0m \u001b[0;34m=\u001b[0m \u001b[0mself\u001b[0m\u001b[0;34m.\u001b[0m\u001b[0m_dataset_fetcher\u001b[0m\u001b[0;34m.\u001b[0m\u001b[0mfetch\u001b[0m\u001b[0;34m(\u001b[0m\u001b[0mindex\u001b[0m\u001b[0;34m)\u001b[0m  \u001b[0;31m# may raise StopIteration\u001b[0m\u001b[0;34m\u001b[0m\u001b[0;34m\u001b[0m\u001b[0m\n\u001b[0m\u001b[1;32m    562\u001b[0m         \u001b[0;32mif\u001b[0m \u001b[0mself\u001b[0m\u001b[0;34m.\u001b[0m\u001b[0m_pin_memory\u001b[0m\u001b[0;34m:\u001b[0m\u001b[0;34m\u001b[0m\u001b[0;34m\u001b[0m\u001b[0m\n\u001b[1;32m    563\u001b[0m             \u001b[0mdata\u001b[0m \u001b[0;34m=\u001b[0m \u001b[0m_utils\u001b[0m\u001b[0;34m.\u001b[0m\u001b[0mpin_memory\u001b[0m\u001b[0;34m.\u001b[0m\u001b[0mpin_memory\u001b[0m\u001b[0;34m(\u001b[0m\u001b[0mdata\u001b[0m\u001b[0;34m)\u001b[0m\u001b[0;34m\u001b[0m\u001b[0;34m\u001b[0m\u001b[0m\n",
            "\u001b[0;32m/usr/local/lib/python3.7/dist-packages/torch/utils/data/_utils/fetch.py\u001b[0m in \u001b[0;36mfetch\u001b[0;34m(self, possibly_batched_index)\u001b[0m\n\u001b[1;32m     47\u001b[0m     \u001b[0;32mdef\u001b[0m \u001b[0mfetch\u001b[0m\u001b[0;34m(\u001b[0m\u001b[0mself\u001b[0m\u001b[0;34m,\u001b[0m \u001b[0mpossibly_batched_index\u001b[0m\u001b[0;34m)\u001b[0m\u001b[0;34m:\u001b[0m\u001b[0;34m\u001b[0m\u001b[0;34m\u001b[0m\u001b[0m\n\u001b[1;32m     48\u001b[0m         \u001b[0;32mif\u001b[0m \u001b[0mself\u001b[0m\u001b[0;34m.\u001b[0m\u001b[0mauto_collation\u001b[0m\u001b[0;34m:\u001b[0m\u001b[0;34m\u001b[0m\u001b[0;34m\u001b[0m\u001b[0m\n\u001b[0;32m---> 49\u001b[0;31m             \u001b[0mdata\u001b[0m \u001b[0;34m=\u001b[0m \u001b[0;34m[\u001b[0m\u001b[0mself\u001b[0m\u001b[0;34m.\u001b[0m\u001b[0mdataset\u001b[0m\u001b[0;34m[\u001b[0m\u001b[0midx\u001b[0m\u001b[0;34m]\u001b[0m \u001b[0;32mfor\u001b[0m \u001b[0midx\u001b[0m \u001b[0;32min\u001b[0m \u001b[0mpossibly_batched_index\u001b[0m\u001b[0;34m]\u001b[0m\u001b[0;34m\u001b[0m\u001b[0;34m\u001b[0m\u001b[0m\n\u001b[0m\u001b[1;32m     50\u001b[0m         \u001b[0;32melse\u001b[0m\u001b[0;34m:\u001b[0m\u001b[0;34m\u001b[0m\u001b[0;34m\u001b[0m\u001b[0m\n\u001b[1;32m     51\u001b[0m             \u001b[0mdata\u001b[0m \u001b[0;34m=\u001b[0m \u001b[0mself\u001b[0m\u001b[0;34m.\u001b[0m\u001b[0mdataset\u001b[0m\u001b[0;34m[\u001b[0m\u001b[0mpossibly_batched_index\u001b[0m\u001b[0;34m]\u001b[0m\u001b[0;34m\u001b[0m\u001b[0;34m\u001b[0m\u001b[0m\n",
            "\u001b[0;32m/usr/local/lib/python3.7/dist-packages/torch/utils/data/_utils/fetch.py\u001b[0m in \u001b[0;36m<listcomp>\u001b[0;34m(.0)\u001b[0m\n\u001b[1;32m     47\u001b[0m     \u001b[0;32mdef\u001b[0m \u001b[0mfetch\u001b[0m\u001b[0;34m(\u001b[0m\u001b[0mself\u001b[0m\u001b[0;34m,\u001b[0m \u001b[0mpossibly_batched_index\u001b[0m\u001b[0;34m)\u001b[0m\u001b[0;34m:\u001b[0m\u001b[0;34m\u001b[0m\u001b[0;34m\u001b[0m\u001b[0m\n\u001b[1;32m     48\u001b[0m         \u001b[0;32mif\u001b[0m \u001b[0mself\u001b[0m\u001b[0;34m.\u001b[0m\u001b[0mauto_collation\u001b[0m\u001b[0;34m:\u001b[0m\u001b[0;34m\u001b[0m\u001b[0;34m\u001b[0m\u001b[0m\n\u001b[0;32m---> 49\u001b[0;31m             \u001b[0mdata\u001b[0m \u001b[0;34m=\u001b[0m \u001b[0;34m[\u001b[0m\u001b[0mself\u001b[0m\u001b[0;34m.\u001b[0m\u001b[0mdataset\u001b[0m\u001b[0;34m[\u001b[0m\u001b[0midx\u001b[0m\u001b[0;34m]\u001b[0m \u001b[0;32mfor\u001b[0m \u001b[0midx\u001b[0m \u001b[0;32min\u001b[0m \u001b[0mpossibly_batched_index\u001b[0m\u001b[0;34m]\u001b[0m\u001b[0;34m\u001b[0m\u001b[0;34m\u001b[0m\u001b[0m\n\u001b[0m\u001b[1;32m     50\u001b[0m         \u001b[0;32melse\u001b[0m\u001b[0;34m:\u001b[0m\u001b[0;34m\u001b[0m\u001b[0;34m\u001b[0m\u001b[0m\n\u001b[1;32m     51\u001b[0m             \u001b[0mdata\u001b[0m \u001b[0;34m=\u001b[0m \u001b[0mself\u001b[0m\u001b[0;34m.\u001b[0m\u001b[0mdataset\u001b[0m\u001b[0;34m[\u001b[0m\u001b[0mpossibly_batched_index\u001b[0m\u001b[0;34m]\u001b[0m\u001b[0;34m\u001b[0m\u001b[0;34m\u001b[0m\u001b[0m\n",
            "\u001b[0;32m<ipython-input-4-c73156eb3177>\u001b[0m in \u001b[0;36m__getitem__\u001b[0;34m(self, index)\u001b[0m\n\u001b[1;32m     21\u001b[0m \u001b[0;34m\u001b[0m\u001b[0m\n\u001b[1;32m     22\u001b[0m         \u001b[0mimage_pil\u001b[0m \u001b[0;34m=\u001b[0m \u001b[0mImage\u001b[0m\u001b[0;34m.\u001b[0m\u001b[0mopen\u001b[0m\u001b[0;34m(\u001b[0m\u001b[0mimg_path\u001b[0m\u001b[0;34m)\u001b[0m\u001b[0;34m.\u001b[0m\u001b[0mconvert\u001b[0m\u001b[0;34m(\u001b[0m\u001b[0;34m\"RGB\"\u001b[0m\u001b[0;34m)\u001b[0m\u001b[0;34m\u001b[0m\u001b[0;34m\u001b[0m\u001b[0m\n\u001b[0;32m---> 23\u001b[0;31m         \u001b[0mmask_pil\u001b[0m \u001b[0;34m=\u001b[0m \u001b[0mImage\u001b[0m\u001b[0;34m.\u001b[0m\u001b[0mopen\u001b[0m\u001b[0;34m(\u001b[0m\u001b[0mmask_path\u001b[0m\u001b[0;34m)\u001b[0m\u001b[0;34m.\u001b[0m\u001b[0mconvert\u001b[0m\u001b[0;34m(\u001b[0m\u001b[0;34m\"RGB\"\u001b[0m\u001b[0;34m)\u001b[0m\u001b[0;34m\u001b[0m\u001b[0;34m\u001b[0m\u001b[0m\n\u001b[0m\u001b[1;32m     24\u001b[0m \u001b[0;34m\u001b[0m\u001b[0m\n\u001b[1;32m     25\u001b[0m         \u001b[0;31m# preprocessing\u001b[0m\u001b[0;34m\u001b[0m\u001b[0;34m\u001b[0m\u001b[0;34m\u001b[0m\u001b[0m\n",
            "\u001b[0;32m/usr/local/lib/python3.7/dist-packages/PIL/Image.py\u001b[0m in \u001b[0;36mopen\u001b[0;34m(fp, mode)\u001b[0m\n\u001b[1;32m   2841\u001b[0m \u001b[0;34m\u001b[0m\u001b[0m\n\u001b[1;32m   2842\u001b[0m     \u001b[0;32mif\u001b[0m \u001b[0mfilename\u001b[0m\u001b[0;34m:\u001b[0m\u001b[0;34m\u001b[0m\u001b[0;34m\u001b[0m\u001b[0m\n\u001b[0;32m-> 2843\u001b[0;31m         \u001b[0mfp\u001b[0m \u001b[0;34m=\u001b[0m \u001b[0mbuiltins\u001b[0m\u001b[0;34m.\u001b[0m\u001b[0mopen\u001b[0m\u001b[0;34m(\u001b[0m\u001b[0mfilename\u001b[0m\u001b[0;34m,\u001b[0m \u001b[0;34m\"rb\"\u001b[0m\u001b[0;34m)\u001b[0m\u001b[0;34m\u001b[0m\u001b[0;34m\u001b[0m\u001b[0m\n\u001b[0m\u001b[1;32m   2844\u001b[0m         \u001b[0mexclusive_fp\u001b[0m \u001b[0;34m=\u001b[0m \u001b[0;32mTrue\u001b[0m\u001b[0;34m\u001b[0m\u001b[0;34m\u001b[0m\u001b[0m\n\u001b[1;32m   2845\u001b[0m \u001b[0;34m\u001b[0m\u001b[0m\n",
            "\u001b[0;31mKeyboardInterrupt\u001b[0m: "
          ]
        }
      ]
    },
    {
      "cell_type": "code",
      "source": [
        ""
      ],
      "metadata": {
        "id": "XWq55StCBGR7"
      },
      "execution_count": null,
      "outputs": []
    },
    {
      "cell_type": "code",
      "source": [
        "X.shape"
      ],
      "metadata": {
        "colab": {
          "base_uri": "https://localhost:8080/"
        },
        "id": "ZpJt64pM5JXM",
        "outputId": "cb06deef-6ef3-48e7-c6c3-d8f8edc580f9"
      },
      "execution_count": null,
      "outputs": [
        {
          "output_type": "execute_result",
          "data": {
            "text/plain": [
              "torch.Size([32, 3, 572, 572])"
            ]
          },
          "metadata": {},
          "execution_count": 66
        }
      ]
    },
    {
      "cell_type": "code",
      "source": [
        "Y.shape"
      ],
      "metadata": {
        "colab": {
          "base_uri": "https://localhost:8080/"
        },
        "id": "wmWCsyls5MyD",
        "outputId": "92bc0a66-eaae-4103-9d97-0235dc130b81"
      },
      "execution_count": null,
      "outputs": [
        {
          "output_type": "execute_result",
          "data": {
            "text/plain": [
              "torch.Size([32, 8, 572, 572])"
            ]
          },
          "metadata": {},
          "execution_count": 67
        }
      ]
    },
    {
      "cell_type": "code",
      "source": [
        "#data_loader = DataLoader(dataset, batch_size=4)\n",
        "print(len(dataset), len(data_loader), len(train_loader), len(val_loader))\n",
        "\n",
        "#X, Y = iter(data_loader).next()\n",
        "#print(type(X))\n",
        "#print(type(Y))\n",
        "\n",
        "#works, because 49*32=1568."
      ],
      "metadata": {
        "colab": {
          "base_uri": "https://localhost:8080/"
        },
        "id": "9xuEEQifw5xP",
        "outputId": "e56500b7-9083-491b-a83a-cab942177807"
      },
      "execution_count": 16,
      "outputs": [
        {
          "output_type": "stream",
          "name": "stdout",
          "text": [
            "1525 382 305 77\n"
          ]
        }
      ]
    },
    {
      "cell_type": "code",
      "source": [
        "epochs = 3\n",
        "lr = 0.01\n",
        "criterion = nn.BCEWithLogitsLoss()\n",
        "optimizer = optim.Adam(model.parameters(), lr=lr)"
      ],
      "metadata": {
        "id": "2N2zbWs0ztSt"
      },
      "execution_count": 14,
      "outputs": []
    },
    {
      "cell_type": "code",
      "source": [
        "step_losses = []\n",
        "epoch_losses = []\n",
        "\n",
        "train_losses=[]\n",
        "train_accu=[]\n",
        "\n",
        "val_losses=[]\n",
        "val_accu=[]\n",
        "\n",
        "count=0\n",
        "for epoch in tqdm(range(1)):\n",
        "    epoch_loss = 0\n",
        "    for X, Y in tqdm(train_loader, total=len(train_loader), leave=False):\n",
        "        optimizer.zero_grad()\n",
        "        Y_pred = model(X)\n",
        "        loss = criterion(Y_pred, Y.float())\n",
        "        loss.backward()\n",
        "        optimizer.step()\n",
        "        epoch_loss += loss.item()\n",
        "        step_losses.append(loss.item())\n",
        "        count=count+1\n",
        "        if count==50:\n",
        "          break\n",
        "    #epoch_losses.append(epoch_loss/len(data_loader))"
      ],
      "metadata": {
        "colab": {
          "base_uri": "https://localhost:8080/",
          "height": 478,
          "referenced_widgets": [
            "0098e5e8c39849d4a53cebf9f90cc01c",
            "cbb6f21ac4004c398c1216682f1ebd41",
            "bf0e59e2eab34813b69a62a163935a72",
            "23051ad04d874790939ee3df12161bff",
            "e8a7cb269855468a821a78fdd70b6a74",
            "2c090069ecb74058aaa62ec5a54fc761",
            "8b071486f6fc419593d21465bca59dda",
            "fcd5fb5ed85b4a62bf2fc8454b666707",
            "0c473ff7593d4b2ebf15f9dd0e17fb6d",
            "03864feb189f41dab47ce009595d60e2",
            "5fa1414589cd40f0ab511c821bab2b10",
            "0ce97b8e06f84422aa91447b83694096",
            "64ad44fbca4048d0817c560f11d486c3",
            "322434d2dcac41b8a63f02f766a1d7b9",
            "8f8c41fc077846428ac2a8619159bed0",
            "705598fc6aaa423189b43440b4de3c2c",
            "fc9488b182694503b12ff2b1d60b777a",
            "45fb996054ad49848a835b7d777a59ca",
            "a317b659434b4d6889f2ccffd772ff4f",
            "650d913ddf404a7e9ebebad144138e0c",
            "056c419d5fa64f7d816c9718383e1d4b",
            "0bdeaad282f6419eaa25d1a2a72a7ff1"
          ]
        },
        "id": "CekGhr0o0FCF",
        "outputId": "8a2c7a70-97f6-44eb-c13c-189b209ead18"
      },
      "execution_count": 15,
      "outputs": [
        {
          "output_type": "display_data",
          "data": {
            "text/plain": [
              "  0%|          | 0/3 [00:00<?, ?it/s]"
            ],
            "application/vnd.jupyter.widget-view+json": {
              "version_major": 2,
              "version_minor": 0,
              "model_id": "0098e5e8c39849d4a53cebf9f90cc01c"
            }
          },
          "metadata": {}
        },
        {
          "output_type": "display_data",
          "data": {
            "text/plain": [
              "  0%|          | 0/382 [00:00<?, ?it/s]"
            ],
            "application/vnd.jupyter.widget-view+json": {
              "version_major": 2,
              "version_minor": 0,
              "model_id": "0ce97b8e06f84422aa91447b83694096"
            }
          },
          "metadata": {}
        },
        {
          "output_type": "stream",
          "name": "stderr",
          "text": [
            "/usr/local/lib/python3.7/dist-packages/torch/nn/functional.py:1806: UserWarning: nn.functional.sigmoid is deprecated. Use torch.sigmoid instead.\n",
            "  warnings.warn(\"nn.functional.sigmoid is deprecated. Use torch.sigmoid instead.\")\n"
          ]
        },
        {
          "output_type": "error",
          "ename": "KeyboardInterrupt",
          "evalue": "ignored",
          "traceback": [
            "\u001b[0;31m---------------------------------------------------------------------------\u001b[0m",
            "\u001b[0;31mKeyboardInterrupt\u001b[0m                         Traceback (most recent call last)",
            "\u001b[0;32m<ipython-input-15-3ac2c291f7a9>\u001b[0m in \u001b[0;36m<module>\u001b[0;34m()\u001b[0m\n\u001b[1;32m      7\u001b[0m         \u001b[0mY_pred\u001b[0m \u001b[0;34m=\u001b[0m \u001b[0mmodel\u001b[0m\u001b[0;34m(\u001b[0m\u001b[0mX\u001b[0m\u001b[0;34m)\u001b[0m\u001b[0;34m\u001b[0m\u001b[0;34m\u001b[0m\u001b[0m\n\u001b[1;32m      8\u001b[0m         \u001b[0mloss\u001b[0m \u001b[0;34m=\u001b[0m \u001b[0mcriterion\u001b[0m\u001b[0;34m(\u001b[0m\u001b[0mY_pred\u001b[0m\u001b[0;34m,\u001b[0m \u001b[0mY\u001b[0m\u001b[0;34m.\u001b[0m\u001b[0mfloat\u001b[0m\u001b[0;34m(\u001b[0m\u001b[0;34m)\u001b[0m\u001b[0;34m)\u001b[0m\u001b[0;34m\u001b[0m\u001b[0;34m\u001b[0m\u001b[0m\n\u001b[0;32m----> 9\u001b[0;31m         \u001b[0mloss\u001b[0m\u001b[0;34m.\u001b[0m\u001b[0mbackward\u001b[0m\u001b[0;34m(\u001b[0m\u001b[0;34m)\u001b[0m\u001b[0;34m\u001b[0m\u001b[0;34m\u001b[0m\u001b[0m\n\u001b[0m\u001b[1;32m     10\u001b[0m         \u001b[0moptimizer\u001b[0m\u001b[0;34m.\u001b[0m\u001b[0mstep\u001b[0m\u001b[0;34m(\u001b[0m\u001b[0;34m)\u001b[0m\u001b[0;34m\u001b[0m\u001b[0;34m\u001b[0m\u001b[0m\n\u001b[1;32m     11\u001b[0m         \u001b[0mepoch_loss\u001b[0m \u001b[0;34m+=\u001b[0m \u001b[0mloss\u001b[0m\u001b[0;34m.\u001b[0m\u001b[0mitem\u001b[0m\u001b[0;34m(\u001b[0m\u001b[0;34m)\u001b[0m\u001b[0;34m\u001b[0m\u001b[0;34m\u001b[0m\u001b[0m\n",
            "\u001b[0;32m/usr/local/lib/python3.7/dist-packages/torch/_tensor.py\u001b[0m in \u001b[0;36mbackward\u001b[0;34m(self, gradient, retain_graph, create_graph, inputs)\u001b[0m\n\u001b[1;32m    305\u001b[0m                 \u001b[0mcreate_graph\u001b[0m\u001b[0;34m=\u001b[0m\u001b[0mcreate_graph\u001b[0m\u001b[0;34m,\u001b[0m\u001b[0;34m\u001b[0m\u001b[0;34m\u001b[0m\u001b[0m\n\u001b[1;32m    306\u001b[0m                 inputs=inputs)\n\u001b[0;32m--> 307\u001b[0;31m         \u001b[0mtorch\u001b[0m\u001b[0;34m.\u001b[0m\u001b[0mautograd\u001b[0m\u001b[0;34m.\u001b[0m\u001b[0mbackward\u001b[0m\u001b[0;34m(\u001b[0m\u001b[0mself\u001b[0m\u001b[0;34m,\u001b[0m \u001b[0mgradient\u001b[0m\u001b[0;34m,\u001b[0m \u001b[0mretain_graph\u001b[0m\u001b[0;34m,\u001b[0m \u001b[0mcreate_graph\u001b[0m\u001b[0;34m,\u001b[0m \u001b[0minputs\u001b[0m\u001b[0;34m=\u001b[0m\u001b[0minputs\u001b[0m\u001b[0;34m)\u001b[0m\u001b[0;34m\u001b[0m\u001b[0;34m\u001b[0m\u001b[0m\n\u001b[0m\u001b[1;32m    308\u001b[0m \u001b[0;34m\u001b[0m\u001b[0m\n\u001b[1;32m    309\u001b[0m     \u001b[0;32mdef\u001b[0m \u001b[0mregister_hook\u001b[0m\u001b[0;34m(\u001b[0m\u001b[0mself\u001b[0m\u001b[0;34m,\u001b[0m \u001b[0mhook\u001b[0m\u001b[0;34m)\u001b[0m\u001b[0;34m:\u001b[0m\u001b[0;34m\u001b[0m\u001b[0;34m\u001b[0m\u001b[0m\n",
            "\u001b[0;32m/usr/local/lib/python3.7/dist-packages/torch/autograd/__init__.py\u001b[0m in \u001b[0;36mbackward\u001b[0;34m(tensors, grad_tensors, retain_graph, create_graph, grad_variables, inputs)\u001b[0m\n\u001b[1;32m    154\u001b[0m     Variable._execution_engine.run_backward(\n\u001b[1;32m    155\u001b[0m         \u001b[0mtensors\u001b[0m\u001b[0;34m,\u001b[0m \u001b[0mgrad_tensors_\u001b[0m\u001b[0;34m,\u001b[0m \u001b[0mretain_graph\u001b[0m\u001b[0;34m,\u001b[0m \u001b[0mcreate_graph\u001b[0m\u001b[0;34m,\u001b[0m \u001b[0minputs\u001b[0m\u001b[0;34m,\u001b[0m\u001b[0;34m\u001b[0m\u001b[0;34m\u001b[0m\u001b[0m\n\u001b[0;32m--> 156\u001b[0;31m         allow_unreachable=True, accumulate_grad=True)  # allow_unreachable flag\n\u001b[0m\u001b[1;32m    157\u001b[0m \u001b[0;34m\u001b[0m\u001b[0m\n\u001b[1;32m    158\u001b[0m \u001b[0;34m\u001b[0m\u001b[0m\n",
            "\u001b[0;31mKeyboardInterrupt\u001b[0m: "
          ]
        }
      ]
    },
    {
      "cell_type": "code",
      "source": [
        ""
      ],
      "metadata": {
        "id": "ynOQBFNe3Mfi"
      },
      "execution_count": null,
      "outputs": []
    }
  ]
}