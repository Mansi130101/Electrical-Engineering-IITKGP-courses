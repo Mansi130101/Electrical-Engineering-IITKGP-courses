{
  "metadata": {
    "kernelspec": {
      "language": "python",
      "display_name": "Python 3",
      "name": "python3"
    },
    "language_info": {
      "name": "python",
      "version": "3.7.12",
      "mimetype": "text/x-python",
      "codemirror_mode": {
        "name": "ipython",
        "version": 3
      },
      "pygments_lexer": "ipython3",
      "nbconvert_exporter": "python",
      "file_extension": ".py"
    },
    "colab": {
      "name": "Assignment2_19EE10039.ipynb",
      "provenance": [],
      "collapsed_sections": []
    },
    "accelerator": "GPU",
    "widgets": {
      "application/vnd.jupyter.widget-state+json": {
        "a22e446f77b6450f9cde7fcb5339a992": {
          "model_module": "@jupyter-widgets/controls",
          "model_name": "HBoxModel",
          "model_module_version": "1.5.0",
          "state": {
            "_dom_classes": [],
            "_model_module": "@jupyter-widgets/controls",
            "_model_module_version": "1.5.0",
            "_model_name": "HBoxModel",
            "_view_count": null,
            "_view_module": "@jupyter-widgets/controls",
            "_view_module_version": "1.5.0",
            "_view_name": "HBoxView",
            "box_style": "",
            "children": [
              "IPY_MODEL_2170facd4f3242b8897fe3e903d1e3bc",
              "IPY_MODEL_645c407d472d4cb493ee1178127316f6",
              "IPY_MODEL_dd9210564fe840f1ab19423d5a53c354"
            ],
            "layout": "IPY_MODEL_88444dd56b85486a81fe423957a6c410"
          }
        },
        "2170facd4f3242b8897fe3e903d1e3bc": {
          "model_module": "@jupyter-widgets/controls",
          "model_name": "HTMLModel",
          "model_module_version": "1.5.0",
          "state": {
            "_dom_classes": [],
            "_model_module": "@jupyter-widgets/controls",
            "_model_module_version": "1.5.0",
            "_model_name": "HTMLModel",
            "_view_count": null,
            "_view_module": "@jupyter-widgets/controls",
            "_view_module_version": "1.5.0",
            "_view_name": "HTMLView",
            "description": "",
            "description_tooltip": null,
            "layout": "IPY_MODEL_c877a6f5ceb74cc1b5566dfb4fd819db",
            "placeholder": "​",
            "style": "IPY_MODEL_c82822bac38f4ddea903af84c48b7a5b",
            "value": ""
          }
        },
        "645c407d472d4cb493ee1178127316f6": {
          "model_module": "@jupyter-widgets/controls",
          "model_name": "FloatProgressModel",
          "model_module_version": "1.5.0",
          "state": {
            "_dom_classes": [],
            "_model_module": "@jupyter-widgets/controls",
            "_model_module_version": "1.5.0",
            "_model_name": "FloatProgressModel",
            "_view_count": null,
            "_view_module": "@jupyter-widgets/controls",
            "_view_module_version": "1.5.0",
            "_view_name": "ProgressView",
            "bar_style": "success",
            "description": "",
            "description_tooltip": null,
            "layout": "IPY_MODEL_f85ad463666d41829b9f290470b5975d",
            "max": 9912422,
            "min": 0,
            "orientation": "horizontal",
            "style": "IPY_MODEL_69e3ed17f10648caa80a0aa4ac2c4a12",
            "value": 9912422
          }
        },
        "dd9210564fe840f1ab19423d5a53c354": {
          "model_module": "@jupyter-widgets/controls",
          "model_name": "HTMLModel",
          "model_module_version": "1.5.0",
          "state": {
            "_dom_classes": [],
            "_model_module": "@jupyter-widgets/controls",
            "_model_module_version": "1.5.0",
            "_model_name": "HTMLModel",
            "_view_count": null,
            "_view_module": "@jupyter-widgets/controls",
            "_view_module_version": "1.5.0",
            "_view_name": "HTMLView",
            "description": "",
            "description_tooltip": null,
            "layout": "IPY_MODEL_fe3d34946b0f46a096b8046499f0ad78",
            "placeholder": "​",
            "style": "IPY_MODEL_b925af34819544e9adea91401a09401f",
            "value": " 9913344/? [00:00&lt;00:00, 20179515.41it/s]"
          }
        },
        "88444dd56b85486a81fe423957a6c410": {
          "model_module": "@jupyter-widgets/base",
          "model_name": "LayoutModel",
          "model_module_version": "1.2.0",
          "state": {
            "_model_module": "@jupyter-widgets/base",
            "_model_module_version": "1.2.0",
            "_model_name": "LayoutModel",
            "_view_count": null,
            "_view_module": "@jupyter-widgets/base",
            "_view_module_version": "1.2.0",
            "_view_name": "LayoutView",
            "align_content": null,
            "align_items": null,
            "align_self": null,
            "border": null,
            "bottom": null,
            "display": null,
            "flex": null,
            "flex_flow": null,
            "grid_area": null,
            "grid_auto_columns": null,
            "grid_auto_flow": null,
            "grid_auto_rows": null,
            "grid_column": null,
            "grid_gap": null,
            "grid_row": null,
            "grid_template_areas": null,
            "grid_template_columns": null,
            "grid_template_rows": null,
            "height": null,
            "justify_content": null,
            "justify_items": null,
            "left": null,
            "margin": null,
            "max_height": null,
            "max_width": null,
            "min_height": null,
            "min_width": null,
            "object_fit": null,
            "object_position": null,
            "order": null,
            "overflow": null,
            "overflow_x": null,
            "overflow_y": null,
            "padding": null,
            "right": null,
            "top": null,
            "visibility": null,
            "width": null
          }
        },
        "c877a6f5ceb74cc1b5566dfb4fd819db": {
          "model_module": "@jupyter-widgets/base",
          "model_name": "LayoutModel",
          "model_module_version": "1.2.0",
          "state": {
            "_model_module": "@jupyter-widgets/base",
            "_model_module_version": "1.2.0",
            "_model_name": "LayoutModel",
            "_view_count": null,
            "_view_module": "@jupyter-widgets/base",
            "_view_module_version": "1.2.0",
            "_view_name": "LayoutView",
            "align_content": null,
            "align_items": null,
            "align_self": null,
            "border": null,
            "bottom": null,
            "display": null,
            "flex": null,
            "flex_flow": null,
            "grid_area": null,
            "grid_auto_columns": null,
            "grid_auto_flow": null,
            "grid_auto_rows": null,
            "grid_column": null,
            "grid_gap": null,
            "grid_row": null,
            "grid_template_areas": null,
            "grid_template_columns": null,
            "grid_template_rows": null,
            "height": null,
            "justify_content": null,
            "justify_items": null,
            "left": null,
            "margin": null,
            "max_height": null,
            "max_width": null,
            "min_height": null,
            "min_width": null,
            "object_fit": null,
            "object_position": null,
            "order": null,
            "overflow": null,
            "overflow_x": null,
            "overflow_y": null,
            "padding": null,
            "right": null,
            "top": null,
            "visibility": null,
            "width": null
          }
        },
        "c82822bac38f4ddea903af84c48b7a5b": {
          "model_module": "@jupyter-widgets/controls",
          "model_name": "DescriptionStyleModel",
          "model_module_version": "1.5.0",
          "state": {
            "_model_module": "@jupyter-widgets/controls",
            "_model_module_version": "1.5.0",
            "_model_name": "DescriptionStyleModel",
            "_view_count": null,
            "_view_module": "@jupyter-widgets/base",
            "_view_module_version": "1.2.0",
            "_view_name": "StyleView",
            "description_width": ""
          }
        },
        "f85ad463666d41829b9f290470b5975d": {
          "model_module": "@jupyter-widgets/base",
          "model_name": "LayoutModel",
          "model_module_version": "1.2.0",
          "state": {
            "_model_module": "@jupyter-widgets/base",
            "_model_module_version": "1.2.0",
            "_model_name": "LayoutModel",
            "_view_count": null,
            "_view_module": "@jupyter-widgets/base",
            "_view_module_version": "1.2.0",
            "_view_name": "LayoutView",
            "align_content": null,
            "align_items": null,
            "align_self": null,
            "border": null,
            "bottom": null,
            "display": null,
            "flex": null,
            "flex_flow": null,
            "grid_area": null,
            "grid_auto_columns": null,
            "grid_auto_flow": null,
            "grid_auto_rows": null,
            "grid_column": null,
            "grid_gap": null,
            "grid_row": null,
            "grid_template_areas": null,
            "grid_template_columns": null,
            "grid_template_rows": null,
            "height": null,
            "justify_content": null,
            "justify_items": null,
            "left": null,
            "margin": null,
            "max_height": null,
            "max_width": null,
            "min_height": null,
            "min_width": null,
            "object_fit": null,
            "object_position": null,
            "order": null,
            "overflow": null,
            "overflow_x": null,
            "overflow_y": null,
            "padding": null,
            "right": null,
            "top": null,
            "visibility": null,
            "width": null
          }
        },
        "69e3ed17f10648caa80a0aa4ac2c4a12": {
          "model_module": "@jupyter-widgets/controls",
          "model_name": "ProgressStyleModel",
          "model_module_version": "1.5.0",
          "state": {
            "_model_module": "@jupyter-widgets/controls",
            "_model_module_version": "1.5.0",
            "_model_name": "ProgressStyleModel",
            "_view_count": null,
            "_view_module": "@jupyter-widgets/base",
            "_view_module_version": "1.2.0",
            "_view_name": "StyleView",
            "bar_color": null,
            "description_width": ""
          }
        },
        "fe3d34946b0f46a096b8046499f0ad78": {
          "model_module": "@jupyter-widgets/base",
          "model_name": "LayoutModel",
          "model_module_version": "1.2.0",
          "state": {
            "_model_module": "@jupyter-widgets/base",
            "_model_module_version": "1.2.0",
            "_model_name": "LayoutModel",
            "_view_count": null,
            "_view_module": "@jupyter-widgets/base",
            "_view_module_version": "1.2.0",
            "_view_name": "LayoutView",
            "align_content": null,
            "align_items": null,
            "align_self": null,
            "border": null,
            "bottom": null,
            "display": null,
            "flex": null,
            "flex_flow": null,
            "grid_area": null,
            "grid_auto_columns": null,
            "grid_auto_flow": null,
            "grid_auto_rows": null,
            "grid_column": null,
            "grid_gap": null,
            "grid_row": null,
            "grid_template_areas": null,
            "grid_template_columns": null,
            "grid_template_rows": null,
            "height": null,
            "justify_content": null,
            "justify_items": null,
            "left": null,
            "margin": null,
            "max_height": null,
            "max_width": null,
            "min_height": null,
            "min_width": null,
            "object_fit": null,
            "object_position": null,
            "order": null,
            "overflow": null,
            "overflow_x": null,
            "overflow_y": null,
            "padding": null,
            "right": null,
            "top": null,
            "visibility": null,
            "width": null
          }
        },
        "b925af34819544e9adea91401a09401f": {
          "model_module": "@jupyter-widgets/controls",
          "model_name": "DescriptionStyleModel",
          "model_module_version": "1.5.0",
          "state": {
            "_model_module": "@jupyter-widgets/controls",
            "_model_module_version": "1.5.0",
            "_model_name": "DescriptionStyleModel",
            "_view_count": null,
            "_view_module": "@jupyter-widgets/base",
            "_view_module_version": "1.2.0",
            "_view_name": "StyleView",
            "description_width": ""
          }
        },
        "ad191ca1f4974aeaa2e234cc352bb7ea": {
          "model_module": "@jupyter-widgets/controls",
          "model_name": "HBoxModel",
          "model_module_version": "1.5.0",
          "state": {
            "_dom_classes": [],
            "_model_module": "@jupyter-widgets/controls",
            "_model_module_version": "1.5.0",
            "_model_name": "HBoxModel",
            "_view_count": null,
            "_view_module": "@jupyter-widgets/controls",
            "_view_module_version": "1.5.0",
            "_view_name": "HBoxView",
            "box_style": "",
            "children": [
              "IPY_MODEL_0a7e2d5e458c4e969c99ab0b6adb792d",
              "IPY_MODEL_03d5ae29f4b844d29040b7028c471d85",
              "IPY_MODEL_70590a29efe34be484810eaa62458236"
            ],
            "layout": "IPY_MODEL_f2a46405fbe84f3b9b7656042c415c10"
          }
        },
        "0a7e2d5e458c4e969c99ab0b6adb792d": {
          "model_module": "@jupyter-widgets/controls",
          "model_name": "HTMLModel",
          "model_module_version": "1.5.0",
          "state": {
            "_dom_classes": [],
            "_model_module": "@jupyter-widgets/controls",
            "_model_module_version": "1.5.0",
            "_model_name": "HTMLModel",
            "_view_count": null,
            "_view_module": "@jupyter-widgets/controls",
            "_view_module_version": "1.5.0",
            "_view_name": "HTMLView",
            "description": "",
            "description_tooltip": null,
            "layout": "IPY_MODEL_45aefad0ae114c8f8050cd4375dcf1d4",
            "placeholder": "​",
            "style": "IPY_MODEL_6781877af13c44a68c0a44db333f8e75",
            "value": ""
          }
        },
        "03d5ae29f4b844d29040b7028c471d85": {
          "model_module": "@jupyter-widgets/controls",
          "model_name": "FloatProgressModel",
          "model_module_version": "1.5.0",
          "state": {
            "_dom_classes": [],
            "_model_module": "@jupyter-widgets/controls",
            "_model_module_version": "1.5.0",
            "_model_name": "FloatProgressModel",
            "_view_count": null,
            "_view_module": "@jupyter-widgets/controls",
            "_view_module_version": "1.5.0",
            "_view_name": "ProgressView",
            "bar_style": "success",
            "description": "",
            "description_tooltip": null,
            "layout": "IPY_MODEL_6a29c6f9fc784db6baac56ffe7dbec9f",
            "max": 28881,
            "min": 0,
            "orientation": "horizontal",
            "style": "IPY_MODEL_5582a187949c40a493ded539a4d0b20e",
            "value": 28881
          }
        },
        "70590a29efe34be484810eaa62458236": {
          "model_module": "@jupyter-widgets/controls",
          "model_name": "HTMLModel",
          "model_module_version": "1.5.0",
          "state": {
            "_dom_classes": [],
            "_model_module": "@jupyter-widgets/controls",
            "_model_module_version": "1.5.0",
            "_model_name": "HTMLModel",
            "_view_count": null,
            "_view_module": "@jupyter-widgets/controls",
            "_view_module_version": "1.5.0",
            "_view_name": "HTMLView",
            "description": "",
            "description_tooltip": null,
            "layout": "IPY_MODEL_2fd776e74e174f2a8f83170d6ea447a0",
            "placeholder": "​",
            "style": "IPY_MODEL_c0b0d6e0717543a59be67d1494c0552a",
            "value": " 29696/? [00:00&lt;00:00, 830786.81it/s]"
          }
        },
        "f2a46405fbe84f3b9b7656042c415c10": {
          "model_module": "@jupyter-widgets/base",
          "model_name": "LayoutModel",
          "model_module_version": "1.2.0",
          "state": {
            "_model_module": "@jupyter-widgets/base",
            "_model_module_version": "1.2.0",
            "_model_name": "LayoutModel",
            "_view_count": null,
            "_view_module": "@jupyter-widgets/base",
            "_view_module_version": "1.2.0",
            "_view_name": "LayoutView",
            "align_content": null,
            "align_items": null,
            "align_self": null,
            "border": null,
            "bottom": null,
            "display": null,
            "flex": null,
            "flex_flow": null,
            "grid_area": null,
            "grid_auto_columns": null,
            "grid_auto_flow": null,
            "grid_auto_rows": null,
            "grid_column": null,
            "grid_gap": null,
            "grid_row": null,
            "grid_template_areas": null,
            "grid_template_columns": null,
            "grid_template_rows": null,
            "height": null,
            "justify_content": null,
            "justify_items": null,
            "left": null,
            "margin": null,
            "max_height": null,
            "max_width": null,
            "min_height": null,
            "min_width": null,
            "object_fit": null,
            "object_position": null,
            "order": null,
            "overflow": null,
            "overflow_x": null,
            "overflow_y": null,
            "padding": null,
            "right": null,
            "top": null,
            "visibility": null,
            "width": null
          }
        },
        "45aefad0ae114c8f8050cd4375dcf1d4": {
          "model_module": "@jupyter-widgets/base",
          "model_name": "LayoutModel",
          "model_module_version": "1.2.0",
          "state": {
            "_model_module": "@jupyter-widgets/base",
            "_model_module_version": "1.2.0",
            "_model_name": "LayoutModel",
            "_view_count": null,
            "_view_module": "@jupyter-widgets/base",
            "_view_module_version": "1.2.0",
            "_view_name": "LayoutView",
            "align_content": null,
            "align_items": null,
            "align_self": null,
            "border": null,
            "bottom": null,
            "display": null,
            "flex": null,
            "flex_flow": null,
            "grid_area": null,
            "grid_auto_columns": null,
            "grid_auto_flow": null,
            "grid_auto_rows": null,
            "grid_column": null,
            "grid_gap": null,
            "grid_row": null,
            "grid_template_areas": null,
            "grid_template_columns": null,
            "grid_template_rows": null,
            "height": null,
            "justify_content": null,
            "justify_items": null,
            "left": null,
            "margin": null,
            "max_height": null,
            "max_width": null,
            "min_height": null,
            "min_width": null,
            "object_fit": null,
            "object_position": null,
            "order": null,
            "overflow": null,
            "overflow_x": null,
            "overflow_y": null,
            "padding": null,
            "right": null,
            "top": null,
            "visibility": null,
            "width": null
          }
        },
        "6781877af13c44a68c0a44db333f8e75": {
          "model_module": "@jupyter-widgets/controls",
          "model_name": "DescriptionStyleModel",
          "model_module_version": "1.5.0",
          "state": {
            "_model_module": "@jupyter-widgets/controls",
            "_model_module_version": "1.5.0",
            "_model_name": "DescriptionStyleModel",
            "_view_count": null,
            "_view_module": "@jupyter-widgets/base",
            "_view_module_version": "1.2.0",
            "_view_name": "StyleView",
            "description_width": ""
          }
        },
        "6a29c6f9fc784db6baac56ffe7dbec9f": {
          "model_module": "@jupyter-widgets/base",
          "model_name": "LayoutModel",
          "model_module_version": "1.2.0",
          "state": {
            "_model_module": "@jupyter-widgets/base",
            "_model_module_version": "1.2.0",
            "_model_name": "LayoutModel",
            "_view_count": null,
            "_view_module": "@jupyter-widgets/base",
            "_view_module_version": "1.2.0",
            "_view_name": "LayoutView",
            "align_content": null,
            "align_items": null,
            "align_self": null,
            "border": null,
            "bottom": null,
            "display": null,
            "flex": null,
            "flex_flow": null,
            "grid_area": null,
            "grid_auto_columns": null,
            "grid_auto_flow": null,
            "grid_auto_rows": null,
            "grid_column": null,
            "grid_gap": null,
            "grid_row": null,
            "grid_template_areas": null,
            "grid_template_columns": null,
            "grid_template_rows": null,
            "height": null,
            "justify_content": null,
            "justify_items": null,
            "left": null,
            "margin": null,
            "max_height": null,
            "max_width": null,
            "min_height": null,
            "min_width": null,
            "object_fit": null,
            "object_position": null,
            "order": null,
            "overflow": null,
            "overflow_x": null,
            "overflow_y": null,
            "padding": null,
            "right": null,
            "top": null,
            "visibility": null,
            "width": null
          }
        },
        "5582a187949c40a493ded539a4d0b20e": {
          "model_module": "@jupyter-widgets/controls",
          "model_name": "ProgressStyleModel",
          "model_module_version": "1.5.0",
          "state": {
            "_model_module": "@jupyter-widgets/controls",
            "_model_module_version": "1.5.0",
            "_model_name": "ProgressStyleModel",
            "_view_count": null,
            "_view_module": "@jupyter-widgets/base",
            "_view_module_version": "1.2.0",
            "_view_name": "StyleView",
            "bar_color": null,
            "description_width": ""
          }
        },
        "2fd776e74e174f2a8f83170d6ea447a0": {
          "model_module": "@jupyter-widgets/base",
          "model_name": "LayoutModel",
          "model_module_version": "1.2.0",
          "state": {
            "_model_module": "@jupyter-widgets/base",
            "_model_module_version": "1.2.0",
            "_model_name": "LayoutModel",
            "_view_count": null,
            "_view_module": "@jupyter-widgets/base",
            "_view_module_version": "1.2.0",
            "_view_name": "LayoutView",
            "align_content": null,
            "align_items": null,
            "align_self": null,
            "border": null,
            "bottom": null,
            "display": null,
            "flex": null,
            "flex_flow": null,
            "grid_area": null,
            "grid_auto_columns": null,
            "grid_auto_flow": null,
            "grid_auto_rows": null,
            "grid_column": null,
            "grid_gap": null,
            "grid_row": null,
            "grid_template_areas": null,
            "grid_template_columns": null,
            "grid_template_rows": null,
            "height": null,
            "justify_content": null,
            "justify_items": null,
            "left": null,
            "margin": null,
            "max_height": null,
            "max_width": null,
            "min_height": null,
            "min_width": null,
            "object_fit": null,
            "object_position": null,
            "order": null,
            "overflow": null,
            "overflow_x": null,
            "overflow_y": null,
            "padding": null,
            "right": null,
            "top": null,
            "visibility": null,
            "width": null
          }
        },
        "c0b0d6e0717543a59be67d1494c0552a": {
          "model_module": "@jupyter-widgets/controls",
          "model_name": "DescriptionStyleModel",
          "model_module_version": "1.5.0",
          "state": {
            "_model_module": "@jupyter-widgets/controls",
            "_model_module_version": "1.5.0",
            "_model_name": "DescriptionStyleModel",
            "_view_count": null,
            "_view_module": "@jupyter-widgets/base",
            "_view_module_version": "1.2.0",
            "_view_name": "StyleView",
            "description_width": ""
          }
        },
        "a356bf29ff944bcebd4edc5ca695b132": {
          "model_module": "@jupyter-widgets/controls",
          "model_name": "HBoxModel",
          "model_module_version": "1.5.0",
          "state": {
            "_dom_classes": [],
            "_model_module": "@jupyter-widgets/controls",
            "_model_module_version": "1.5.0",
            "_model_name": "HBoxModel",
            "_view_count": null,
            "_view_module": "@jupyter-widgets/controls",
            "_view_module_version": "1.5.0",
            "_view_name": "HBoxView",
            "box_style": "",
            "children": [
              "IPY_MODEL_6987701e12f44cc392357bb601a9e35b",
              "IPY_MODEL_bead453b24cc45e99514034869e895c3",
              "IPY_MODEL_b4b7458f9c9c4657a9904a717f5fa51c"
            ],
            "layout": "IPY_MODEL_947e696a112a4fe184cc3e2b720348ad"
          }
        },
        "6987701e12f44cc392357bb601a9e35b": {
          "model_module": "@jupyter-widgets/controls",
          "model_name": "HTMLModel",
          "model_module_version": "1.5.0",
          "state": {
            "_dom_classes": [],
            "_model_module": "@jupyter-widgets/controls",
            "_model_module_version": "1.5.0",
            "_model_name": "HTMLModel",
            "_view_count": null,
            "_view_module": "@jupyter-widgets/controls",
            "_view_module_version": "1.5.0",
            "_view_name": "HTMLView",
            "description": "",
            "description_tooltip": null,
            "layout": "IPY_MODEL_32450c02f83c4c6d944f652e7879da60",
            "placeholder": "​",
            "style": "IPY_MODEL_b809acff764c478181c95de4122414ef",
            "value": ""
          }
        },
        "bead453b24cc45e99514034869e895c3": {
          "model_module": "@jupyter-widgets/controls",
          "model_name": "FloatProgressModel",
          "model_module_version": "1.5.0",
          "state": {
            "_dom_classes": [],
            "_model_module": "@jupyter-widgets/controls",
            "_model_module_version": "1.5.0",
            "_model_name": "FloatProgressModel",
            "_view_count": null,
            "_view_module": "@jupyter-widgets/controls",
            "_view_module_version": "1.5.0",
            "_view_name": "ProgressView",
            "bar_style": "success",
            "description": "",
            "description_tooltip": null,
            "layout": "IPY_MODEL_78869247e0014f64b4b0c2fc70aa2c6e",
            "max": 1648877,
            "min": 0,
            "orientation": "horizontal",
            "style": "IPY_MODEL_180a2b1ad3af4417b669cbbc50a23199",
            "value": 1648877
          }
        },
        "b4b7458f9c9c4657a9904a717f5fa51c": {
          "model_module": "@jupyter-widgets/controls",
          "model_name": "HTMLModel",
          "model_module_version": "1.5.0",
          "state": {
            "_dom_classes": [],
            "_model_module": "@jupyter-widgets/controls",
            "_model_module_version": "1.5.0",
            "_model_name": "HTMLModel",
            "_view_count": null,
            "_view_module": "@jupyter-widgets/controls",
            "_view_module_version": "1.5.0",
            "_view_name": "HTMLView",
            "description": "",
            "description_tooltip": null,
            "layout": "IPY_MODEL_d2424ddb5b1c440ea2dce96c95f9f1f3",
            "placeholder": "​",
            "style": "IPY_MODEL_391063877c4848d38cb1380516565c6c",
            "value": " 1649664/? [00:00&lt;00:00, 15296466.68it/s]"
          }
        },
        "947e696a112a4fe184cc3e2b720348ad": {
          "model_module": "@jupyter-widgets/base",
          "model_name": "LayoutModel",
          "model_module_version": "1.2.0",
          "state": {
            "_model_module": "@jupyter-widgets/base",
            "_model_module_version": "1.2.0",
            "_model_name": "LayoutModel",
            "_view_count": null,
            "_view_module": "@jupyter-widgets/base",
            "_view_module_version": "1.2.0",
            "_view_name": "LayoutView",
            "align_content": null,
            "align_items": null,
            "align_self": null,
            "border": null,
            "bottom": null,
            "display": null,
            "flex": null,
            "flex_flow": null,
            "grid_area": null,
            "grid_auto_columns": null,
            "grid_auto_flow": null,
            "grid_auto_rows": null,
            "grid_column": null,
            "grid_gap": null,
            "grid_row": null,
            "grid_template_areas": null,
            "grid_template_columns": null,
            "grid_template_rows": null,
            "height": null,
            "justify_content": null,
            "justify_items": null,
            "left": null,
            "margin": null,
            "max_height": null,
            "max_width": null,
            "min_height": null,
            "min_width": null,
            "object_fit": null,
            "object_position": null,
            "order": null,
            "overflow": null,
            "overflow_x": null,
            "overflow_y": null,
            "padding": null,
            "right": null,
            "top": null,
            "visibility": null,
            "width": null
          }
        },
        "32450c02f83c4c6d944f652e7879da60": {
          "model_module": "@jupyter-widgets/base",
          "model_name": "LayoutModel",
          "model_module_version": "1.2.0",
          "state": {
            "_model_module": "@jupyter-widgets/base",
            "_model_module_version": "1.2.0",
            "_model_name": "LayoutModel",
            "_view_count": null,
            "_view_module": "@jupyter-widgets/base",
            "_view_module_version": "1.2.0",
            "_view_name": "LayoutView",
            "align_content": null,
            "align_items": null,
            "align_self": null,
            "border": null,
            "bottom": null,
            "display": null,
            "flex": null,
            "flex_flow": null,
            "grid_area": null,
            "grid_auto_columns": null,
            "grid_auto_flow": null,
            "grid_auto_rows": null,
            "grid_column": null,
            "grid_gap": null,
            "grid_row": null,
            "grid_template_areas": null,
            "grid_template_columns": null,
            "grid_template_rows": null,
            "height": null,
            "justify_content": null,
            "justify_items": null,
            "left": null,
            "margin": null,
            "max_height": null,
            "max_width": null,
            "min_height": null,
            "min_width": null,
            "object_fit": null,
            "object_position": null,
            "order": null,
            "overflow": null,
            "overflow_x": null,
            "overflow_y": null,
            "padding": null,
            "right": null,
            "top": null,
            "visibility": null,
            "width": null
          }
        },
        "b809acff764c478181c95de4122414ef": {
          "model_module": "@jupyter-widgets/controls",
          "model_name": "DescriptionStyleModel",
          "model_module_version": "1.5.0",
          "state": {
            "_model_module": "@jupyter-widgets/controls",
            "_model_module_version": "1.5.0",
            "_model_name": "DescriptionStyleModel",
            "_view_count": null,
            "_view_module": "@jupyter-widgets/base",
            "_view_module_version": "1.2.0",
            "_view_name": "StyleView",
            "description_width": ""
          }
        },
        "78869247e0014f64b4b0c2fc70aa2c6e": {
          "model_module": "@jupyter-widgets/base",
          "model_name": "LayoutModel",
          "model_module_version": "1.2.0",
          "state": {
            "_model_module": "@jupyter-widgets/base",
            "_model_module_version": "1.2.0",
            "_model_name": "LayoutModel",
            "_view_count": null,
            "_view_module": "@jupyter-widgets/base",
            "_view_module_version": "1.2.0",
            "_view_name": "LayoutView",
            "align_content": null,
            "align_items": null,
            "align_self": null,
            "border": null,
            "bottom": null,
            "display": null,
            "flex": null,
            "flex_flow": null,
            "grid_area": null,
            "grid_auto_columns": null,
            "grid_auto_flow": null,
            "grid_auto_rows": null,
            "grid_column": null,
            "grid_gap": null,
            "grid_row": null,
            "grid_template_areas": null,
            "grid_template_columns": null,
            "grid_template_rows": null,
            "height": null,
            "justify_content": null,
            "justify_items": null,
            "left": null,
            "margin": null,
            "max_height": null,
            "max_width": null,
            "min_height": null,
            "min_width": null,
            "object_fit": null,
            "object_position": null,
            "order": null,
            "overflow": null,
            "overflow_x": null,
            "overflow_y": null,
            "padding": null,
            "right": null,
            "top": null,
            "visibility": null,
            "width": null
          }
        },
        "180a2b1ad3af4417b669cbbc50a23199": {
          "model_module": "@jupyter-widgets/controls",
          "model_name": "ProgressStyleModel",
          "model_module_version": "1.5.0",
          "state": {
            "_model_module": "@jupyter-widgets/controls",
            "_model_module_version": "1.5.0",
            "_model_name": "ProgressStyleModel",
            "_view_count": null,
            "_view_module": "@jupyter-widgets/base",
            "_view_module_version": "1.2.0",
            "_view_name": "StyleView",
            "bar_color": null,
            "description_width": ""
          }
        },
        "d2424ddb5b1c440ea2dce96c95f9f1f3": {
          "model_module": "@jupyter-widgets/base",
          "model_name": "LayoutModel",
          "model_module_version": "1.2.0",
          "state": {
            "_model_module": "@jupyter-widgets/base",
            "_model_module_version": "1.2.0",
            "_model_name": "LayoutModel",
            "_view_count": null,
            "_view_module": "@jupyter-widgets/base",
            "_view_module_version": "1.2.0",
            "_view_name": "LayoutView",
            "align_content": null,
            "align_items": null,
            "align_self": null,
            "border": null,
            "bottom": null,
            "display": null,
            "flex": null,
            "flex_flow": null,
            "grid_area": null,
            "grid_auto_columns": null,
            "grid_auto_flow": null,
            "grid_auto_rows": null,
            "grid_column": null,
            "grid_gap": null,
            "grid_row": null,
            "grid_template_areas": null,
            "grid_template_columns": null,
            "grid_template_rows": null,
            "height": null,
            "justify_content": null,
            "justify_items": null,
            "left": null,
            "margin": null,
            "max_height": null,
            "max_width": null,
            "min_height": null,
            "min_width": null,
            "object_fit": null,
            "object_position": null,
            "order": null,
            "overflow": null,
            "overflow_x": null,
            "overflow_y": null,
            "padding": null,
            "right": null,
            "top": null,
            "visibility": null,
            "width": null
          }
        },
        "391063877c4848d38cb1380516565c6c": {
          "model_module": "@jupyter-widgets/controls",
          "model_name": "DescriptionStyleModel",
          "model_module_version": "1.5.0",
          "state": {
            "_model_module": "@jupyter-widgets/controls",
            "_model_module_version": "1.5.0",
            "_model_name": "DescriptionStyleModel",
            "_view_count": null,
            "_view_module": "@jupyter-widgets/base",
            "_view_module_version": "1.2.0",
            "_view_name": "StyleView",
            "description_width": ""
          }
        },
        "bdf691c509b04a8083a3b3533c9c87dd": {
          "model_module": "@jupyter-widgets/controls",
          "model_name": "HBoxModel",
          "model_module_version": "1.5.0",
          "state": {
            "_dom_classes": [],
            "_model_module": "@jupyter-widgets/controls",
            "_model_module_version": "1.5.0",
            "_model_name": "HBoxModel",
            "_view_count": null,
            "_view_module": "@jupyter-widgets/controls",
            "_view_module_version": "1.5.0",
            "_view_name": "HBoxView",
            "box_style": "",
            "children": [
              "IPY_MODEL_e9f5549bda6742cdb199c3c1e775f221",
              "IPY_MODEL_ffb2666302544bb6b25786037af122af",
              "IPY_MODEL_b35acafce89d44f6ac840f2193928bdd"
            ],
            "layout": "IPY_MODEL_60ea54125b4047b285bbe213142dc40a"
          }
        },
        "e9f5549bda6742cdb199c3c1e775f221": {
          "model_module": "@jupyter-widgets/controls",
          "model_name": "HTMLModel",
          "model_module_version": "1.5.0",
          "state": {
            "_dom_classes": [],
            "_model_module": "@jupyter-widgets/controls",
            "_model_module_version": "1.5.0",
            "_model_name": "HTMLModel",
            "_view_count": null,
            "_view_module": "@jupyter-widgets/controls",
            "_view_module_version": "1.5.0",
            "_view_name": "HTMLView",
            "description": "",
            "description_tooltip": null,
            "layout": "IPY_MODEL_3e0f1dd7dba9491f844a090b2602299a",
            "placeholder": "​",
            "style": "IPY_MODEL_57d40cc652e442a2ad2bb0218b013e01",
            "value": ""
          }
        },
        "ffb2666302544bb6b25786037af122af": {
          "model_module": "@jupyter-widgets/controls",
          "model_name": "FloatProgressModel",
          "model_module_version": "1.5.0",
          "state": {
            "_dom_classes": [],
            "_model_module": "@jupyter-widgets/controls",
            "_model_module_version": "1.5.0",
            "_model_name": "FloatProgressModel",
            "_view_count": null,
            "_view_module": "@jupyter-widgets/controls",
            "_view_module_version": "1.5.0",
            "_view_name": "ProgressView",
            "bar_style": "success",
            "description": "",
            "description_tooltip": null,
            "layout": "IPY_MODEL_1a997e25980d4918af4e36c67356af58",
            "max": 4542,
            "min": 0,
            "orientation": "horizontal",
            "style": "IPY_MODEL_61b73200f94b407ebf5bc84d73210669",
            "value": 4542
          }
        },
        "b35acafce89d44f6ac840f2193928bdd": {
          "model_module": "@jupyter-widgets/controls",
          "model_name": "HTMLModel",
          "model_module_version": "1.5.0",
          "state": {
            "_dom_classes": [],
            "_model_module": "@jupyter-widgets/controls",
            "_model_module_version": "1.5.0",
            "_model_name": "HTMLModel",
            "_view_count": null,
            "_view_module": "@jupyter-widgets/controls",
            "_view_module_version": "1.5.0",
            "_view_name": "HTMLView",
            "description": "",
            "description_tooltip": null,
            "layout": "IPY_MODEL_c5ff9fce20aa41bd9d6149852920d6fc",
            "placeholder": "​",
            "style": "IPY_MODEL_38789af57aca4b6ebbabf31ce736c43e",
            "value": " 5120/? [00:00&lt;00:00, 138557.17it/s]"
          }
        },
        "60ea54125b4047b285bbe213142dc40a": {
          "model_module": "@jupyter-widgets/base",
          "model_name": "LayoutModel",
          "model_module_version": "1.2.0",
          "state": {
            "_model_module": "@jupyter-widgets/base",
            "_model_module_version": "1.2.0",
            "_model_name": "LayoutModel",
            "_view_count": null,
            "_view_module": "@jupyter-widgets/base",
            "_view_module_version": "1.2.0",
            "_view_name": "LayoutView",
            "align_content": null,
            "align_items": null,
            "align_self": null,
            "border": null,
            "bottom": null,
            "display": null,
            "flex": null,
            "flex_flow": null,
            "grid_area": null,
            "grid_auto_columns": null,
            "grid_auto_flow": null,
            "grid_auto_rows": null,
            "grid_column": null,
            "grid_gap": null,
            "grid_row": null,
            "grid_template_areas": null,
            "grid_template_columns": null,
            "grid_template_rows": null,
            "height": null,
            "justify_content": null,
            "justify_items": null,
            "left": null,
            "margin": null,
            "max_height": null,
            "max_width": null,
            "min_height": null,
            "min_width": null,
            "object_fit": null,
            "object_position": null,
            "order": null,
            "overflow": null,
            "overflow_x": null,
            "overflow_y": null,
            "padding": null,
            "right": null,
            "top": null,
            "visibility": null,
            "width": null
          }
        },
        "3e0f1dd7dba9491f844a090b2602299a": {
          "model_module": "@jupyter-widgets/base",
          "model_name": "LayoutModel",
          "model_module_version": "1.2.0",
          "state": {
            "_model_module": "@jupyter-widgets/base",
            "_model_module_version": "1.2.0",
            "_model_name": "LayoutModel",
            "_view_count": null,
            "_view_module": "@jupyter-widgets/base",
            "_view_module_version": "1.2.0",
            "_view_name": "LayoutView",
            "align_content": null,
            "align_items": null,
            "align_self": null,
            "border": null,
            "bottom": null,
            "display": null,
            "flex": null,
            "flex_flow": null,
            "grid_area": null,
            "grid_auto_columns": null,
            "grid_auto_flow": null,
            "grid_auto_rows": null,
            "grid_column": null,
            "grid_gap": null,
            "grid_row": null,
            "grid_template_areas": null,
            "grid_template_columns": null,
            "grid_template_rows": null,
            "height": null,
            "justify_content": null,
            "justify_items": null,
            "left": null,
            "margin": null,
            "max_height": null,
            "max_width": null,
            "min_height": null,
            "min_width": null,
            "object_fit": null,
            "object_position": null,
            "order": null,
            "overflow": null,
            "overflow_x": null,
            "overflow_y": null,
            "padding": null,
            "right": null,
            "top": null,
            "visibility": null,
            "width": null
          }
        },
        "57d40cc652e442a2ad2bb0218b013e01": {
          "model_module": "@jupyter-widgets/controls",
          "model_name": "DescriptionStyleModel",
          "model_module_version": "1.5.0",
          "state": {
            "_model_module": "@jupyter-widgets/controls",
            "_model_module_version": "1.5.0",
            "_model_name": "DescriptionStyleModel",
            "_view_count": null,
            "_view_module": "@jupyter-widgets/base",
            "_view_module_version": "1.2.0",
            "_view_name": "StyleView",
            "description_width": ""
          }
        },
        "1a997e25980d4918af4e36c67356af58": {
          "model_module": "@jupyter-widgets/base",
          "model_name": "LayoutModel",
          "model_module_version": "1.2.0",
          "state": {
            "_model_module": "@jupyter-widgets/base",
            "_model_module_version": "1.2.0",
            "_model_name": "LayoutModel",
            "_view_count": null,
            "_view_module": "@jupyter-widgets/base",
            "_view_module_version": "1.2.0",
            "_view_name": "LayoutView",
            "align_content": null,
            "align_items": null,
            "align_self": null,
            "border": null,
            "bottom": null,
            "display": null,
            "flex": null,
            "flex_flow": null,
            "grid_area": null,
            "grid_auto_columns": null,
            "grid_auto_flow": null,
            "grid_auto_rows": null,
            "grid_column": null,
            "grid_gap": null,
            "grid_row": null,
            "grid_template_areas": null,
            "grid_template_columns": null,
            "grid_template_rows": null,
            "height": null,
            "justify_content": null,
            "justify_items": null,
            "left": null,
            "margin": null,
            "max_height": null,
            "max_width": null,
            "min_height": null,
            "min_width": null,
            "object_fit": null,
            "object_position": null,
            "order": null,
            "overflow": null,
            "overflow_x": null,
            "overflow_y": null,
            "padding": null,
            "right": null,
            "top": null,
            "visibility": null,
            "width": null
          }
        },
        "61b73200f94b407ebf5bc84d73210669": {
          "model_module": "@jupyter-widgets/controls",
          "model_name": "ProgressStyleModel",
          "model_module_version": "1.5.0",
          "state": {
            "_model_module": "@jupyter-widgets/controls",
            "_model_module_version": "1.5.0",
            "_model_name": "ProgressStyleModel",
            "_view_count": null,
            "_view_module": "@jupyter-widgets/base",
            "_view_module_version": "1.2.0",
            "_view_name": "StyleView",
            "bar_color": null,
            "description_width": ""
          }
        },
        "c5ff9fce20aa41bd9d6149852920d6fc": {
          "model_module": "@jupyter-widgets/base",
          "model_name": "LayoutModel",
          "model_module_version": "1.2.0",
          "state": {
            "_model_module": "@jupyter-widgets/base",
            "_model_module_version": "1.2.0",
            "_model_name": "LayoutModel",
            "_view_count": null,
            "_view_module": "@jupyter-widgets/base",
            "_view_module_version": "1.2.0",
            "_view_name": "LayoutView",
            "align_content": null,
            "align_items": null,
            "align_self": null,
            "border": null,
            "bottom": null,
            "display": null,
            "flex": null,
            "flex_flow": null,
            "grid_area": null,
            "grid_auto_columns": null,
            "grid_auto_flow": null,
            "grid_auto_rows": null,
            "grid_column": null,
            "grid_gap": null,
            "grid_row": null,
            "grid_template_areas": null,
            "grid_template_columns": null,
            "grid_template_rows": null,
            "height": null,
            "justify_content": null,
            "justify_items": null,
            "left": null,
            "margin": null,
            "max_height": null,
            "max_width": null,
            "min_height": null,
            "min_width": null,
            "object_fit": null,
            "object_position": null,
            "order": null,
            "overflow": null,
            "overflow_x": null,
            "overflow_y": null,
            "padding": null,
            "right": null,
            "top": null,
            "visibility": null,
            "width": null
          }
        },
        "38789af57aca4b6ebbabf31ce736c43e": {
          "model_module": "@jupyter-widgets/controls",
          "model_name": "DescriptionStyleModel",
          "model_module_version": "1.5.0",
          "state": {
            "_model_module": "@jupyter-widgets/controls",
            "_model_module_version": "1.5.0",
            "_model_name": "DescriptionStyleModel",
            "_view_count": null,
            "_view_module": "@jupyter-widgets/base",
            "_view_module_version": "1.2.0",
            "_view_name": "StyleView",
            "description_width": ""
          }
        }
      }
    }
  },
  "nbformat_minor": 0,
  "nbformat": 4,
  "cells": [
    {
      "cell_type": "code",
      "source": [
        "!pip install piqa"
      ],
      "metadata": {
        "colab": {
          "base_uri": "https://localhost:8080/"
        },
        "id": "Ai1KOF676k0d",
        "outputId": "85bf2bba-5b41-4faa-b97f-be049c20438d"
      },
      "execution_count": 1,
      "outputs": [
        {
          "output_type": "stream",
          "name": "stdout",
          "text": [
            "Collecting piqa\n",
            "  Downloading piqa-1.2.2-py3-none-any.whl (32 kB)\n",
            "Requirement already satisfied: torch>=1.8.0 in /usr/local/lib/python3.7/dist-packages (from piqa) (1.10.0+cu111)\n",
            "Requirement already satisfied: torchvision>=0.9.0 in /usr/local/lib/python3.7/dist-packages (from piqa) (0.11.1+cu111)\n",
            "Requirement already satisfied: typing-extensions in /usr/local/lib/python3.7/dist-packages (from torch>=1.8.0->piqa) (3.10.0.2)\n",
            "Requirement already satisfied: numpy in /usr/local/lib/python3.7/dist-packages (from torchvision>=0.9.0->piqa) (1.21.5)\n",
            "Requirement already satisfied: pillow!=8.3.0,>=5.3.0 in /usr/local/lib/python3.7/dist-packages (from torchvision>=0.9.0->piqa) (7.1.2)\n",
            "Installing collected packages: piqa\n",
            "Successfully installed piqa-1.2.2\n"
          ]
        }
      ]
    },
    {
      "cell_type": "code",
      "source": [
        "from torch.utils.data import DataLoader, Dataset, random_split\n",
        "import torchvision.transforms as T\n",
        "from torchvision.transforms import ToTensor\n",
        "from torch.autograd import Variable\n",
        "import torch\n",
        "import tensorflow as tf\n",
        "\n",
        "import torch.nn as nn\n",
        "import os\n",
        "from torchvision.utils import *\n",
        "from torchvision.io import read_image\n",
        "from torchvision import datasets, transforms\n",
        "from torch.utils.tensorboard import SummaryWriter\n",
        "from IPython.display import Image\n",
        "import matplotlib.pyplot as plt\n",
        "import numpy as np\n",
        "import random\n",
        "%matplotlib inline\n",
        "import cv2\n",
        "import pandas as pd\n",
        "import tqdm\n",
        "import seaborn as sns"
      ],
      "metadata": {
        "execution": {
          "iopub.status.busy": "2022-04-02T06:21:09.235633Z",
          "iopub.execute_input": "2022-04-02T06:21:09.235884Z",
          "iopub.status.idle": "2022-04-02T06:21:09.248469Z",
          "shell.execute_reply.started": "2022-04-02T06:21:09.235856Z",
          "shell.execute_reply": "2022-04-02T06:21:09.247717Z"
        },
        "trusted": true,
        "id": "TsoyRXVF0HjW"
      },
      "execution_count": 22,
      "outputs": []
    },
    {
      "cell_type": "code",
      "source": [
        "if torch.cuda.is_available():\n",
        "    cuda = 1\n",
        "else :\n",
        "    cuda = 0\n",
        "\n",
        "epochs = 100"
      ],
      "metadata": {
        "id": "U0a_Tcqz3QUx"
      },
      "execution_count": 3,
      "outputs": []
    },
    {
      "cell_type": "code",
      "source": [
        "training_data = datasets.MNIST(\n",
        "    root=\"data\",\n",
        "    train=False,\n",
        "    download=True,\n",
        "    transform=ToTensor()\n",
        ")\n",
        "\n",
        "labels_map = {\n",
        "    0: \"0\",\n",
        "    1: \"1\",\n",
        "    2: \"2\",\n",
        "    3: \"3\",\n",
        "    4: \"4\",\n",
        "    5: \"5\",\n",
        "    6: \"6\",\n",
        "    7: \"7\",\n",
        "    8: \"8\",\n",
        "    9: \"9\",\n",
        "}"
      ],
      "metadata": {
        "execution": {
          "iopub.status.busy": "2022-04-02T06:21:09.746591Z",
          "iopub.execute_input": "2022-04-02T06:21:09.746800Z",
          "iopub.status.idle": "2022-04-02T06:21:09.755729Z",
          "shell.execute_reply.started": "2022-04-02T06:21:09.746775Z",
          "shell.execute_reply": "2022-04-02T06:21:09.755051Z"
        },
        "trusted": true,
        "colab": {
          "base_uri": "https://localhost:8080/",
          "height": 423,
          "referenced_widgets": [
            "a22e446f77b6450f9cde7fcb5339a992",
            "2170facd4f3242b8897fe3e903d1e3bc",
            "645c407d472d4cb493ee1178127316f6",
            "dd9210564fe840f1ab19423d5a53c354",
            "88444dd56b85486a81fe423957a6c410",
            "c877a6f5ceb74cc1b5566dfb4fd819db",
            "c82822bac38f4ddea903af84c48b7a5b",
            "f85ad463666d41829b9f290470b5975d",
            "69e3ed17f10648caa80a0aa4ac2c4a12",
            "fe3d34946b0f46a096b8046499f0ad78",
            "b925af34819544e9adea91401a09401f",
            "ad191ca1f4974aeaa2e234cc352bb7ea",
            "0a7e2d5e458c4e969c99ab0b6adb792d",
            "03d5ae29f4b844d29040b7028c471d85",
            "70590a29efe34be484810eaa62458236",
            "f2a46405fbe84f3b9b7656042c415c10",
            "45aefad0ae114c8f8050cd4375dcf1d4",
            "6781877af13c44a68c0a44db333f8e75",
            "6a29c6f9fc784db6baac56ffe7dbec9f",
            "5582a187949c40a493ded539a4d0b20e",
            "2fd776e74e174f2a8f83170d6ea447a0",
            "c0b0d6e0717543a59be67d1494c0552a",
            "a356bf29ff944bcebd4edc5ca695b132",
            "6987701e12f44cc392357bb601a9e35b",
            "bead453b24cc45e99514034869e895c3",
            "b4b7458f9c9c4657a9904a717f5fa51c",
            "947e696a112a4fe184cc3e2b720348ad",
            "32450c02f83c4c6d944f652e7879da60",
            "b809acff764c478181c95de4122414ef",
            "78869247e0014f64b4b0c2fc70aa2c6e",
            "180a2b1ad3af4417b669cbbc50a23199",
            "d2424ddb5b1c440ea2dce96c95f9f1f3",
            "391063877c4848d38cb1380516565c6c",
            "bdf691c509b04a8083a3b3533c9c87dd",
            "e9f5549bda6742cdb199c3c1e775f221",
            "ffb2666302544bb6b25786037af122af",
            "b35acafce89d44f6ac840f2193928bdd",
            "60ea54125b4047b285bbe213142dc40a",
            "3e0f1dd7dba9491f844a090b2602299a",
            "57d40cc652e442a2ad2bb0218b013e01",
            "1a997e25980d4918af4e36c67356af58",
            "61b73200f94b407ebf5bc84d73210669",
            "c5ff9fce20aa41bd9d6149852920d6fc",
            "38789af57aca4b6ebbabf31ce736c43e"
          ]
        },
        "id": "h_6INBbH0HjZ",
        "outputId": "2c83bedc-a48e-4af5-d976-b79411610e40"
      },
      "execution_count": 4,
      "outputs": [
        {
          "output_type": "stream",
          "name": "stdout",
          "text": [
            "Downloading http://yann.lecun.com/exdb/mnist/train-images-idx3-ubyte.gz\n",
            "Downloading http://yann.lecun.com/exdb/mnist/train-images-idx3-ubyte.gz to data/MNIST/raw/train-images-idx3-ubyte.gz\n"
          ]
        },
        {
          "output_type": "display_data",
          "data": {
            "text/plain": [
              "  0%|          | 0/9912422 [00:00<?, ?it/s]"
            ],
            "application/vnd.jupyter.widget-view+json": {
              "version_major": 2,
              "version_minor": 0,
              "model_id": "a22e446f77b6450f9cde7fcb5339a992"
            }
          },
          "metadata": {}
        },
        {
          "output_type": "stream",
          "name": "stdout",
          "text": [
            "Extracting data/MNIST/raw/train-images-idx3-ubyte.gz to data/MNIST/raw\n",
            "\n",
            "Downloading http://yann.lecun.com/exdb/mnist/train-labels-idx1-ubyte.gz\n",
            "Downloading http://yann.lecun.com/exdb/mnist/train-labels-idx1-ubyte.gz to data/MNIST/raw/train-labels-idx1-ubyte.gz\n"
          ]
        },
        {
          "output_type": "display_data",
          "data": {
            "text/plain": [
              "  0%|          | 0/28881 [00:00<?, ?it/s]"
            ],
            "application/vnd.jupyter.widget-view+json": {
              "version_major": 2,
              "version_minor": 0,
              "model_id": "ad191ca1f4974aeaa2e234cc352bb7ea"
            }
          },
          "metadata": {}
        },
        {
          "output_type": "stream",
          "name": "stdout",
          "text": [
            "Extracting data/MNIST/raw/train-labels-idx1-ubyte.gz to data/MNIST/raw\n",
            "\n",
            "Downloading http://yann.lecun.com/exdb/mnist/t10k-images-idx3-ubyte.gz\n",
            "Downloading http://yann.lecun.com/exdb/mnist/t10k-images-idx3-ubyte.gz to data/MNIST/raw/t10k-images-idx3-ubyte.gz\n"
          ]
        },
        {
          "output_type": "display_data",
          "data": {
            "text/plain": [
              "  0%|          | 0/1648877 [00:00<?, ?it/s]"
            ],
            "application/vnd.jupyter.widget-view+json": {
              "version_major": 2,
              "version_minor": 0,
              "model_id": "a356bf29ff944bcebd4edc5ca695b132"
            }
          },
          "metadata": {}
        },
        {
          "output_type": "stream",
          "name": "stdout",
          "text": [
            "Extracting data/MNIST/raw/t10k-images-idx3-ubyte.gz to data/MNIST/raw\n",
            "\n",
            "Downloading http://yann.lecun.com/exdb/mnist/t10k-labels-idx1-ubyte.gz\n",
            "Downloading http://yann.lecun.com/exdb/mnist/t10k-labels-idx1-ubyte.gz to data/MNIST/raw/t10k-labels-idx1-ubyte.gz\n"
          ]
        },
        {
          "output_type": "display_data",
          "data": {
            "text/plain": [
              "  0%|          | 0/4542 [00:00<?, ?it/s]"
            ],
            "application/vnd.jupyter.widget-view+json": {
              "version_major": 2,
              "version_minor": 0,
              "model_id": "bdf691c509b04a8083a3b3533c9c87dd"
            }
          },
          "metadata": {}
        },
        {
          "output_type": "stream",
          "name": "stdout",
          "text": [
            "Extracting data/MNIST/raw/t10k-labels-idx1-ubyte.gz to data/MNIST/raw\n",
            "\n"
          ]
        }
      ]
    },
    {
      "cell_type": "code",
      "source": [
        "train_dataloader = DataLoader(training_data, batch_size=64, shuffle=True)"
      ],
      "metadata": {
        "execution": {
          "iopub.status.busy": "2022-04-02T06:21:10.942051Z",
          "iopub.execute_input": "2022-04-02T06:21:10.942264Z",
          "iopub.status.idle": "2022-04-02T06:21:10.948341Z",
          "shell.execute_reply.started": "2022-04-02T06:21:10.942237Z",
          "shell.execute_reply": "2022-04-02T06:21:10.947601Z"
        },
        "trusted": true,
        "id": "d2Up2d9M0Hjc"
      },
      "execution_count": 6,
      "outputs": []
    },
    {
      "cell_type": "code",
      "source": [
        "class Encoder(nn.Module):\n",
        "    def __init__(self):\n",
        "        super(Encoder, self).__init__()\n",
        "        self.flatten = nn.Flatten()\n",
        "        self.fc1 = nn.Linear(28*28,1000)\n",
        "        self.fc2 = nn.Linear(1000, 2)\n",
        "        self.relu = nn.ReLU()\n",
        "    \n",
        "    def forward(self, x):\n",
        "        \n",
        "        out = self.flatten(x)\n",
        "        out = self.fc1(out)\n",
        "        out = self.relu(out)\n",
        "        out = self.fc2(out)\n",
        "        \n",
        "        return out"
      ],
      "metadata": {
        "execution": {
          "iopub.status.busy": "2022-04-02T06:21:11.528940Z",
          "iopub.execute_input": "2022-04-02T06:21:11.529573Z",
          "iopub.status.idle": "2022-04-02T06:21:11.535895Z",
          "shell.execute_reply.started": "2022-04-02T06:21:11.529538Z",
          "shell.execute_reply": "2022-04-02T06:21:11.534939Z"
        },
        "trusted": true,
        "id": "xQnfgHOH0Hjd"
      },
      "execution_count": 7,
      "outputs": []
    },
    {
      "cell_type": "code",
      "source": [
        "class Decoder(nn.Module):\n",
        "    def __init__(self):\n",
        "        super(Decoder, self).__init__()\n",
        "        self.fc1 = nn.Linear(2,1000)\n",
        "        self.fc2 = nn.Linear(1000, 28*28)\n",
        "        self.relu = nn.ReLU()\n",
        "        self.sigmoid = nn.Sigmoid()\n",
        "    \n",
        "    def forward(self, x):\n",
        "        \n",
        "        out = self.relu(x)\n",
        "        out = self.fc1(out)\n",
        "        out = self.relu(out)\n",
        "        out = self.fc2(out)\n",
        "        out = self.sigmoid(out)\n",
        "        \n",
        "        return out"
      ],
      "metadata": {
        "execution": {
          "iopub.status.busy": "2022-04-02T06:21:12.128457Z",
          "iopub.execute_input": "2022-04-02T06:21:12.129128Z",
          "iopub.status.idle": "2022-04-02T06:21:12.135798Z",
          "shell.execute_reply.started": "2022-04-02T06:21:12.129095Z",
          "shell.execute_reply": "2022-04-02T06:21:12.135020Z"
        },
        "trusted": true,
        "id": "dwS34Aji0Hje"
      },
      "execution_count": 8,
      "outputs": []
    },
    {
      "cell_type": "code",
      "source": [
        "class Discriminator(nn.Module):\n",
        "    def __init__(self):\n",
        "        super(Discriminator, self).__init__()\n",
        "        self.fc1 = nn.Linear(2,500)\n",
        "        self.fc2 = nn.Linear(500, 1)\n",
        "        self.relu = nn.ReLU()\n",
        "        self.sigmoid = nn.Sigmoid()\n",
        "    \n",
        "    def forward(self, x):\n",
        "        \n",
        "        out = self.relu(x)\n",
        "        out = self.fc1(out)\n",
        "        out = self.relu(out)\n",
        "        out = self.fc2(out)\n",
        "        out = self.sigmoid(out)\n",
        "        \n",
        "        return out"
      ],
      "metadata": {
        "execution": {
          "iopub.status.busy": "2022-04-02T06:21:13.105003Z",
          "iopub.execute_input": "2022-04-02T06:21:13.105249Z",
          "iopub.status.idle": "2022-04-02T06:21:13.113585Z",
          "shell.execute_reply.started": "2022-04-02T06:21:13.105221Z",
          "shell.execute_reply": "2022-04-02T06:21:13.112817Z"
        },
        "trusted": true,
        "id": "ghveFaXT0Hjf"
      },
      "execution_count": 9,
      "outputs": []
    },
    {
      "cell_type": "code",
      "source": [
        "encoder_model = Encoder()\n",
        "decoder_model = Decoder()\n",
        "discriminator_model= Discriminator()   \n",
        "\n",
        "if torch.cuda.is_available():\n",
        "    encoder_model= encoder_model.cuda()\n",
        "    decoder_model= decoder_model.cuda()\n",
        "    discriminator_model= discriminator_model.cuda()\n",
        "    \n",
        "gen_lr, reg_lr = 0.0001, 0.00005\n",
        "enc_opt = torch.optim.Adam(encoder_model.parameters(), lr=gen_lr)\n",
        "dec_opt = torch.optim.Adam(decoder_model.parameters(), lr=gen_lr)\n",
        "disc_opt = torch.optim.Adam(discriminator_model.parameters(), lr=reg_lr)"
      ],
      "metadata": {
        "execution": {
          "iopub.status.busy": "2022-04-02T06:21:13.778527Z",
          "iopub.execute_input": "2022-04-02T06:21:13.779483Z",
          "iopub.status.idle": "2022-04-02T06:21:13.823895Z",
          "shell.execute_reply.started": "2022-04-02T06:21:13.779442Z",
          "shell.execute_reply": "2022-04-02T06:21:13.822826Z"
        },
        "trusted": true,
        "id": "xFF1ydo_0Hjh"
      },
      "execution_count": 10,
      "outputs": []
    },
    {
      "cell_type": "code",
      "source": [
        "!pip install pytorch-msssim\n",
        "from pytorch_msssim import ssim\n",
        "\n",
        "def BCE(input_x,target):\n",
        "    loss = nn.functional.binary_cross_entropy(input_x,target)\n",
        "    return loss\n",
        "\n",
        "def MSE(input_x,target):\n",
        "    loss = nn.functional.mse_loss(input_x,target)\n",
        "    return loss\n",
        "\n",
        "def ssim_loss(input_x,target):\n",
        "    X = torch.reshape(input_x,(input_x.shape[0],1,28,28))\n",
        "    y = torch.reshape(target,(target.shape[0],1,28,28))\n",
        "    ssim_loss = 1 - ssim(X, y, data_range=1, size_average=True)\n",
        "    \n",
        "    \n",
        "    return ssim_loss"
      ],
      "metadata": {
        "execution": {
          "iopub.status.busy": "2022-04-02T06:21:14.585794Z",
          "iopub.execute_input": "2022-04-02T06:21:14.586049Z",
          "iopub.status.idle": "2022-04-02T06:21:14.589944Z",
          "shell.execute_reply.started": "2022-04-02T06:21:14.586020Z",
          "shell.execute_reply": "2022-04-02T06:21:14.589220Z"
        },
        "trusted": true,
        "colab": {
          "base_uri": "https://localhost:8080/"
        },
        "id": "T8m_xkdt0Hji",
        "outputId": "241ac5f9-227d-4455-f3a7-a225c764c83f"
      },
      "execution_count": 36,
      "outputs": [
        {
          "output_type": "stream",
          "name": "stdout",
          "text": [
            "Requirement already satisfied: pytorch-msssim in /usr/local/lib/python3.7/dist-packages (0.2.1)\n",
            "Requirement already satisfied: torch in /usr/local/lib/python3.7/dist-packages (from pytorch-msssim) (1.10.0+cu111)\n",
            "Requirement already satisfied: typing-extensions in /usr/local/lib/python3.7/dist-packages (from torch->pytorch-msssim) (3.10.0.2)\n"
          ]
        }
      ]
    },
    {
      "cell_type": "code",
      "source": [
        "def print_loss(epoch, D_loss_gauss, G_loss, recon_loss):\n",
        "    print('Epoch-{}; D_loss_gauss: {:.4}; G_loss: {:.4}; recon_loss: {:.4}'.format(epoch, D_loss_gauss,\n",
        "                                                                                   G_loss, recon_loss))"
      ],
      "metadata": {
        "execution": {
          "iopub.status.busy": "2022-04-02T06:21:18.094533Z",
          "iopub.execute_input": "2022-04-02T06:21:18.095068Z",
          "iopub.status.idle": "2022-04-02T06:21:18.099588Z",
          "shell.execute_reply.started": "2022-04-02T06:21:18.095030Z",
          "shell.execute_reply": "2022-04-02T06:21:18.098909Z"
        },
        "trusted": true,
        "id": "QPNNKVhP0Hjk"
      },
      "execution_count": 13,
      "outputs": []
    },
    {
      "cell_type": "code",
      "source": [
        "def train(dec, enc, disc, dec_opt, enc_opt, enc_generator,disc_opt, data_loader,loss):\n",
        "    enc.train()\n",
        "    dec.train()\n",
        "    disc.train()\n",
        "\n",
        "    for X, target in data_loader:\n",
        "        if(X.shape[0]!=64):\n",
        "            break\n",
        "        X_dim = X.shape[2]*X.shape[3]\n",
        "        train_batch_size = X.shape[0]\n",
        "        X.resize_(train_batch_size, X_dim)\n",
        "        X, target = Variable(X), Variable(target)\n",
        "        if cuda:\n",
        "            X, target = X.cuda(), target.cuda()\n",
        "\n",
        "        dec.zero_grad()\n",
        "        enc.zero_grad()\n",
        "        disc.zero_grad()\n",
        "\n",
        "        latent_var = enc(X)\n",
        "        recon_img = dec(latent_var)\n",
        "        recon_loss = loss(recon_img, torch.reshape(X,(train_batch_size, X_dim)))\n",
        "\n",
        "        recon_loss.backward()\n",
        "        dec_opt.step()\n",
        "        enc_opt.step()\n",
        "\n",
        "        enc.zero_grad()\n",
        "        dec.zero_grad()\n",
        "        disc.zero_grad()\n",
        "\n",
        "        enc.eval()\n",
        "        lat_gauss = Variable(torch.randn(train_batch_size, 2) * 5.)\n",
        "        if cuda:\n",
        "            lat_gauss = lat_gauss.cuda()\n",
        "\n",
        "        lat_enc = enc(X)\n",
        "\n",
        "        D_real_gauss = disc(lat_gauss)\n",
        "        D_fake_gauss = disc(lat_enc)\n",
        "\n",
        "        D_loss = -torch.mean(torch.log(D_real_gauss) + torch.log(1 - D_fake_gauss))\n",
        "\n",
        "        D_loss.backward()\n",
        "        disc_opt.step()\n",
        "\n",
        "        enc.zero_grad()\n",
        "        dec.zero_grad()\n",
        "        disc.zero_grad()\n",
        "\n",
        "        # Generator\n",
        "        enc.train()\n",
        "        lat_enc = enc(X)\n",
        "\n",
        "        D_fake_gauss = disc(lat_enc)\n",
        "        G_loss = -torch.mean(torch.log(D_fake_gauss))\n",
        "\n",
        "        G_loss.backward()\n",
        "        enc_generator.step()\n",
        "\n",
        "        enc.zero_grad()\n",
        "        dec.zero_grad()\n",
        "        disc.zero_grad()\n",
        "        \n",
        "        #Eval accuracy\n",
        "        disc.eval()\n",
        "        pred = disc(enc(X))\n",
        "        acc = (pred.reshape(-1).detach().cpu().numpy().round() == np.ones(train_batch_size)).mean()\n",
        "        \n",
        "    return D_loss, G_loss, recon_loss, acc"
      ],
      "metadata": {
        "execution": {
          "iopub.status.busy": "2022-04-02T06:21:20.200391Z",
          "iopub.execute_input": "2022-04-02T06:21:20.200917Z",
          "iopub.status.idle": "2022-04-02T06:21:20.213068Z",
          "shell.execute_reply.started": "2022-04-02T06:21:20.200877Z",
          "shell.execute_reply": "2022-04-02T06:21:20.212346Z"
        },
        "trusted": true,
        "id": "-ngQyMYv0Hjl"
      },
      "execution_count": 44,
      "outputs": []
    },
    {
      "cell_type": "code",
      "source": [
        "def generate_model(train_dataloader,loss):\n",
        "    generator_loss = []\n",
        "    discriminator_loss = []\n",
        "    reconstruction_loss = []  \n",
        "    accuracy = []\n",
        "    \n",
        "    torch.manual_seed(10)\n",
        "\n",
        "    if cuda:\n",
        "        enc = Encoder().cuda()\n",
        "        dec = Decoder().cuda()\n",
        "        disc = Discriminator().cuda()\n",
        "    else:\n",
        "        enc = Encoder()\n",
        "        dec = Decoder()\n",
        "        disc = Discriminator()\n",
        "\n",
        "    # Set learning rates\n",
        "    gen_lr = 0.0001\n",
        "    reg_lr = 0.00005\n",
        "\n",
        "    # Set optimizators\n",
        "    dec_opt = torch.optim.Adam(dec.parameters(), lr=gen_lr)\n",
        "    enc_opt = torch.optim.Adam(enc.parameters(), lr=gen_lr)\n",
        "\n",
        "    enc_generator = torch.optim.Adam(enc.parameters(), lr=gen_lr)\n",
        "    disc_opt = torch.optim.Adam(disc.parameters(), lr=reg_lr)\n",
        "\n",
        "    for epoch in range(epochs):\n",
        "        D_loss, G_loss, recon_loss, acc = train(dec, enc, disc, dec_opt, enc_opt, enc_generator,disc_opt, train_dataloader,loss)\n",
        "        discriminator_loss.append(D_loss.item())\n",
        "        generator_loss.append(G_loss.item())\n",
        "        reconstruction_loss.append(recon_loss.item())\n",
        "        accuracy.append(acc)\n",
        "        \n",
        "        if epoch % 10 == 0:\n",
        "            print_loss(epoch, D_loss.item(), G_loss.item(), recon_loss.item())\n",
        "        \n",
        "\n",
        "    return enc, dec, generator_loss, discriminator_loss , reconstruction_loss, accuracy"
      ],
      "metadata": {
        "execution": {
          "iopub.status.busy": "2022-04-02T06:21:23.473255Z",
          "iopub.execute_input": "2022-04-02T06:21:23.473813Z",
          "iopub.status.idle": "2022-04-02T06:21:23.481937Z",
          "shell.execute_reply.started": "2022-04-02T06:21:23.473777Z",
          "shell.execute_reply": "2022-04-02T06:21:23.481112Z"
        },
        "trusted": true,
        "id": "EjIpwcXV0Hjm"
      },
      "execution_count": 45,
      "outputs": []
    },
    {
      "cell_type": "code",
      "source": [
        "Q, P, bce_gloss, bce_dloss, bce_rloss, bce_acc = generate_model(train_dataloader, BCE)"
      ],
      "metadata": {
        "execution": {
          "iopub.status.busy": "2022-04-02T06:21:40.329580Z",
          "iopub.execute_input": "2022-04-02T06:21:40.330254Z",
          "iopub.status.idle": "2022-04-02T06:26:57.001261Z",
          "shell.execute_reply.started": "2022-04-02T06:21:40.330217Z",
          "shell.execute_reply": "2022-04-02T06:26:57.000551Z"
        },
        "trusted": true,
        "colab": {
          "base_uri": "https://localhost:8080/"
        },
        "id": "gbrxTQXq0Hjm",
        "outputId": "70f13714-a741-4b35-c83a-338d7f701f23"
      },
      "execution_count": 47,
      "outputs": [
        {
          "output_type": "stream",
          "name": "stdout",
          "text": [
            "Epoch-0; D_loss_gauss: 0.9761; G_loss: 0.8008; recon_loss: 0.3074\n",
            "Epoch-10; D_loss_gauss: 0.6373; G_loss: 1.415; recon_loss: 0.2647\n",
            "Epoch-20; D_loss_gauss: 0.6712; G_loss: 1.502; recon_loss: 0.2758\n",
            "Epoch-30; D_loss_gauss: 0.6355; G_loss: 1.533; recon_loss: 0.2591\n",
            "Epoch-40; D_loss_gauss: 0.6241; G_loss: 1.582; recon_loss: 0.2703\n",
            "Epoch-50; D_loss_gauss: 0.5498; G_loss: 1.553; recon_loss: 0.2694\n",
            "Epoch-60; D_loss_gauss: 0.4831; G_loss: 1.551; recon_loss: 0.2555\n",
            "Epoch-70; D_loss_gauss: 0.6263; G_loss: 1.579; recon_loss: 0.2649\n",
            "Epoch-80; D_loss_gauss: 0.4055; G_loss: 1.569; recon_loss: 0.2625\n",
            "Epoch-90; D_loss_gauss: 0.6197; G_loss: 1.593; recon_loss: 0.2659\n"
          ]
        }
      ]
    },
    {
      "cell_type": "markdown",
      "source": [
        "#Q1: Plot a sample of generated image and real image for all 0-9 digits"
      ],
      "metadata": {
        "id": "b4_-Ykn38Fqq"
      }
    },
    {
      "cell_type": "code",
      "source": [
        "#a \n",
        "\n",
        "figure = plt.figure(figsize=(2, 10))\n",
        "cols, rows = 2,10\n",
        "\n",
        "for i in range(0,rows):\n",
        "    labels = training_data.targets.numpy()\n",
        "    sample_idx = np.random.choice(np.where(labels==i)[0])\n",
        "    img, label = training_data[sample_idx]\n",
        "    figure.add_subplot(rows, cols, 2*i+1)\n",
        "    plt.title(labels_map[label])\n",
        "    plt.axis(\"off\")\n",
        "    plt.imshow(img.squeeze(), cmap=\"gray\")\n",
        "    figure.add_subplot(rows, cols, 2*i+2)\n",
        "    plt.title(labels_map[label])\n",
        "    plt.axis(\"off\")\n",
        "    img = torch.unsqueeze(img,0)\n",
        "    if cuda:\n",
        "        img = img.to(device='cuda')\n",
        "    lat_var = Q(img)\n",
        "    gen_img = torch.reshape(P(lat_var),(28,28)).detach().cpu()\n",
        "    plt.imshow(gen_img, cmap=\"gray\")\n",
        "plt.show()"
      ],
      "metadata": {
        "execution": {
          "iopub.status.busy": "2022-04-02T06:26:57.002840Z",
          "iopub.execute_input": "2022-04-02T06:26:57.003106Z",
          "iopub.status.idle": "2022-04-02T06:26:57.587729Z",
          "shell.execute_reply.started": "2022-04-02T06:26:57.003069Z",
          "shell.execute_reply": "2022-04-02T06:26:57.587005Z"
        },
        "trusted": true,
        "colab": {
          "base_uri": "https://localhost:8080/",
          "height": 590
        },
        "id": "m9fII9dy0Hjn",
        "outputId": "ea190573-d3a7-4fb0-f16b-ecee72700d03"
      },
      "execution_count": 48,
      "outputs": [
        {
          "output_type": "display_data",
          "data": {
            "text/plain": [
              "<Figure size 144x720 with 20 Axes>"
            ],
            "image/png": "[encoded data removed]"
          },
          "metadata": {
            "needs_background": "light"
          }
        }
      ]
    },
    {
      "cell_type": "code",
      "source": [
        "#b \n",
        "Q, P, ssim_gloss, ssim_dloss, ssim_rloss, ssim_acc = generate_model(train_dataloader, ssim_loss)\n",
        "\n",
        "figure = plt.figure(figsize=(2, 10))\n",
        "cols, rows = 2,10\n",
        "\n",
        "for i in range(0,rows):\n",
        "    labels = training_data.targets.numpy()\n",
        "    sample_idx = np.random.choice(np.where(labels==i)[0])\n",
        "    img, label = training_data[sample_idx]\n",
        "    figure.add_subplot(rows, cols, 2*i+1)\n",
        "    plt.title(labels_map[label])\n",
        "    plt.axis(\"off\")\n",
        "    plt.imshow(img.squeeze(), cmap=\"gray\")\n",
        "    figure.add_subplot(rows, cols, 2*i+2)\n",
        "    plt.title(labels_map[label])\n",
        "    plt.axis(\"off\")\n",
        "    img = torch.unsqueeze(img,0)\n",
        "    if cuda:\n",
        "        img = img.to(device='cuda')\n",
        "    lat_var = Q(img)\n",
        "    gen_img = torch.reshape(P(lat_var),(28,28)).detach().cpu()\n",
        "    plt.imshow(gen_img, cmap=\"gray\")\n",
        "plt.show()"
      ],
      "metadata": {
        "colab": {
          "base_uri": "https://localhost:8080/",
          "height": 763
        },
        "id": "LVKzt6vEFvGv",
        "outputId": "610b05d5-0ce1-4eaa-afad-c8c97872cc36"
      },
      "execution_count": 49,
      "outputs": [
        {
          "output_type": "stream",
          "name": "stdout",
          "text": [
            "Epoch-0; D_loss_gauss: 1.185; G_loss: 0.8591; recon_loss: 0.7994\n",
            "Epoch-10; D_loss_gauss: 1.013; G_loss: 1.038; recon_loss: 0.6965\n",
            "Epoch-20; D_loss_gauss: 0.9359; G_loss: 1.055; recon_loss: 0.7081\n",
            "Epoch-30; D_loss_gauss: 0.9129; G_loss: 1.047; recon_loss: 0.6929\n",
            "Epoch-40; D_loss_gauss: 1.169; G_loss: 1.094; recon_loss: 0.7453\n",
            "Epoch-50; D_loss_gauss: 0.9175; G_loss: 1.077; recon_loss: 0.7499\n",
            "Epoch-60; D_loss_gauss: 0.8252; G_loss: 1.07; recon_loss: 0.6831\n",
            "Epoch-70; D_loss_gauss: 0.869; G_loss: 1.062; recon_loss: 0.6573\n",
            "Epoch-80; D_loss_gauss: 0.8957; G_loss: 1.08; recon_loss: 0.6687\n",
            "Epoch-90; D_loss_gauss: 0.9818; G_loss: 1.093; recon_loss: 0.789\n"
          ]
        },
        {
          "output_type": "display_data",
          "data": {
            "text/plain": [
              "<Figure size 144x720 with 20 Axes>"
            ],
            "image/png": "[encoded data removed]"
          },
          "metadata": {
            "needs_background": "light"
          }
        }
      ]
    },
    {
      "cell_type": "code",
      "source": [
        "#c\n",
        "Q, P, mse_gloss, mse_dloss, mse_rloss, mse_acc = generate_model(train_dataloader,MSE)\n",
        "\n",
        "figure = plt.figure(figsize=(2, 10))\n",
        "cols, rows = 2,10\n",
        "\n",
        "for i in range(0,rows):\n",
        "    labels = training_data.targets.numpy()\n",
        "    sample_idx = np.random.choice(np.where(labels==i)[0])\n",
        "    img, label = training_data[sample_idx]\n",
        "    figure.add_subplot(rows, cols, 2*i+1)\n",
        "    plt.title(labels_map[label])\n",
        "    plt.axis(\"off\")\n",
        "    plt.imshow(img.squeeze(), cmap=\"gray\")\n",
        "    figure.add_subplot(rows, cols, 2*i+2)\n",
        "    plt.title(labels_map[label])\n",
        "    plt.axis(\"off\")\n",
        "    img = torch.unsqueeze(img,0)\n",
        "    if cuda:\n",
        "        img = img.to(device='cuda')\n",
        "    lat_var = Q(img)\n",
        "    gen_img = torch.reshape(P(lat_var),(28,28)).detach().cpu()\n",
        "    plt.imshow(gen_img, cmap=\"gray\")\n",
        "plt.show()"
      ],
      "metadata": {
        "colab": {
          "base_uri": "https://localhost:8080/",
          "height": 763
        },
        "id": "729BQ3EyGH9a",
        "outputId": "d27092c4-9567-4be3-84cc-13335e260e01"
      },
      "execution_count": 51,
      "outputs": [
        {
          "output_type": "stream",
          "name": "stdout",
          "text": [
            "Epoch-0; D_loss_gauss: 0.9761; G_loss: 0.8008; recon_loss: 0.07398\n",
            "Epoch-10; D_loss_gauss: 0.6373; G_loss: 1.415; recon_loss: 0.06831\n",
            "Epoch-20; D_loss_gauss: 0.6712; G_loss: 1.502; recon_loss: 0.07232\n",
            "Epoch-30; D_loss_gauss: 0.6355; G_loss: 1.533; recon_loss: 0.06665\n",
            "Epoch-40; D_loss_gauss: 0.6241; G_loss: 1.582; recon_loss: 0.07006\n",
            "Epoch-50; D_loss_gauss: 0.5497; G_loss: 1.553; recon_loss: 0.06948\n",
            "Epoch-60; D_loss_gauss: 0.4831; G_loss: 1.551; recon_loss: 0.06507\n",
            "Epoch-70; D_loss_gauss: 0.6263; G_loss: 1.579; recon_loss: 0.06834\n",
            "Epoch-80; D_loss_gauss: 0.4055; G_loss: 1.569; recon_loss: 0.06675\n",
            "Epoch-90; D_loss_gauss: 0.6197; G_loss: 1.593; recon_loss: 0.06799\n"
          ]
        },
        {
          "output_type": "display_data",
          "data": {
            "text/plain": [
              "<Figure size 144x720 with 20 Axes>"
            ],
            "image/png": "[encoded data removed]"
          },
          "metadata": {
            "needs_background": "light"
          }
        }
      ]
    },
    {
      "cell_type": "markdown",
      "source": [
        "#Q2: Plot the reconstruction loss and discriminator loss over all the epochs in one graph"
      ],
      "metadata": {
        "id": "RuhzvcTj8zef"
      }
    },
    {
      "cell_type": "markdown",
      "source": [
        "Discrimator loss increases initially and almost remain constant whereas reconstruction loss decress with epoch. Weigths of encoder and decoder are so as trained such that decoder tries to output the same input image taking output of encoder so as model trains reconstruction loss decreases. Discriminator tries to discriminate the output encoder generates and random gaussian sample as the encoder learns to generate samples like gaussian distribution discriminator fails to identify real and fake input so loss of discriminator remains almost constant.\n"
      ],
      "metadata": {
        "id": "hHPqpPZ7-E9s"
      }
    },
    {
      "cell_type": "code",
      "source": [
        "#a\n",
        "plt.plot(bce_dloss, label=\"discriminative loss\")\n",
        "plt.plot(bce_rloss, label=\"reconstruction loss\")\n",
        "plt.legend()\n",
        "plt.title('BCE')\n",
        "plt.show()"
      ],
      "metadata": {
        "colab": {
          "base_uri": "https://localhost:8080/",
          "height": 281
        },
        "id": "lQdaiY750Hjo",
        "outputId": "21c6756d-cc2a-4876-cbf8-9646e33bead2"
      },
      "execution_count": 52,
      "outputs": [
        {
          "output_type": "display_data",
          "data": {
            "text/plain": [
              "<Figure size 432x288 with 1 Axes>"
            ],
            "image/png": "[encoded data removed]"
          },
          "metadata": {
            "needs_background": "light"
          }
        }
      ]
    },
    {
      "cell_type": "code",
      "source": [
        "#b\n",
        "plt.plot(ssim_dloss, label=\"discriminative loss\")\n",
        "plt.plot(ssim_rloss, label=\"reconstruction loss\")\n",
        "plt.legend()\n",
        "plt.title('SSIM')\n",
        "plt.show()"
      ],
      "metadata": {
        "colab": {
          "base_uri": "https://localhost:8080/",
          "height": 281
        },
        "id": "9TWCHc0mGW_m",
        "outputId": "6069e289-c0fa-49f4-97f5-2e75e77879bd"
      },
      "execution_count": 53,
      "outputs": [
        {
          "output_type": "display_data",
          "data": {
            "text/plain": [
              "<Figure size 432x288 with 1 Axes>"
            ],
            "image/png": "[encoded data removed]"
          },
          "metadata": {
            "needs_background": "light"
          }
        }
      ]
    },
    {
      "cell_type": "code",
      "source": [
        "#c\n",
        "plt.plot(mse_dloss, label=\"discriminative loss\")\n",
        "plt.plot(mse_rloss, label=\"reconstruction loss\")\n",
        "plt.legend()\n",
        "plt.title('MSE')\n",
        "plt.show()"
      ],
      "metadata": {
        "colab": {
          "base_uri": "https://localhost:8080/",
          "height": 281
        },
        "id": "R--UQnXIGbPj",
        "outputId": "378a5747-7331-445f-bc7a-35d3b2eb42fc"
      },
      "execution_count": 54,
      "outputs": [
        {
          "output_type": "display_data",
          "data": {
            "text/plain": [
              "<Figure size 432x288 with 1 Axes>"
            ],
            "image/png": "[encoded data removed]"
          },
          "metadata": {
            "needs_background": "light"
          }
        }
      ]
    },
    {
      "cell_type": "markdown",
      "source": [
        "#Q3:"
      ],
      "metadata": {
        "id": "fo7XulSJ-708"
      }
    },
    {
      "cell_type": "markdown",
      "source": [
        "Here the Vanilla Autoencoder is a neural network that is trained to produce an output which is very similar to its input trained in an unsupervised manner, without the labels.\n",
        "\n",
        "1. Encoder: It takes in an input x and produces an output h (intermediate state). Here, the encoder can take in an image x of size 28 x 28 and produce an output h of size 2 x 1. The encoder in this case just compresses the image such that it’ll occupy a lower dimensional space, on doing so we can now see that h could be stored using less memory than directly storing the image x.\n",
        "\n",
        "2. Decoder: It takes in the output of an encoder h and tries to reconstruct the input at its output. Here, h is of size 2 x 1, the decoder tries to get back the original 28 x 28 image using h. We’ll train the decoder to get back as much information as possible from h to reconstruct x.\n",
        "\n",
        "The Discriminator is feed with real gaussian sample and output of discriminator is set to 1 and output of encoderare feed to discriminator keeping target to 0 so that discriminator learns to classify real and fake input of gaussian distribution\n",
        "\n",
        "Weigths of encoder are trained such that discriminator identifies it to be true thus encoder learns to output in given distribution\n",
        "latent variable produced by encoder is feed to decoder to generate image"
      ],
      "metadata": {
        "id": "OuR-LADF_UkD"
      }
    },
    {
      "cell_type": "markdown",
      "source": [
        "#Q4. Plot the training accuracy and loss values for all the 3 loss functions as 2 separate plots"
      ],
      "metadata": {
        "id": "TVBjXGKe_VGQ"
      }
    },
    {
      "cell_type": "code",
      "source": [
        "plt.plot(bce_acc, label='bse')\n",
        "plt.plot(ssim_acc, label='ssim')\n",
        "plt.plot(mse_acc, label='mse')\n",
        "plt.legend()\n",
        "plt.title(\"Accuracy\")\n",
        "plt.show()"
      ],
      "metadata": {
        "colab": {
          "base_uri": "https://localhost:8080/",
          "height": 281
        },
        "id": "WJlOqe2_9jRz",
        "outputId": "ccd52397-e45b-4904-e70c-fcf3da1a2113"
      },
      "execution_count": 55,
      "outputs": [
        {
          "output_type": "display_data",
          "data": {
            "text/plain": [
              "<Figure size 432x288 with 1 Axes>"
            ],
            "image/png": "[encoded data removed]"
          },
          "metadata": {
            "needs_background": "light"
          }
        }
      ]
    },
    {
      "cell_type": "code",
      "source": [
        "plt.plot(bce_dloss, label='bse')\n",
        "plt.plot(ssim_dloss, label='ssim')\n",
        "plt.plot(mse_dloss, label='mse')\n",
        "plt.legend()\n",
        "plt.title(\"Loss\")\n",
        "plt.show()"
      ],
      "metadata": {
        "colab": {
          "base_uri": "https://localhost:8080/",
          "height": 281
        },
        "id": "TK8_DQsT_g6j",
        "outputId": "64898cd1-2106-41af-9d8f-2054225711bb"
      },
      "execution_count": 56,
      "outputs": [
        {
          "output_type": "display_data",
          "data": {
            "text/plain": [
              "<Figure size 432x288 with 1 Axes>"
            ],
            "image/png": "[encoded data removed]"
          },
          "metadata": {
            "needs_background": "light"
          }
        }
      ]
    },
    {
      "cell_type": "markdown",
      "source": [
        "#Q5"
      ],
      "metadata": {
        "id": "Ew1h0AsC_8DU"
      }
    },
    {
      "cell_type": "markdown",
      "source": [
        "Losses perform equally but BCE in intial training epoch showed better performance, \n",
        "\n",
        "In middle and ending stage of training loss is almost same and constant for all 3 loses. \n",
        "\n",
        "Also from accuracy plot BCE has highest accuracy out of all other Losses so BCE is favourable"
      ],
      "metadata": {
        "id": "qJoFFgJv_9jA"
      }
    },
    {
      "cell_type": "code",
      "source": [
        ""
      ],
      "metadata": {
        "id": "CVtSm9C7_9HJ"
      },
      "execution_count": null,
      "outputs": []
    }
  ]
}